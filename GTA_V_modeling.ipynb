{
 "cells": [
  {
   "cell_type": "code",
   "execution_count": 1,
   "metadata": {},
   "outputs": [],
   "source": [
    "import pandas as pd\n",
    "import numpy as np\n",
    "import matplotlib.pyplot as plt\n",
    "import seaborn as sns\n",
    "\n",
    "import re\n",
    "import string\n",
    "import itertools\n",
    "\n",
    "import nltk \n",
    "from nltk.corpus import sentiwordnet as swn \n",
    "\n",
    "from afinn import Afinn\n",
    "from plotnine import ggplot, aes, geom_bar, labs, xlim\n",
    "\n",
    "import gensim\n",
    "from gensim import corpora\n",
    "from gensim.models import LdaModel\n",
    "from gensim.models import CoherenceModel\n",
    "from gensim.utils import simple_preprocess\n",
    "\n",
    "from sklearn.svm import SVC\n",
    "from sklearn.feature_extraction.text import TfidfVectorizer\n",
    "from sklearn.ensemble import RandomForestClassifier\n",
    "from sklearn.model_selection import GridSearchCV\n",
    "from sklearn.model_selection import train_test_split\n",
    "from sklearn.feature_extraction.text import CountVectorizer\n",
    "from sklearn.linear_model import LogisticRegression\n",
    "from sklearn.metrics import accuracy_score, precision_score, recall_score, f1_score, confusion_matrix, ConfusionMatrixDisplay\n",
    "from sklearn.pipeline import Pipeline\n",
    "from sklearn.naive_bayes import MultinomialNB\n",
    "from sklearn.naive_bayes import GaussianNB\n",
    "\n",
    "\n",
    "\n",
    "# from keras.models import Sequential\n",
    "# from keras.layers import Embedding, Conv1D, MaxPooling1D, Flatten, Dense\n",
    "# from keras.optimizers import Adam\n",
    "# from keras.callbacks import EarlyStopping\n",
    "# from keras.utils import to_categorical\n",
    "\n"
   ]
  },
  {
   "cell_type": "code",
   "execution_count": 2,
   "metadata": {},
   "outputs": [
    {
     "data": {
      "text/html": [
       "<div>\n",
       "<style scoped>\n",
       "    .dataframe tbody tr th:only-of-type {\n",
       "        vertical-align: middle;\n",
       "    }\n",
       "\n",
       "    .dataframe tbody tr th {\n",
       "        vertical-align: top;\n",
       "    }\n",
       "\n",
       "    .dataframe thead th {\n",
       "        text-align: right;\n",
       "    }\n",
       "</style>\n",
       "<table border=\"1\" class=\"dataframe\">\n",
       "  <thead>\n",
       "    <tr style=\"text-align: right;\">\n",
       "      <th></th>\n",
       "      <th>recommendationid</th>\n",
       "      <th>review</th>\n",
       "      <th>timestamp_created</th>\n",
       "      <th>timestamp_updated</th>\n",
       "      <th>voted_up</th>\n",
       "      <th>votes_up</th>\n",
       "      <th>steamid</th>\n",
       "      <th>playtime_forever</th>\n",
       "      <th>last_played</th>\n",
       "      <th>preprocessed_text</th>\n",
       "    </tr>\n",
       "  </thead>\n",
       "  <tbody>\n",
       "    <tr>\n",
       "      <th>0</th>\n",
       "      <td>134420493</td>\n",
       "      <td>very fun game to play with your friends</td>\n",
       "      <td>1678472945</td>\n",
       "      <td>1678472945</td>\n",
       "      <td>True</td>\n",
       "      <td>0</td>\n",
       "      <td>76561198449880601</td>\n",
       "      <td>28692</td>\n",
       "      <td>2023-03-10 13:27:19</td>\n",
       "      <td>['fun', 'game', 'friend', 'play']</td>\n",
       "    </tr>\n",
       "    <tr>\n",
       "      <th>1</th>\n",
       "      <td>134420229</td>\n",
       "      <td>Drive, rob repeat</td>\n",
       "      <td>1678472640</td>\n",
       "      <td>1678472640</td>\n",
       "      <td>True</td>\n",
       "      <td>0</td>\n",
       "      <td>76561199010534593</td>\n",
       "      <td>17734</td>\n",
       "      <td>2023-03-10 11:09:46</td>\n",
       "      <td>['rob', 'repeat', 'drive']</td>\n",
       "    </tr>\n",
       "    <tr>\n",
       "      <th>2</th>\n",
       "      <td>134415676</td>\n",
       "      <td>It's fun.</td>\n",
       "      <td>1678467049</td>\n",
       "      <td>1678467049</td>\n",
       "      <td>True</td>\n",
       "      <td>0</td>\n",
       "      <td>76561199164783545</td>\n",
       "      <td>12915</td>\n",
       "      <td>2023-02-09 01:42:35</td>\n",
       "      <td>['fun']</td>\n",
       "    </tr>\n",
       "    <tr>\n",
       "      <th>3</th>\n",
       "      <td>134413916</td>\n",
       "      <td>Its GTA 5 ! \\nWhats there to say, Its awesome</td>\n",
       "      <td>1678464935</td>\n",
       "      <td>1678464935</td>\n",
       "      <td>True</td>\n",
       "      <td>0</td>\n",
       "      <td>76561198255277604</td>\n",
       "      <td>19630</td>\n",
       "      <td>2023-03-10 13:50:37</td>\n",
       "      <td>['whats', 'say', 'awesome', 'gta']</td>\n",
       "    </tr>\n",
       "    <tr>\n",
       "      <th>4</th>\n",
       "      <td>134408736</td>\n",
       "      <td>DAMN GAME\\n</td>\n",
       "      <td>1678460718</td>\n",
       "      <td>1678460718</td>\n",
       "      <td>True</td>\n",
       "      <td>0</td>\n",
       "      <td>76561199094970526</td>\n",
       "      <td>12964</td>\n",
       "      <td>2023-03-10 11:25:28</td>\n",
       "      <td>['game', 'damn']</td>\n",
       "    </tr>\n",
       "  </tbody>\n",
       "</table>\n",
       "</div>"
      ],
      "text/plain": [
       "   recommendationid                                         review  \\\n",
       "0         134420493        very fun game to play with your friends   \n",
       "1         134420229                              Drive, rob repeat   \n",
       "2         134415676                                      It's fun.   \n",
       "3         134413916  Its GTA 5 ! \\nWhats there to say, Its awesome   \n",
       "4         134408736                                    DAMN GAME\\n   \n",
       "\n",
       "   timestamp_created  timestamp_updated  voted_up  votes_up  \\\n",
       "0         1678472945         1678472945      True         0   \n",
       "1         1678472640         1678472640      True         0   \n",
       "2         1678467049         1678467049      True         0   \n",
       "3         1678464935         1678464935      True         0   \n",
       "4         1678460718         1678460718      True         0   \n",
       "\n",
       "             steamid  playtime_forever          last_played  \\\n",
       "0  76561198449880601             28692  2023-03-10 13:27:19   \n",
       "1  76561199010534593             17734  2023-03-10 11:09:46   \n",
       "2  76561199164783545             12915  2023-02-09 01:42:35   \n",
       "3  76561198255277604             19630  2023-03-10 13:50:37   \n",
       "4  76561199094970526             12964  2023-03-10 11:25:28   \n",
       "\n",
       "                    preprocessed_text  \n",
       "0   ['fun', 'game', 'friend', 'play']  \n",
       "1          ['rob', 'repeat', 'drive']  \n",
       "2                             ['fun']  \n",
       "3  ['whats', 'say', 'awesome', 'gta']  \n",
       "4                    ['game', 'damn']  "
      ]
     },
     "execution_count": 2,
     "metadata": {},
     "output_type": "execute_result"
    }
   ],
   "source": [
    "df = pd.read_csv('GTA_V_cleaned.csv')\n",
    "df.head()"
   ]
  },
  {
   "cell_type": "code",
   "execution_count": 3,
   "metadata": {},
   "outputs": [],
   "source": [
    "df_up = df.loc[df['voted_up']==True]"
   ]
  },
  {
   "cell_type": "code",
   "execution_count": 4,
   "metadata": {},
   "outputs": [
    {
     "data": {
      "text/html": [
       "<div>\n",
       "<style scoped>\n",
       "    .dataframe tbody tr th:only-of-type {\n",
       "        vertical-align: middle;\n",
       "    }\n",
       "\n",
       "    .dataframe tbody tr th {\n",
       "        vertical-align: top;\n",
       "    }\n",
       "\n",
       "    .dataframe thead th {\n",
       "        text-align: right;\n",
       "    }\n",
       "</style>\n",
       "<table border=\"1\" class=\"dataframe\">\n",
       "  <thead>\n",
       "    <tr style=\"text-align: right;\">\n",
       "      <th></th>\n",
       "      <th>recommendationid</th>\n",
       "      <th>review</th>\n",
       "      <th>timestamp_created</th>\n",
       "      <th>timestamp_updated</th>\n",
       "      <th>voted_up</th>\n",
       "      <th>votes_up</th>\n",
       "      <th>steamid</th>\n",
       "      <th>playtime_forever</th>\n",
       "      <th>last_played</th>\n",
       "      <th>preprocessed_text</th>\n",
       "    </tr>\n",
       "  </thead>\n",
       "  <tbody>\n",
       "    <tr>\n",
       "      <th>0</th>\n",
       "      <td>134420493</td>\n",
       "      <td>very fun game to play with your friends</td>\n",
       "      <td>1678472945</td>\n",
       "      <td>1678472945</td>\n",
       "      <td>True</td>\n",
       "      <td>0</td>\n",
       "      <td>76561198449880601</td>\n",
       "      <td>28692</td>\n",
       "      <td>2023-03-10 13:27:19</td>\n",
       "      <td>['fun', 'game', 'friend', 'play']</td>\n",
       "    </tr>\n",
       "    <tr>\n",
       "      <th>1</th>\n",
       "      <td>134420229</td>\n",
       "      <td>Drive, rob repeat</td>\n",
       "      <td>1678472640</td>\n",
       "      <td>1678472640</td>\n",
       "      <td>True</td>\n",
       "      <td>0</td>\n",
       "      <td>76561199010534593</td>\n",
       "      <td>17734</td>\n",
       "      <td>2023-03-10 11:09:46</td>\n",
       "      <td>['rob', 'repeat', 'drive']</td>\n",
       "    </tr>\n",
       "    <tr>\n",
       "      <th>2</th>\n",
       "      <td>134415676</td>\n",
       "      <td>It's fun.</td>\n",
       "      <td>1678467049</td>\n",
       "      <td>1678467049</td>\n",
       "      <td>True</td>\n",
       "      <td>0</td>\n",
       "      <td>76561199164783545</td>\n",
       "      <td>12915</td>\n",
       "      <td>2023-02-09 01:42:35</td>\n",
       "      <td>['fun']</td>\n",
       "    </tr>\n",
       "    <tr>\n",
       "      <th>3</th>\n",
       "      <td>134413916</td>\n",
       "      <td>Its GTA 5 ! \\nWhats there to say, Its awesome</td>\n",
       "      <td>1678464935</td>\n",
       "      <td>1678464935</td>\n",
       "      <td>True</td>\n",
       "      <td>0</td>\n",
       "      <td>76561198255277604</td>\n",
       "      <td>19630</td>\n",
       "      <td>2023-03-10 13:50:37</td>\n",
       "      <td>['whats', 'say', 'awesome', 'gta']</td>\n",
       "    </tr>\n",
       "    <tr>\n",
       "      <th>4</th>\n",
       "      <td>134408736</td>\n",
       "      <td>DAMN GAME\\n</td>\n",
       "      <td>1678460718</td>\n",
       "      <td>1678460718</td>\n",
       "      <td>True</td>\n",
       "      <td>0</td>\n",
       "      <td>76561199094970526</td>\n",
       "      <td>12964</td>\n",
       "      <td>2023-03-10 11:25:28</td>\n",
       "      <td>['game', 'damn']</td>\n",
       "    </tr>\n",
       "    <tr>\n",
       "      <th>...</th>\n",
       "      <td>...</td>\n",
       "      <td>...</td>\n",
       "      <td>...</td>\n",
       "      <td>...</td>\n",
       "      <td>...</td>\n",
       "      <td>...</td>\n",
       "      <td>...</td>\n",
       "      <td>...</td>\n",
       "      <td>...</td>\n",
       "      <td>...</td>\n",
       "    </tr>\n",
       "    <tr>\n",
       "      <th>13030</th>\n",
       "      <td>117932451</td>\n",
       "      <td>the most difficult game to play only for proff...</td>\n",
       "      <td>1656600456</td>\n",
       "      <td>1656600456</td>\n",
       "      <td>True</td>\n",
       "      <td>0</td>\n",
       "      <td>76561199095199594</td>\n",
       "      <td>48679</td>\n",
       "      <td>2023-03-10 00:10:12</td>\n",
       "      <td>['difficult', 'game', 'proffessional', 'player...</td>\n",
       "    </tr>\n",
       "    <tr>\n",
       "      <th>13031</th>\n",
       "      <td>117932281</td>\n",
       "      <td>ewee</td>\n",
       "      <td>1656600278</td>\n",
       "      <td>1656600278</td>\n",
       "      <td>True</td>\n",
       "      <td>0</td>\n",
       "      <td>76561199097752525</td>\n",
       "      <td>34669</td>\n",
       "      <td>2022-07-13 00:04:56</td>\n",
       "      <td>['ewee']</td>\n",
       "    </tr>\n",
       "    <tr>\n",
       "      <th>13032</th>\n",
       "      <td>117931745</td>\n",
       "      <td>yes</td>\n",
       "      <td>1656599722</td>\n",
       "      <td>1656599722</td>\n",
       "      <td>True</td>\n",
       "      <td>0</td>\n",
       "      <td>76561199230184990</td>\n",
       "      <td>30760</td>\n",
       "      <td>2023-02-28 19:20:06</td>\n",
       "      <td>['yes']</td>\n",
       "    </tr>\n",
       "    <tr>\n",
       "      <th>13033</th>\n",
       "      <td>117931477</td>\n",
       "      <td>hi</td>\n",
       "      <td>1656599439</td>\n",
       "      <td>1656599439</td>\n",
       "      <td>True</td>\n",
       "      <td>0</td>\n",
       "      <td>76561199197433440</td>\n",
       "      <td>49095</td>\n",
       "      <td>2023-03-10 01:19:48</td>\n",
       "      <td>['hi']</td>\n",
       "    </tr>\n",
       "    <tr>\n",
       "      <th>13034</th>\n",
       "      <td>117930980</td>\n",
       "      <td>Great game</td>\n",
       "      <td>1656598865</td>\n",
       "      <td>1656598865</td>\n",
       "      <td>True</td>\n",
       "      <td>0</td>\n",
       "      <td>76561198069743529</td>\n",
       "      <td>13590</td>\n",
       "      <td>2022-12-08 21:30:12</td>\n",
       "      <td>['great', 'game']</td>\n",
       "    </tr>\n",
       "  </tbody>\n",
       "</table>\n",
       "<p>11124 rows × 10 columns</p>\n",
       "</div>"
      ],
      "text/plain": [
       "       recommendationid                                             review  \\\n",
       "0             134420493            very fun game to play with your friends   \n",
       "1             134420229                                  Drive, rob repeat   \n",
       "2             134415676                                          It's fun.   \n",
       "3             134413916      Its GTA 5 ! \\nWhats there to say, Its awesome   \n",
       "4             134408736                                        DAMN GAME\\n   \n",
       "...                 ...                                                ...   \n",
       "13030         117932451  the most difficult game to play only for proff...   \n",
       "13031         117932281                                               ewee   \n",
       "13032         117931745                                                yes   \n",
       "13033         117931477                                                 hi   \n",
       "13034         117930980                                         Great game   \n",
       "\n",
       "       timestamp_created  timestamp_updated  voted_up  votes_up  \\\n",
       "0             1678472945         1678472945      True         0   \n",
       "1             1678472640         1678472640      True         0   \n",
       "2             1678467049         1678467049      True         0   \n",
       "3             1678464935         1678464935      True         0   \n",
       "4             1678460718         1678460718      True         0   \n",
       "...                  ...                ...       ...       ...   \n",
       "13030         1656600456         1656600456      True         0   \n",
       "13031         1656600278         1656600278      True         0   \n",
       "13032         1656599722         1656599722      True         0   \n",
       "13033         1656599439         1656599439      True         0   \n",
       "13034         1656598865         1656598865      True         0   \n",
       "\n",
       "                 steamid  playtime_forever          last_played  \\\n",
       "0      76561198449880601             28692  2023-03-10 13:27:19   \n",
       "1      76561199010534593             17734  2023-03-10 11:09:46   \n",
       "2      76561199164783545             12915  2023-02-09 01:42:35   \n",
       "3      76561198255277604             19630  2023-03-10 13:50:37   \n",
       "4      76561199094970526             12964  2023-03-10 11:25:28   \n",
       "...                  ...               ...                  ...   \n",
       "13030  76561199095199594             48679  2023-03-10 00:10:12   \n",
       "13031  76561199097752525             34669  2022-07-13 00:04:56   \n",
       "13032  76561199230184990             30760  2023-02-28 19:20:06   \n",
       "13033  76561199197433440             49095  2023-03-10 01:19:48   \n",
       "13034  76561198069743529             13590  2022-12-08 21:30:12   \n",
       "\n",
       "                                       preprocessed_text  \n",
       "0                      ['fun', 'game', 'friend', 'play']  \n",
       "1                             ['rob', 'repeat', 'drive']  \n",
       "2                                                ['fun']  \n",
       "3                     ['whats', 'say', 'awesome', 'gta']  \n",
       "4                                       ['game', 'damn']  \n",
       "...                                                  ...  \n",
       "13030  ['difficult', 'game', 'proffessional', 'player...  \n",
       "13031                                           ['ewee']  \n",
       "13032                                            ['yes']  \n",
       "13033                                             ['hi']  \n",
       "13034                                  ['great', 'game']  \n",
       "\n",
       "[11124 rows x 10 columns]"
      ]
     },
     "execution_count": 4,
     "metadata": {},
     "output_type": "execute_result"
    }
   ],
   "source": [
    "df_up"
   ]
  },
  {
   "cell_type": "code",
   "execution_count": 5,
   "metadata": {},
   "outputs": [
    {
     "data": {
      "text/plain": [
       "3.0"
      ]
     },
     "execution_count": 5,
     "metadata": {},
     "output_type": "execute_result"
    }
   ],
   "source": [
    "afinn = Afinn()\n",
    "afinn.score('love')\n",
    "\n"
   ]
  },
  {
   "cell_type": "code",
   "execution_count": 6,
   "metadata": {},
   "outputs": [
    {
     "data": {
      "text/plain": [
       "'this game is redonkulous!! it just like real life!!!'"
      ]
     },
     "execution_count": 6,
     "metadata": {},
     "output_type": "execute_result"
    }
   ],
   "source": [
    "test = df_up['review'][11]\n",
    "test_text = ''.join(test)\n",
    "test_text"
   ]
  },
  {
   "cell_type": "code",
   "execution_count": 7,
   "metadata": {},
   "outputs": [
    {
     "name": "stdout",
     "output_type": "stream",
     "text": [
      "2.0\n"
     ]
    }
   ],
   "source": [
    "score = afinn.score(test_text)\n",
    "print(score)"
   ]
  },
  {
   "cell_type": "code",
   "execution_count": 8,
   "metadata": {},
   "outputs": [],
   "source": [
    "def calculate_sentiment_score(text):\n",
    "    return afinn.score(text)"
   ]
  },
  {
   "cell_type": "code",
   "execution_count": 9,
   "metadata": {},
   "outputs": [
    {
     "name": "stderr",
     "output_type": "stream",
     "text": [
      "/var/folders/18/920vt1r90t39q35zb6glj_6h0000gn/T/ipykernel_8712/4195137041.py:1: SettingWithCopyWarning: \n",
      "A value is trying to be set on a copy of a slice from a DataFrame.\n",
      "Try using .loc[row_indexer,col_indexer] = value instead\n",
      "\n",
      "See the caveats in the documentation: https://pandas.pydata.org/pandas-docs/stable/user_guide/indexing.html#returning-a-view-versus-a-copy\n"
     ]
    },
    {
     "data": {
      "text/plain": [
       "count    11124.000000\n",
       "mean         1.825153\n",
       "std          3.270190\n",
       "min        -51.000000\n",
       "25%          0.000000\n",
       "50%          2.000000\n",
       "75%          3.000000\n",
       "max         47.000000\n",
       "Name: sentiment_score, dtype: float64"
      ]
     },
     "execution_count": 9,
     "metadata": {},
     "output_type": "execute_result"
    }
   ],
   "source": [
    "df_up['sentiment_score'] = df_up['preprocessed_text'].apply(calculate_sentiment_score)\n",
    "df_up['sentiment_score'].describe()"
   ]
  },
  {
   "cell_type": "code",
   "execution_count": 10,
   "metadata": {},
   "outputs": [
    {
     "name": "stdout",
     "output_type": "stream",
     "text": [
      "As a game programmer and level designer with over 2,050 hours on record, and having posted over 300 videos of GTA V on my YouTube channel, I can confidently say that this game is a masterpiece that deserves all the praise it gets.\n",
      "\n",
      "Graphics: 10/10\n",
      "The graphics in GTA V are top-notch, with amazing textures, lighting, and special effects that make every pixel pop. As a self-proclaimed graphics nerd, I can appreciate the amount of work that went into creating such a visually stunning game.\n",
      "\n",
      "Gameplay: 9/10\n",
      "The gameplay in GTA V is a mix of action, adventure, and sandbox goodness, with an almost infinite array of things to do and places to explore. As a game designer, I can't help but be impressed by the level of creativity and attention to detail that went into crafting such an immersive game.\n",
      "\n",
      "Storyline: 8/10\n",
      "The storyline in GTA V is a rollercoaster of drama, comedy, and epicness, with unforgettable characters and plot twists that will leave you wanting more. As a self-proclaimed story nerd, I can appreciate the amount of effort that went into creating such a well-written and memorable narrative.\n",
      "\n",
      "Soundtrack: 10/10\n",
      "The soundtrack in GTA V is an eclectic mix of genres, with some of the best licensed music ever featured in a video game. As a music nerd, I can't help but be impressed by the level of variety and quality in the game's soundtrack.\n",
      "\n",
      "One detail that common gamers often miss is the amount of detail and realism in the game's physics and AI systems. As a self-proclaimed nerd, I've spent countless hours experimenting with the game's physics and observing the behavior of NPCs, and let me tell you, the amount of complexity and accuracy in these systems is mind-blowing.\n",
      "\n",
      "In conclusion, if you're a fellow nerd like me, and you love games that offer endless possibilities for exploration and experimentation, then Grand Theft Auto V is a must-play. And if you want to see just how much fun you can have in this game.\n"
     ]
    }
   ],
   "source": [
    "upper_outl = df_up.loc[df_up['sentiment_score']==47]\n",
    "print(df.loc[509,'review'])"
   ]
  },
  {
   "cell_type": "code",
   "execution_count": 11,
   "metadata": {},
   "outputs": [
    {
     "data": {
      "text/plain": [
       " 0.0     3684\n",
       " 3.0     2789\n",
       " 4.0     1042\n",
       " 1.0      794\n",
       " 2.0      626\n",
       " 5.0      305\n",
       "-3.0      271\n",
       "-2.0      257\n",
       "-1.0      241\n",
       " 6.0      235\n",
       " 7.0      200\n",
       " 8.0      123\n",
       "-4.0      114\n",
       " 9.0       70\n",
       "-5.0       54\n",
       " 10.0      51\n",
       " 11.0      47\n",
       "-6.0       32\n",
       " 13.0      28\n",
       " 12.0      23\n",
       " 14.0      21\n",
       "-7.0       17\n",
       " 16.0      15\n",
       "-8.0       11\n",
       " 15.0      10\n",
       "-9.0        9\n",
       "-11.0       7\n",
       " 19.0       4\n",
       " 18.0       4\n",
       "-16.0       4\n",
       " 17.0       3\n",
       "-51.0       3\n",
       " 20.0       3\n",
       " 29.0       2\n",
       "-15.0       2\n",
       " 21.0       2\n",
       "-12.0       2\n",
       " 22.0       2\n",
       "-10.0       2\n",
       "-13.0       2\n",
       " 30.0       1\n",
       "-18.0       1\n",
       " 39.0       1\n",
       " 25.0       1\n",
       " 26.0       1\n",
       " 31.0       1\n",
       "-23.0       1\n",
       " 23.0       1\n",
       "-44.0       1\n",
       " 28.0       1\n",
       " 47.0       1\n",
       " 40.0       1\n",
       "-17.0       1\n",
       "Name: sentiment_score, dtype: int64"
      ]
     },
     "execution_count": 11,
     "metadata": {},
     "output_type": "execute_result"
    }
   ],
   "source": [
    "df_up['sentiment_score'].value_counts()"
   ]
  },
  {
   "cell_type": "code",
   "execution_count": 12,
   "metadata": {},
   "outputs": [
    {
     "name": "stderr",
     "output_type": "stream",
     "text": [
      "/Users/los/opt/anaconda3/lib/python3.9/site-packages/plotnine/layer.py:333: PlotnineWarning: stat_count : Removed 947 rows containing non-finite values.\n",
      "/Users/los/opt/anaconda3/lib/python3.9/site-packages/plotnine/layer.py:411: PlotnineWarning: geom_bar : Removed 2 rows containing missing values.\n"
     ]
    },
    {
     "data": {
      "image/png": "[encoded data removed]",
      "text/plain": [
       "<Figure size 640x480 with 1 Axes>"
      ]
     },
     "metadata": {},
     "output_type": "display_data"
    },
    {
     "data": {
      "text/plain": [
       "<ggplot: (8769350030388)>"
      ]
     },
     "execution_count": 12,
     "metadata": {},
     "output_type": "execute_result"
    }
   ],
   "source": [
    "(ggplot(df_up, aes(x='sentiment_score')) \n",
    " + geom_bar() \n",
    " + labs(x=\"Sentiment Score\", y=\"Frequency\") \n",
    " + xlim(-5, 5)\n",
    ")"
   ]
  },
  {
   "attachments": {},
   "cell_type": "markdown",
   "metadata": {},
   "source": [
    "### Overall sentiment using AFINN shows that game rarely gets below a nuetral (0) but also has just as many users with positive sentiment as nuetral\n"
   ]
  },
  {
   "cell_type": "code",
   "execution_count": 13,
   "metadata": {},
   "outputs": [
    {
     "name": "stdout",
     "output_type": "stream",
     "text": [
      "Review: ok\n",
      "Cleaned Review: ['ok']\n",
      "Sentiment score: 0.0\n",
      "\n",
      "Review: game như cc yêu cầu xóa game khỏi steam\n",
      "Cleaned Review: ['steam', 'yêu', 'như', 'game', 'cc', 'xóa', 'cầu', 'khỏi']\n",
      "Sentiment score: 0.0\n",
      "\n",
      "Review: bercumbu dan berpacu\n",
      "Cleaned Review: ['bercumbu', 'dan', 'berpacu']\n",
      "Sentiment score: 0.0\n",
      "\n",
      "Review: Its gta idk how you could down vote this\n",
      "Cleaned Review: ['idk', 'vote', 'gta', 'could']\n",
      "Sentiment score: 0.0\n",
      "\n",
      "Review: 500 hours\n",
      "Cleaned Review: ['hour']\n",
      "Sentiment score: 0.0\n",
      "\n",
      "Review: it toatly lit\n",
      "Cleaned Review: ['toatly', 'lit']\n",
      "Sentiment score: 0.0\n",
      "\n",
      "Review: GOAT\n",
      "Cleaned Review: ['goat']\n",
      "Sentiment score: 0.0\n",
      "\n",
      "Review: Great game to get lost in for a bit.\n",
      "Cleaned Review: ['lost', 'great', 'game', 'bit', 'get']\n",
      "Sentiment score: 0.0\n",
      "\n",
      "Review: dfg\n",
      "Cleaned Review: ['dfg']\n",
      "Sentiment score: 0.0\n",
      "\n",
      "Review: el unico juego donde puedes volar una moto que vuela\n",
      "Cleaned Review: ['donde', 'juego', 'una', 'que', 'puedes', 'unico', 'volar', 'moto', 'el', 'vuela']\n",
      "Sentiment score: 0.0\n",
      "\n"
     ]
    }
   ],
   "source": [
    "nuetral_reviews = df_up[df_up['sentiment_score']==0]\n",
    "sample_nue_reviews = nuetral_reviews.sample(n=10)\n",
    "for index, row in sample_nue_reviews.iterrows():\n",
    "    print(f\"Review: {row['review']}\")\n",
    "    print(f\"Cleaned Review: {''.join(row['preprocessed_text'])}\")\n",
    "    print(f\"Sentiment score: {row['sentiment_score']}\\n\")\n"
   ]
  },
  {
   "cell_type": "code",
   "execution_count": 14,
   "metadata": {},
   "outputs": [
    {
     "name": "stdout",
     "output_type": "stream",
     "text": [
      "<class 'pandas.core.frame.DataFrame'>\n",
      "Int64Index: 3684 entries, 9 to 13033\n",
      "Data columns (total 11 columns):\n",
      " #   Column             Non-Null Count  Dtype  \n",
      "---  ------             --------------  -----  \n",
      " 0   recommendationid   3684 non-null   int64  \n",
      " 1   review             3684 non-null   object \n",
      " 2   timestamp_created  3684 non-null   int64  \n",
      " 3   timestamp_updated  3684 non-null   int64  \n",
      " 4   voted_up           3684 non-null   bool   \n",
      " 5   votes_up           3684 non-null   int64  \n",
      " 6   steamid            3684 non-null   int64  \n",
      " 7   playtime_forever   3684 non-null   int64  \n",
      " 8   last_played        3684 non-null   object \n",
      " 9   preprocessed_text  3684 non-null   object \n",
      " 10  sentiment_score    3684 non-null   float64\n",
      "dtypes: bool(1), float64(1), int64(6), object(3)\n",
      "memory usage: 320.2+ KB\n"
     ]
    }
   ],
   "source": [
    "nuetral_reviews.info()"
   ]
  },
  {
   "cell_type": "code",
   "execution_count": 15,
   "metadata": {},
   "outputs": [
    {
     "name": "stdout",
     "output_type": "stream",
     "text": [
      "Review: i hate this game\n",
      "Cleaned Review: ['game', 'hate']\n",
      "Sentiment score: -3.0\n",
      "\n",
      "Review: very good game if u cheat otherwise its shit\n",
      "Cleaned Review: ['otherwise', 'u', 'good', 'game', 'shit', 'cheat']\n",
      "Sentiment score: -4.0\n",
      "\n",
      "Review: i have a lot of games but most of them i played for couple of hours then i  stop playing them forever. but gta v i keep comming back to!\n",
      "Cleaned Review: ['game', 'forever', 'gta', 'lot', 'comming', 'keep', 'stop', 'hour', 'playing', 'couple', 'v', 'played', 'back']\n",
      "Sentiment score: -1.0\n",
      "\n",
      "Review: Extremely buggy, with frequent CTD's online, regardless of PC performance or file integrity.\n",
      "\n",
      "Still a blast to play, but a little frustrating\n",
      "\n",
      "Cleaned Review: ['performance', 'blast', 'pc', 'frustrating', 'play', 'file', 'extremely', 'ctds', 'regardless', 'frequent', 'integritystill', 'little', 'online', 'buggy']\n",
      "Sentiment score: -2.0\n",
      "\n",
      "Review: this game is very addictive. I can't stop playing\n",
      "Cleaned Review: ['addictive', 'game', 'cant', 'stop', 'playing']\n",
      "Sentiment score: -1.0\n",
      "\n",
      "Review: gave me cancer, hepatitis c and chlamydia\n",
      "Cleaned Review: ['cancer', 'chlamydia', 'c', 'gave', 'hepatitis']\n",
      "Sentiment score: -1.0\n",
      "\n",
      "Review: i stole a car, killed a man, smoked some weed and got drunk, and then went to buy GTAV.\n",
      "Cleaned Review: ['went', 'stole', 'smoked', 'weed', 'car', 'got', 'drunk', 'man', 'killed', 'buy', 'gtav']\n",
      "Sentiment score: -7.0\n",
      "\n",
      "Review: This game makes me want to die. \n",
      "8.5/10\n",
      "Cleaned Review: ['die', 'game', 'make', 'want']\n",
      "Sentiment score: -2.0\n",
      "\n",
      "Review: i mean it is GTA, nobody hate GTA\n",
      "Cleaned Review: ['mean', 'hate', 'nobody', 'gta']\n",
      "Sentiment score: -3.0\n",
      "\n",
      "Review: bombs ✔️\n",
      "fast cars ✔️\n",
      "prostitutes ✔️\n",
      "betting ✔️\n",
      "robbing casinos ✔️\n",
      "big submarine ✔️\n",
      "\n",
      "what else do you need?\n",
      "get this game if you dont have it\n",
      "Cleaned Review: ['dont', 'checkmarkwhat', 'checkmarkbetting', 'game', 'casino', 'checkmarkfast', 'bomb', 'else', 'car', 'needget', 'checkmarkbig', 'submarine', 'checkmarkprostitutes', 'checkmarkrobbing']\n",
      "Sentiment score: -1.0\n",
      "\n"
     ]
    }
   ],
   "source": [
    "negative_reviews = df_up[df_up['sentiment_score'] < 0]\n",
    "sample_neg_reviews = negative_reviews.sample(n=10)\n",
    "for index, row in sample_neg_reviews.iterrows():\n",
    "    print(f\"Review: {row['review']}\")\n",
    "    print(f\"Cleaned Review: {''.join(row['preprocessed_text'])}\")\n",
    "    print(f\"Sentiment score: {row['sentiment_score']}\\n\")"
   ]
  },
  {
   "cell_type": "code",
   "execution_count": 16,
   "metadata": {},
   "outputs": [
    {
     "name": "stdout",
     "output_type": "stream",
     "text": [
      "<class 'pandas.core.frame.DataFrame'>\n",
      "Int64Index: 1032 entries, 1 to 13030\n",
      "Data columns (total 11 columns):\n",
      " #   Column             Non-Null Count  Dtype  \n",
      "---  ------             --------------  -----  \n",
      " 0   recommendationid   1032 non-null   int64  \n",
      " 1   review             1032 non-null   object \n",
      " 2   timestamp_created  1032 non-null   int64  \n",
      " 3   timestamp_updated  1032 non-null   int64  \n",
      " 4   voted_up           1032 non-null   bool   \n",
      " 5   votes_up           1032 non-null   int64  \n",
      " 6   steamid            1032 non-null   int64  \n",
      " 7   playtime_forever   1032 non-null   int64  \n",
      " 8   last_played        1032 non-null   object \n",
      " 9   preprocessed_text  1032 non-null   object \n",
      " 10  sentiment_score    1032 non-null   float64\n",
      "dtypes: bool(1), float64(1), int64(6), object(3)\n",
      "memory usage: 89.7+ KB\n"
     ]
    }
   ],
   "source": [
    "negative_reviews.info()"
   ]
  },
  {
   "cell_type": "code",
   "execution_count": 17,
   "metadata": {},
   "outputs": [
    {
     "name": "stdout",
     "output_type": "stream",
     "text": [
      "Review: its great\n",
      "Cleaned Review: ['great']\n",
      "Sentiment score: 3.0\n",
      "\n",
      "Review: Very important for single people.......\n",
      "Cleaned Review: ['people', 'single', 'important']\n",
      "Sentiment score: 2.0\n",
      "\n",
      "Review: Good game, even my kids will get to play it before GTA 6 release...\n",
      "Cleaned Review: ['even', 'gta', 'good', 'game', 'release', 'kid', 'get', 'play']\n",
      "Sentiment score: 3.0\n",
      "\n",
      "Review: very good\n",
      "Cleaned Review: ['good']\n",
      "Sentiment score: 3.0\n",
      "\n",
      "Review: its more fun when its modded\n",
      "Cleaned Review: ['fun', 'modded']\n",
      "Sentiment score: 4.0\n",
      "\n",
      "Review: Very cool game but it's plagued by basic problems like anti cheat, and connectivity issues which send this game back 5 years\n",
      "I completed GTA III, Vice City, Liberty City Stories, SA and V 100% and I love these games, I also finished all the GTA Online's heists and main missions but I wouldn't search for all the collectibles as it's very tedious.\n",
      "\n",
      "There's a pattern of dull missions in GTA Online and it's saddening. It's such a great game with a questionable execution focusing mainly on boring you out of your money for shark cards... \n",
      "Ignoring many problems like incredible loading times and super expensive weaponry to battle against griefers you can actually have fun, but it's tiring and my friends who more casually play these games won't join this slow-loading game :/\n",
      "\n",
      "I have mixed feelings even after 1100 hours mostly playing online\n",
      "Cleaned Review: ['story', 'issue', 'vice', 'iii', 'saddening', 'shark', 'weaponry', 'wont', 'play', 'time', 'mixed', 'slowloading', 'friend', 'card', 'v', 'problem', 'anti', 'collectible', 'search', 'tedioustheres', 'pattern', 'like', 'online', 'mainly', 'gta', 'even', 'yearsi', 'city', 'great', 'plagued', 'money', 'super', 'basic', 'also', 'cool', 'griefers', 'battle', 'main', 'many', 'execution', 'ignoring', 'actually', 'join', 'feeling', 'game', 'connectivity', 'liberty', 'hour', 'questionable', 'mission', 'loading', 'playing', 'expensive', 'love', 'wouldnt', 'boring', 'back', 'sa', 'onlines', 'game', 'casually', 'finished', 'incredible', 'dull', 'send', 'mostly', 'fun', 'completed', 'tiring', 'heist', 'focusing', 'cheat']\n",
      "Sentiment score: 2.0\n",
      "\n",
      "Review: it's a good game (⌐■_■)\n",
      "Cleaned Review: ['⌐■■', 'good', 'game']\n",
      "Sentiment score: 3.0\n",
      "\n",
      "Review: very good very nice. i recommed the shoe store 9/10\n",
      "Cleaned Review: ['shoe', 'good', 'store', 'nice', 'recommed']\n",
      "Sentiment score: 6.0\n",
      "\n",
      "Review: great\n",
      "Cleaned Review: ['great']\n",
      "Sentiment score: 3.0\n",
      "\n",
      "Review: best game over. I play lspdfr on this and it is a lot of fun.\n",
      "Cleaned Review: ['lot', 'game', 'lspdfr', 'best', 'fun', 'play']\n",
      "Sentiment score: 7.0\n",
      "\n"
     ]
    }
   ],
   "source": [
    "positive_reviews = df_up[df_up['sentiment_score']>0]\n",
    "sample_pos_reviews = positive_reviews.sample(n=10)\n",
    "for index, row in sample_pos_reviews.iterrows():\n",
    "    print(f\"Review: {row['review']}\")\n",
    "    print(f\"Cleaned Review: {''.join(row['preprocessed_text'])}\")\n",
    "    print(f\"Sentiment score: {row['sentiment_score']}\\n\")"
   ]
  },
  {
   "cell_type": "code",
   "execution_count": 18,
   "metadata": {},
   "outputs": [
    {
     "name": "stdout",
     "output_type": "stream",
     "text": [
      "<class 'pandas.core.frame.DataFrame'>\n",
      "Int64Index: 6408 entries, 0 to 13034\n",
      "Data columns (total 11 columns):\n",
      " #   Column             Non-Null Count  Dtype  \n",
      "---  ------             --------------  -----  \n",
      " 0   recommendationid   6408 non-null   int64  \n",
      " 1   review             6408 non-null   object \n",
      " 2   timestamp_created  6408 non-null   int64  \n",
      " 3   timestamp_updated  6408 non-null   int64  \n",
      " 4   voted_up           6408 non-null   bool   \n",
      " 5   votes_up           6408 non-null   int64  \n",
      " 6   steamid            6408 non-null   int64  \n",
      " 7   playtime_forever   6408 non-null   int64  \n",
      " 8   last_played        6408 non-null   object \n",
      " 9   preprocessed_text  6408 non-null   object \n",
      " 10  sentiment_score    6408 non-null   float64\n",
      "dtypes: bool(1), float64(1), int64(6), object(3)\n",
      "memory usage: 556.9+ KB\n"
     ]
    }
   ],
   "source": [
    "positive_reviews.info()"
   ]
  },
  {
   "attachments": {},
   "cell_type": "markdown",
   "metadata": {},
   "source": [
    "### SentiWordNet"
   ]
  },
  {
   "cell_type": "code",
   "execution_count": 19,
   "metadata": {},
   "outputs": [],
   "source": [
    "swn_words = [word[0] for row in df_up['preprocessed_text'] for word in row]\n",
    "synsets = swn.senti_synsets('good', 'a')  # 'a' indicates that the word is an adjective\n",
    "pos_score = neg_score = obj_score = 0"
   ]
  },
  {
   "cell_type": "code",
   "execution_count": 20,
   "metadata": {},
   "outputs": [
    {
     "name": "stdout",
     "output_type": "stream",
     "text": [
      "Positive score: 13.00, Negative score: 0.12, Objective score: 7.88\n"
     ]
    }
   ],
   "source": [
    "for syn in synsets:\n",
    "    pos_score += syn.pos_score()\n",
    "    neg_score += syn.neg_score()\n",
    "    obj_score += syn.obj_score()\n",
    "\n",
    "if len(list(synsets)) >0:\n",
    "    pos_score /= len(synsets)\n",
    "    neg_score /= len(synsets)\n",
    "    obj_score /= len(synsets)\n",
    "print(f\"Positive score: {pos_score:.2f}, Negative score: {neg_score:.2f}, Objective score: {obj_score:.2f}\") #Retirating what previously seen, overall postive from all collected"
   ]
  },
  {
   "cell_type": "code",
   "execution_count": 21,
   "metadata": {},
   "outputs": [],
   "source": [
    "preprocessed_docs = gensim.models.phrases.Phrases(df_up[\"preprocessed_text\"], min_count = 2, threshold = 7)\n",
    "texts = [eval(text) for text in df_up['preprocessed_text']]\n",
    "dictionary = gensim.corpora.Dictionary(texts)\n",
    "corpus = [dictionary.doc2bow(text) for text in texts]\n",
    "coherence_dict = gensim.corpora.Dictionary(texts)\n",
    "num_topics = 4"
   ]
  },
  {
   "cell_type": "code",
   "execution_count": 22,
   "metadata": {},
   "outputs": [],
   "source": [
    "lda_model = gensim.models.ldamodel.LdaModel(corpus=corpus,\n",
    "                                            id2word=dictionary,\n",
    "                                            num_topics=num_topics,\n",
    "                                            random_state=42,\n",
    "                                            passes=20,\n",
    "                                            per_word_topics=True)"
   ]
  },
  {
   "cell_type": "code",
   "execution_count": 23,
   "metadata": {},
   "outputs": [
    {
     "name": "stdout",
     "output_type": "stream",
     "text": [
      "Topic: 0\n",
      "Top Keywords: money computer get life could\n",
      "\n",
      "Topic: 1\n",
      "Top Keywords: game good best nice love\n",
      "\n",
      "Topic: 2\n",
      "Top Keywords: game fun online play gta\n",
      "\n",
      "Topic: 3\n",
      "Top Keywords: cool gta w auto grand\n",
      "\n"
     ]
    }
   ],
   "source": [
    "for idx, topic in lda_model.print_topics(-1):\n",
    "    print(f'Topic: {idx}')\n",
    "    keywords = \" \".join(word for word, _ in lda_model.show_topic(idx, topn=5))\n",
    "    print(f'Top Keywords: {keywords}\\n')\n"
   ]
  },
  {
   "cell_type": "code",
   "execution_count": 24,
   "metadata": {},
   "outputs": [
    {
     "name": "stderr",
     "output_type": "stream",
     "text": [
      "/var/folders/18/920vt1r90t39q35zb6glj_6h0000gn/T/ipykernel_8712/2051525475.py:3: SettingWithCopyWarning: \n",
      "A value is trying to be set on a copy of a slice from a DataFrame.\n",
      "Try using .loc[row_indexer,col_indexer] = value instead\n",
      "\n",
      "See the caveats in the documentation: https://pandas.pydata.org/pandas-docs/stable/user_guide/indexing.html#returning-a-view-versus-a-copy\n"
     ]
    }
   ],
   "source": [
    "def tokenize(text):\n",
    "    return [token for token in simple_preprocess(text)]\n",
    "df_up['review_tokens'] = df_up['review'].apply(tokenize)\n"
   ]
  },
  {
   "cell_type": "code",
   "execution_count": 25,
   "metadata": {},
   "outputs": [
    {
     "name": "stdout",
     "output_type": "stream",
     "text": [
      "Coherence Score: -6.2811483839366264\n"
     ]
    }
   ],
   "source": [
    "coherence_model = CoherenceModel(\n",
    "    model=lda_model,\n",
    "    texts=df_up['review_tokens'].tolist(),\n",
    "    dictionary=dictionary,\n",
    "    coherence='u_mass'\n",
    ")\n",
    "\n",
    "coherence_score = coherence_model.get_coherence()\n",
    "print(f\"Coherence Score: {coherence_score}\")"
   ]
  },
  {
   "cell_type": "code",
   "execution_count": 26,
   "metadata": {},
   "outputs": [],
   "source": [
    "#Train/Test Split target being sentiment score\n",
    "X_train, X_test, y_train, y_test = train_test_split(df_up['preprocessed_text'], df_up['sentiment_score'], test_size=0.2, random_state=42)\n"
   ]
  },
  {
   "cell_type": "code",
   "execution_count": 27,
   "metadata": {},
   "outputs": [],
   "source": [
    "#Vectorize the text data using the bag-of-words representation\n",
    "vectorizer = CountVectorizer()\n",
    "X_train_vect = vectorizer.fit_transform(X_train)\n",
    "X_test_vect = vectorizer.transform(X_test)"
   ]
  },
  {
   "cell_type": "code",
   "execution_count": 28,
   "metadata": {},
   "outputs": [
    {
     "data": {
      "text/plain": [
       "(8899, 9441)"
      ]
     },
     "execution_count": 28,
     "metadata": {},
     "output_type": "execute_result"
    }
   ],
   "source": [
    "X_train_vect.shape"
   ]
  },
  {
   "attachments": {},
   "cell_type": "markdown",
   "metadata": {},
   "source": [
    "## Logistic Regression"
   ]
  },
  {
   "cell_type": "code",
   "execution_count": 29,
   "metadata": {},
   "outputs": [
    {
     "name": "stderr",
     "output_type": "stream",
     "text": [
      "/Users/los/opt/anaconda3/lib/python3.9/site-packages/sklearn/linear_model/_logistic.py:458: ConvergenceWarning: lbfgs failed to converge (status=1):\n",
      "STOP: TOTAL NO. of ITERATIONS REACHED LIMIT.\n",
      "\n",
      "Increase the number of iterations (max_iter) or scale the data as shown in:\n",
      "    https://scikit-learn.org/stable/modules/preprocessing.html\n",
      "Please also refer to the documentation for alternative solver options:\n",
      "    https://scikit-learn.org/stable/modules/linear_model.html#logistic-regression\n"
     ]
    },
    {
     "data": {
      "text/html": [
       "<style>#sk-container-id-1 {color: black;background-color: white;}#sk-container-id-1 pre{padding: 0;}#sk-container-id-1 div.sk-toggleable {background-color: white;}#sk-container-id-1 label.sk-toggleable__label {cursor: pointer;display: block;width: 100%;margin-bottom: 0;padding: 0.3em;box-sizing: border-box;text-align: center;}#sk-container-id-1 label.sk-toggleable__label-arrow:before {content: \"▸\";float: left;margin-right: 0.25em;color: #696969;}#sk-container-id-1 label.sk-toggleable__label-arrow:hover:before {color: black;}#sk-container-id-1 div.sk-estimator:hover label.sk-toggleable__label-arrow:before {color: black;}#sk-container-id-1 div.sk-toggleable__content {max-height: 0;max-width: 0;overflow: hidden;text-align: left;background-color: #f0f8ff;}#sk-container-id-1 div.sk-toggleable__content pre {margin: 0.2em;color: black;border-radius: 0.25em;background-color: #f0f8ff;}#sk-container-id-1 input.sk-toggleable__control:checked~div.sk-toggleable__content {max-height: 200px;max-width: 100%;overflow: auto;}#sk-container-id-1 input.sk-toggleable__control:checked~label.sk-toggleable__label-arrow:before {content: \"▾\";}#sk-container-id-1 div.sk-estimator input.sk-toggleable__control:checked~label.sk-toggleable__label {background-color: #d4ebff;}#sk-container-id-1 div.sk-label input.sk-toggleable__control:checked~label.sk-toggleable__label {background-color: #d4ebff;}#sk-container-id-1 input.sk-hidden--visually {border: 0;clip: rect(1px 1px 1px 1px);clip: rect(1px, 1px, 1px, 1px);height: 1px;margin: -1px;overflow: hidden;padding: 0;position: absolute;width: 1px;}#sk-container-id-1 div.sk-estimator {font-family: monospace;background-color: #f0f8ff;border: 1px dotted black;border-radius: 0.25em;box-sizing: border-box;margin-bottom: 0.5em;}#sk-container-id-1 div.sk-estimator:hover {background-color: #d4ebff;}#sk-container-id-1 div.sk-parallel-item::after {content: \"\";width: 100%;border-bottom: 1px solid gray;flex-grow: 1;}#sk-container-id-1 div.sk-label:hover label.sk-toggleable__label {background-color: #d4ebff;}#sk-container-id-1 div.sk-serial::before {content: \"\";position: absolute;border-left: 1px solid gray;box-sizing: border-box;top: 0;bottom: 0;left: 50%;z-index: 0;}#sk-container-id-1 div.sk-serial {display: flex;flex-direction: column;align-items: center;background-color: white;padding-right: 0.2em;padding-left: 0.2em;position: relative;}#sk-container-id-1 div.sk-item {position: relative;z-index: 1;}#sk-container-id-1 div.sk-parallel {display: flex;align-items: stretch;justify-content: center;background-color: white;position: relative;}#sk-container-id-1 div.sk-item::before, #sk-container-id-1 div.sk-parallel-item::before {content: \"\";position: absolute;border-left: 1px solid gray;box-sizing: border-box;top: 0;bottom: 0;left: 50%;z-index: -1;}#sk-container-id-1 div.sk-parallel-item {display: flex;flex-direction: column;z-index: 1;position: relative;background-color: white;}#sk-container-id-1 div.sk-parallel-item:first-child::after {align-self: flex-end;width: 50%;}#sk-container-id-1 div.sk-parallel-item:last-child::after {align-self: flex-start;width: 50%;}#sk-container-id-1 div.sk-parallel-item:only-child::after {width: 0;}#sk-container-id-1 div.sk-dashed-wrapped {border: 1px dashed gray;margin: 0 0.4em 0.5em 0.4em;box-sizing: border-box;padding-bottom: 0.4em;background-color: white;}#sk-container-id-1 div.sk-label label {font-family: monospace;font-weight: bold;display: inline-block;line-height: 1.2em;}#sk-container-id-1 div.sk-label-container {text-align: center;}#sk-container-id-1 div.sk-container {/* jupyter's `normalize.less` sets `[hidden] { display: none; }` but bootstrap.min.css set `[hidden] { display: none !important; }` so we also need the `!important` here to be able to override the default hidden behavior on the sphinx rendered scikit-learn.org. See: https://github.com/scikit-learn/scikit-learn/issues/21755 */display: inline-block !important;position: relative;}#sk-container-id-1 div.sk-text-repr-fallback {display: none;}</style><div id=\"sk-container-id-1\" class=\"sk-top-container\"><div class=\"sk-text-repr-fallback\"><pre>LogisticRegression()</pre><b>In a Jupyter environment, please rerun this cell to show the HTML representation or trust the notebook. <br />On GitHub, the HTML representation is unable to render, please try loading this page with nbviewer.org.</b></div><div class=\"sk-container\" hidden><div class=\"sk-item\"><div class=\"sk-estimator sk-toggleable\"><input class=\"sk-toggleable__control sk-hidden--visually\" id=\"sk-estimator-id-1\" type=\"checkbox\" checked><label for=\"sk-estimator-id-1\" class=\"sk-toggleable__label sk-toggleable__label-arrow\">LogisticRegression</label><div class=\"sk-toggleable__content\"><pre>LogisticRegression()</pre></div></div></div></div></div>"
      ],
      "text/plain": [
       "LogisticRegression()"
      ]
     },
     "execution_count": 29,
     "metadata": {},
     "output_type": "execute_result"
    }
   ],
   "source": [
    "lr = LogisticRegression()\n",
    "lr.fit(X_train_vect, y_train)"
   ]
  },
  {
   "cell_type": "code",
   "execution_count": 30,
   "metadata": {},
   "outputs": [
    {
     "name": "stdout",
     "output_type": "stream",
     "text": [
      "Accuracy: 0.7204494382022472\n",
      "Precision: 0.6648764766171514\n",
      "Recall: 0.7204494382022472\n",
      "F1 score: 0.6858011355492228\n"
     ]
    },
    {
     "name": "stderr",
     "output_type": "stream",
     "text": [
      "/Users/los/opt/anaconda3/lib/python3.9/site-packages/sklearn/metrics/_classification.py:1344: UndefinedMetricWarning: Precision is ill-defined and being set to 0.0 in labels with no predicted samples. Use `zero_division` parameter to control this behavior.\n"
     ]
    }
   ],
   "source": [
    "y_pred = lr.predict(X_test_vect)\n",
    "print('Accuracy:', accuracy_score(y_test, y_pred))\n",
    "print('Precision:', precision_score(y_test, y_pred, average='weighted'))\n",
    "print('Recall:', recall_score(y_test, y_pred, average='weighted'))\n",
    "print('F1 score:', f1_score(y_test, y_pred, average='weighted'))"
   ]
  },
  {
   "attachments": {},
   "cell_type": "markdown",
   "metadata": {},
   "source": [
    "## Support Vector Machines (SVM)"
   ]
  },
  {
   "cell_type": "code",
   "execution_count": 31,
   "metadata": {},
   "outputs": [],
   "source": [
    "vectorizer = TfidfVectorizer(max_features=10000)\n",
    "X_train_vectorized = vectorizer.fit_transform(X_train)\n"
   ]
  },
  {
   "cell_type": "code",
   "execution_count": 32,
   "metadata": {},
   "outputs": [
    {
     "data": {
      "text/html": [
       "<style>#sk-container-id-2 {color: black;background-color: white;}#sk-container-id-2 pre{padding: 0;}#sk-container-id-2 div.sk-toggleable {background-color: white;}#sk-container-id-2 label.sk-toggleable__label {cursor: pointer;display: block;width: 100%;margin-bottom: 0;padding: 0.3em;box-sizing: border-box;text-align: center;}#sk-container-id-2 label.sk-toggleable__label-arrow:before {content: \"▸\";float: left;margin-right: 0.25em;color: #696969;}#sk-container-id-2 label.sk-toggleable__label-arrow:hover:before {color: black;}#sk-container-id-2 div.sk-estimator:hover label.sk-toggleable__label-arrow:before {color: black;}#sk-container-id-2 div.sk-toggleable__content {max-height: 0;max-width: 0;overflow: hidden;text-align: left;background-color: #f0f8ff;}#sk-container-id-2 div.sk-toggleable__content pre {margin: 0.2em;color: black;border-radius: 0.25em;background-color: #f0f8ff;}#sk-container-id-2 input.sk-toggleable__control:checked~div.sk-toggleable__content {max-height: 200px;max-width: 100%;overflow: auto;}#sk-container-id-2 input.sk-toggleable__control:checked~label.sk-toggleable__label-arrow:before {content: \"▾\";}#sk-container-id-2 div.sk-estimator input.sk-toggleable__control:checked~label.sk-toggleable__label {background-color: #d4ebff;}#sk-container-id-2 div.sk-label input.sk-toggleable__control:checked~label.sk-toggleable__label {background-color: #d4ebff;}#sk-container-id-2 input.sk-hidden--visually {border: 0;clip: rect(1px 1px 1px 1px);clip: rect(1px, 1px, 1px, 1px);height: 1px;margin: -1px;overflow: hidden;padding: 0;position: absolute;width: 1px;}#sk-container-id-2 div.sk-estimator {font-family: monospace;background-color: #f0f8ff;border: 1px dotted black;border-radius: 0.25em;box-sizing: border-box;margin-bottom: 0.5em;}#sk-container-id-2 div.sk-estimator:hover {background-color: #d4ebff;}#sk-container-id-2 div.sk-parallel-item::after {content: \"\";width: 100%;border-bottom: 1px solid gray;flex-grow: 1;}#sk-container-id-2 div.sk-label:hover label.sk-toggleable__label {background-color: #d4ebff;}#sk-container-id-2 div.sk-serial::before {content: \"\";position: absolute;border-left: 1px solid gray;box-sizing: border-box;top: 0;bottom: 0;left: 50%;z-index: 0;}#sk-container-id-2 div.sk-serial {display: flex;flex-direction: column;align-items: center;background-color: white;padding-right: 0.2em;padding-left: 0.2em;position: relative;}#sk-container-id-2 div.sk-item {position: relative;z-index: 1;}#sk-container-id-2 div.sk-parallel {display: flex;align-items: stretch;justify-content: center;background-color: white;position: relative;}#sk-container-id-2 div.sk-item::before, #sk-container-id-2 div.sk-parallel-item::before {content: \"\";position: absolute;border-left: 1px solid gray;box-sizing: border-box;top: 0;bottom: 0;left: 50%;z-index: -1;}#sk-container-id-2 div.sk-parallel-item {display: flex;flex-direction: column;z-index: 1;position: relative;background-color: white;}#sk-container-id-2 div.sk-parallel-item:first-child::after {align-self: flex-end;width: 50%;}#sk-container-id-2 div.sk-parallel-item:last-child::after {align-self: flex-start;width: 50%;}#sk-container-id-2 div.sk-parallel-item:only-child::after {width: 0;}#sk-container-id-2 div.sk-dashed-wrapped {border: 1px dashed gray;margin: 0 0.4em 0.5em 0.4em;box-sizing: border-box;padding-bottom: 0.4em;background-color: white;}#sk-container-id-2 div.sk-label label {font-family: monospace;font-weight: bold;display: inline-block;line-height: 1.2em;}#sk-container-id-2 div.sk-label-container {text-align: center;}#sk-container-id-2 div.sk-container {/* jupyter's `normalize.less` sets `[hidden] { display: none; }` but bootstrap.min.css set `[hidden] { display: none !important; }` so we also need the `!important` here to be able to override the default hidden behavior on the sphinx rendered scikit-learn.org. See: https://github.com/scikit-learn/scikit-learn/issues/21755 */display: inline-block !important;position: relative;}#sk-container-id-2 div.sk-text-repr-fallback {display: none;}</style><div id=\"sk-container-id-2\" class=\"sk-top-container\"><div class=\"sk-text-repr-fallback\"><pre>SVC(kernel=&#x27;linear&#x27;)</pre><b>In a Jupyter environment, please rerun this cell to show the HTML representation or trust the notebook. <br />On GitHub, the HTML representation is unable to render, please try loading this page with nbviewer.org.</b></div><div class=\"sk-container\" hidden><div class=\"sk-item\"><div class=\"sk-estimator sk-toggleable\"><input class=\"sk-toggleable__control sk-hidden--visually\" id=\"sk-estimator-id-2\" type=\"checkbox\" checked><label for=\"sk-estimator-id-2\" class=\"sk-toggleable__label sk-toggleable__label-arrow\">SVC</label><div class=\"sk-toggleable__content\"><pre>SVC(kernel=&#x27;linear&#x27;)</pre></div></div></div></div></div>"
      ],
      "text/plain": [
       "SVC(kernel='linear')"
      ]
     },
     "execution_count": 32,
     "metadata": {},
     "output_type": "execute_result"
    }
   ],
   "source": [
    "svc = SVC(kernel='linear')\n",
    "svc.fit(X_train_vectorized, y_train)"
   ]
  },
  {
   "cell_type": "code",
   "execution_count": 33,
   "metadata": {},
   "outputs": [],
   "source": [
    "X_test_vectorized = vectorizer.transform(X_test)\n",
    "y_pred_2 = svc.predict(X_test_vectorized)"
   ]
  },
  {
   "cell_type": "code",
   "execution_count": 34,
   "metadata": {},
   "outputs": [
    {
     "name": "stdout",
     "output_type": "stream",
     "text": [
      "SVC Accuracy: 0.7635955056179775\n",
      "SVC Precision: 0.7190943817514583\n",
      "SVM Recall: 0.7635955056179775\n",
      "SVC F1 score: 0.7298185464834147\n"
     ]
    },
    {
     "name": "stderr",
     "output_type": "stream",
     "text": [
      "/Users/los/opt/anaconda3/lib/python3.9/site-packages/sklearn/metrics/_classification.py:1344: UndefinedMetricWarning: Precision is ill-defined and being set to 0.0 in labels with no predicted samples. Use `zero_division` parameter to control this behavior.\n"
     ]
    }
   ],
   "source": [
    "print('SVC Accuracy:', accuracy_score(y_test, y_pred_2))\n",
    "print('SVC Precision:', precision_score(y_test, y_pred_2, average='weighted'))\n",
    "print('SVM Recall:', recall_score(y_test, y_pred_2, average='weighted'))\n",
    "print('SVC F1 score:', f1_score(y_test, y_pred_2, average='weighted'))"
   ]
  },
  {
   "cell_type": "code",
   "execution_count": 35,
   "metadata": {},
   "outputs": [],
   "source": [
    "pipeline = Pipeline([\n",
    "    ('vectorizer', vectorizer),\n",
    "    ('svm', SVC(kernel='linear'))\n",
    "])\n",
    "\n",
    "parameters = {\n",
    "    'svm__C': [1, 10],\n",
    "    'svm__kernel': ['linear', 'rbf']\n",
    "}"
   ]
  },
  {
   "cell_type": "code",
   "execution_count": 36,
   "metadata": {},
   "outputs": [
    {
     "name": "stdout",
     "output_type": "stream",
     "text": [
      "Fitting 5 folds for each of 4 candidates, totalling 20 fits\n"
     ]
    },
    {
     "name": "stderr",
     "output_type": "stream",
     "text": [
      "/Users/los/opt/anaconda3/lib/python3.9/site-packages/sklearn/model_selection/_split.py:700: UserWarning: The least populated class in y has only 1 members, which is less than n_splits=5.\n"
     ]
    },
    {
     "data": {
      "text/html": [
       "<style>#sk-container-id-3 {color: black;background-color: white;}#sk-container-id-3 pre{padding: 0;}#sk-container-id-3 div.sk-toggleable {background-color: white;}#sk-container-id-3 label.sk-toggleable__label {cursor: pointer;display: block;width: 100%;margin-bottom: 0;padding: 0.3em;box-sizing: border-box;text-align: center;}#sk-container-id-3 label.sk-toggleable__label-arrow:before {content: \"▸\";float: left;margin-right: 0.25em;color: #696969;}#sk-container-id-3 label.sk-toggleable__label-arrow:hover:before {color: black;}#sk-container-id-3 div.sk-estimator:hover label.sk-toggleable__label-arrow:before {color: black;}#sk-container-id-3 div.sk-toggleable__content {max-height: 0;max-width: 0;overflow: hidden;text-align: left;background-color: #f0f8ff;}#sk-container-id-3 div.sk-toggleable__content pre {margin: 0.2em;color: black;border-radius: 0.25em;background-color: #f0f8ff;}#sk-container-id-3 input.sk-toggleable__control:checked~div.sk-toggleable__content {max-height: 200px;max-width: 100%;overflow: auto;}#sk-container-id-3 input.sk-toggleable__control:checked~label.sk-toggleable__label-arrow:before {content: \"▾\";}#sk-container-id-3 div.sk-estimator input.sk-toggleable__control:checked~label.sk-toggleable__label {background-color: #d4ebff;}#sk-container-id-3 div.sk-label input.sk-toggleable__control:checked~label.sk-toggleable__label {background-color: #d4ebff;}#sk-container-id-3 input.sk-hidden--visually {border: 0;clip: rect(1px 1px 1px 1px);clip: rect(1px, 1px, 1px, 1px);height: 1px;margin: -1px;overflow: hidden;padding: 0;position: absolute;width: 1px;}#sk-container-id-3 div.sk-estimator {font-family: monospace;background-color: #f0f8ff;border: 1px dotted black;border-radius: 0.25em;box-sizing: border-box;margin-bottom: 0.5em;}#sk-container-id-3 div.sk-estimator:hover {background-color: #d4ebff;}#sk-container-id-3 div.sk-parallel-item::after {content: \"\";width: 100%;border-bottom: 1px solid gray;flex-grow: 1;}#sk-container-id-3 div.sk-label:hover label.sk-toggleable__label {background-color: #d4ebff;}#sk-container-id-3 div.sk-serial::before {content: \"\";position: absolute;border-left: 1px solid gray;box-sizing: border-box;top: 0;bottom: 0;left: 50%;z-index: 0;}#sk-container-id-3 div.sk-serial {display: flex;flex-direction: column;align-items: center;background-color: white;padding-right: 0.2em;padding-left: 0.2em;position: relative;}#sk-container-id-3 div.sk-item {position: relative;z-index: 1;}#sk-container-id-3 div.sk-parallel {display: flex;align-items: stretch;justify-content: center;background-color: white;position: relative;}#sk-container-id-3 div.sk-item::before, #sk-container-id-3 div.sk-parallel-item::before {content: \"\";position: absolute;border-left: 1px solid gray;box-sizing: border-box;top: 0;bottom: 0;left: 50%;z-index: -1;}#sk-container-id-3 div.sk-parallel-item {display: flex;flex-direction: column;z-index: 1;position: relative;background-color: white;}#sk-container-id-3 div.sk-parallel-item:first-child::after {align-self: flex-end;width: 50%;}#sk-container-id-3 div.sk-parallel-item:last-child::after {align-self: flex-start;width: 50%;}#sk-container-id-3 div.sk-parallel-item:only-child::after {width: 0;}#sk-container-id-3 div.sk-dashed-wrapped {border: 1px dashed gray;margin: 0 0.4em 0.5em 0.4em;box-sizing: border-box;padding-bottom: 0.4em;background-color: white;}#sk-container-id-3 div.sk-label label {font-family: monospace;font-weight: bold;display: inline-block;line-height: 1.2em;}#sk-container-id-3 div.sk-label-container {text-align: center;}#sk-container-id-3 div.sk-container {/* jupyter's `normalize.less` sets `[hidden] { display: none; }` but bootstrap.min.css set `[hidden] { display: none !important; }` so we also need the `!important` here to be able to override the default hidden behavior on the sphinx rendered scikit-learn.org. See: https://github.com/scikit-learn/scikit-learn/issues/21755 */display: inline-block !important;position: relative;}#sk-container-id-3 div.sk-text-repr-fallback {display: none;}</style><div id=\"sk-container-id-3\" class=\"sk-top-container\"><div class=\"sk-text-repr-fallback\"><pre>GridSearchCV(cv=5,\n",
       "             estimator=Pipeline(steps=[(&#x27;vectorizer&#x27;,\n",
       "                                        TfidfVectorizer(max_features=10000)),\n",
       "                                       (&#x27;svm&#x27;, SVC(kernel=&#x27;linear&#x27;))]),\n",
       "             n_jobs=-1,\n",
       "             param_grid={&#x27;svm__C&#x27;: [1, 10], &#x27;svm__kernel&#x27;: [&#x27;linear&#x27;, &#x27;rbf&#x27;]},\n",
       "             verbose=1)</pre><b>In a Jupyter environment, please rerun this cell to show the HTML representation or trust the notebook. <br />On GitHub, the HTML representation is unable to render, please try loading this page with nbviewer.org.</b></div><div class=\"sk-container\" hidden><div class=\"sk-item sk-dashed-wrapped\"><div class=\"sk-label-container\"><div class=\"sk-label sk-toggleable\"><input class=\"sk-toggleable__control sk-hidden--visually\" id=\"sk-estimator-id-3\" type=\"checkbox\" ><label for=\"sk-estimator-id-3\" class=\"sk-toggleable__label sk-toggleable__label-arrow\">GridSearchCV</label><div class=\"sk-toggleable__content\"><pre>GridSearchCV(cv=5,\n",
       "             estimator=Pipeline(steps=[(&#x27;vectorizer&#x27;,\n",
       "                                        TfidfVectorizer(max_features=10000)),\n",
       "                                       (&#x27;svm&#x27;, SVC(kernel=&#x27;linear&#x27;))]),\n",
       "             n_jobs=-1,\n",
       "             param_grid={&#x27;svm__C&#x27;: [1, 10], &#x27;svm__kernel&#x27;: [&#x27;linear&#x27;, &#x27;rbf&#x27;]},\n",
       "             verbose=1)</pre></div></div></div><div class=\"sk-parallel\"><div class=\"sk-parallel-item\"><div class=\"sk-item\"><div class=\"sk-label-container\"><div class=\"sk-label sk-toggleable\"><input class=\"sk-toggleable__control sk-hidden--visually\" id=\"sk-estimator-id-4\" type=\"checkbox\" ><label for=\"sk-estimator-id-4\" class=\"sk-toggleable__label sk-toggleable__label-arrow\">estimator: Pipeline</label><div class=\"sk-toggleable__content\"><pre>Pipeline(steps=[(&#x27;vectorizer&#x27;, TfidfVectorizer(max_features=10000)),\n",
       "                (&#x27;svm&#x27;, SVC(kernel=&#x27;linear&#x27;))])</pre></div></div></div><div class=\"sk-serial\"><div class=\"sk-item\"><div class=\"sk-serial\"><div class=\"sk-item\"><div class=\"sk-estimator sk-toggleable\"><input class=\"sk-toggleable__control sk-hidden--visually\" id=\"sk-estimator-id-5\" type=\"checkbox\" ><label for=\"sk-estimator-id-5\" class=\"sk-toggleable__label sk-toggleable__label-arrow\">TfidfVectorizer</label><div class=\"sk-toggleable__content\"><pre>TfidfVectorizer(max_features=10000)</pre></div></div></div><div class=\"sk-item\"><div class=\"sk-estimator sk-toggleable\"><input class=\"sk-toggleable__control sk-hidden--visually\" id=\"sk-estimator-id-6\" type=\"checkbox\" ><label for=\"sk-estimator-id-6\" class=\"sk-toggleable__label sk-toggleable__label-arrow\">SVC</label><div class=\"sk-toggleable__content\"><pre>SVC(kernel=&#x27;linear&#x27;)</pre></div></div></div></div></div></div></div></div></div></div></div></div>"
      ],
      "text/plain": [
       "GridSearchCV(cv=5,\n",
       "             estimator=Pipeline(steps=[('vectorizer',\n",
       "                                        TfidfVectorizer(max_features=10000)),\n",
       "                                       ('svm', SVC(kernel='linear'))]),\n",
       "             n_jobs=-1,\n",
       "             param_grid={'svm__C': [1, 10], 'svm__kernel': ['linear', 'rbf']},\n",
       "             verbose=1)"
      ]
     },
     "execution_count": 36,
     "metadata": {},
     "output_type": "execute_result"
    }
   ],
   "source": [
    "grid_search = GridSearchCV(pipeline, parameters, cv=5, n_jobs=-1, verbose=1)\n",
    "grid_search.fit(X_train, y_train)"
   ]
  },
  {
   "cell_type": "code",
   "execution_count": 37,
   "metadata": {},
   "outputs": [
    {
     "name": "stdout",
     "output_type": "stream",
     "text": [
      "Best parameters:  {'svm__C': 10, 'svm__kernel': 'linear'}\n",
      "Accuracy:  0.7459258768023951\n"
     ]
    }
   ],
   "source": [
    "print(\"Best parameters: \", grid_search.best_params_)\n",
    "print(\"Accuracy: \", grid_search.best_score_)"
   ]
  },
  {
   "cell_type": "code",
   "execution_count": 38,
   "metadata": {},
   "outputs": [],
   "source": [
    "grid_svm_best = grid_search.best_estimator_"
   ]
  },
  {
   "cell_type": "code",
   "execution_count": 39,
   "metadata": {},
   "outputs": [],
   "source": [
    "grid_svc_pred = grid_svm_best.predict(X_test)"
   ]
  },
  {
   "cell_type": "code",
   "execution_count": 40,
   "metadata": {},
   "outputs": [
    {
     "name": "stdout",
     "output_type": "stream",
     "text": [
      "SVC Accuracy: 0.7653932584269663\n",
      "SVC Precision: 0.7358732786439974\n",
      "SVM Recall: 0.7653932584269663\n",
      "SVC F1 score: 0.7481478860054194\n"
     ]
    },
    {
     "name": "stderr",
     "output_type": "stream",
     "text": [
      "/Users/los/opt/anaconda3/lib/python3.9/site-packages/sklearn/metrics/_classification.py:1344: UndefinedMetricWarning: Precision is ill-defined and being set to 0.0 in labels with no predicted samples. Use `zero_division` parameter to control this behavior.\n"
     ]
    }
   ],
   "source": [
    "print('SVC Accuracy:', accuracy_score(y_test, grid_svc_pred))\n",
    "print('SVC Precision:', precision_score(y_test, grid_svc_pred, average='weighted'))\n",
    "print('SVM Recall:', recall_score(y_test, grid_svc_pred, average='weighted'))\n",
    "print('SVC F1 score:', f1_score(y_test, grid_svc_pred, average='weighted'))"
   ]
  },
  {
   "attachments": {},
   "cell_type": "markdown",
   "metadata": {},
   "source": [
    "## Random Forest Classifier "
   ]
  },
  {
   "cell_type": "code",
   "execution_count": 41,
   "metadata": {},
   "outputs": [
    {
     "data": {
      "text/html": [
       "<style>#sk-container-id-4 {color: black;background-color: white;}#sk-container-id-4 pre{padding: 0;}#sk-container-id-4 div.sk-toggleable {background-color: white;}#sk-container-id-4 label.sk-toggleable__label {cursor: pointer;display: block;width: 100%;margin-bottom: 0;padding: 0.3em;box-sizing: border-box;text-align: center;}#sk-container-id-4 label.sk-toggleable__label-arrow:before {content: \"▸\";float: left;margin-right: 0.25em;color: #696969;}#sk-container-id-4 label.sk-toggleable__label-arrow:hover:before {color: black;}#sk-container-id-4 div.sk-estimator:hover label.sk-toggleable__label-arrow:before {color: black;}#sk-container-id-4 div.sk-toggleable__content {max-height: 0;max-width: 0;overflow: hidden;text-align: left;background-color: #f0f8ff;}#sk-container-id-4 div.sk-toggleable__content pre {margin: 0.2em;color: black;border-radius: 0.25em;background-color: #f0f8ff;}#sk-container-id-4 input.sk-toggleable__control:checked~div.sk-toggleable__content {max-height: 200px;max-width: 100%;overflow: auto;}#sk-container-id-4 input.sk-toggleable__control:checked~label.sk-toggleable__label-arrow:before {content: \"▾\";}#sk-container-id-4 div.sk-estimator input.sk-toggleable__control:checked~label.sk-toggleable__label {background-color: #d4ebff;}#sk-container-id-4 div.sk-label input.sk-toggleable__control:checked~label.sk-toggleable__label {background-color: #d4ebff;}#sk-container-id-4 input.sk-hidden--visually {border: 0;clip: rect(1px 1px 1px 1px);clip: rect(1px, 1px, 1px, 1px);height: 1px;margin: -1px;overflow: hidden;padding: 0;position: absolute;width: 1px;}#sk-container-id-4 div.sk-estimator {font-family: monospace;background-color: #f0f8ff;border: 1px dotted black;border-radius: 0.25em;box-sizing: border-box;margin-bottom: 0.5em;}#sk-container-id-4 div.sk-estimator:hover {background-color: #d4ebff;}#sk-container-id-4 div.sk-parallel-item::after {content: \"\";width: 100%;border-bottom: 1px solid gray;flex-grow: 1;}#sk-container-id-4 div.sk-label:hover label.sk-toggleable__label {background-color: #d4ebff;}#sk-container-id-4 div.sk-serial::before {content: \"\";position: absolute;border-left: 1px solid gray;box-sizing: border-box;top: 0;bottom: 0;left: 50%;z-index: 0;}#sk-container-id-4 div.sk-serial {display: flex;flex-direction: column;align-items: center;background-color: white;padding-right: 0.2em;padding-left: 0.2em;position: relative;}#sk-container-id-4 div.sk-item {position: relative;z-index: 1;}#sk-container-id-4 div.sk-parallel {display: flex;align-items: stretch;justify-content: center;background-color: white;position: relative;}#sk-container-id-4 div.sk-item::before, #sk-container-id-4 div.sk-parallel-item::before {content: \"\";position: absolute;border-left: 1px solid gray;box-sizing: border-box;top: 0;bottom: 0;left: 50%;z-index: -1;}#sk-container-id-4 div.sk-parallel-item {display: flex;flex-direction: column;z-index: 1;position: relative;background-color: white;}#sk-container-id-4 div.sk-parallel-item:first-child::after {align-self: flex-end;width: 50%;}#sk-container-id-4 div.sk-parallel-item:last-child::after {align-self: flex-start;width: 50%;}#sk-container-id-4 div.sk-parallel-item:only-child::after {width: 0;}#sk-container-id-4 div.sk-dashed-wrapped {border: 1px dashed gray;margin: 0 0.4em 0.5em 0.4em;box-sizing: border-box;padding-bottom: 0.4em;background-color: white;}#sk-container-id-4 div.sk-label label {font-family: monospace;font-weight: bold;display: inline-block;line-height: 1.2em;}#sk-container-id-4 div.sk-label-container {text-align: center;}#sk-container-id-4 div.sk-container {/* jupyter's `normalize.less` sets `[hidden] { display: none; }` but bootstrap.min.css set `[hidden] { display: none !important; }` so we also need the `!important` here to be able to override the default hidden behavior on the sphinx rendered scikit-learn.org. See: https://github.com/scikit-learn/scikit-learn/issues/21755 */display: inline-block !important;position: relative;}#sk-container-id-4 div.sk-text-repr-fallback {display: none;}</style><div id=\"sk-container-id-4\" class=\"sk-top-container\"><div class=\"sk-text-repr-fallback\"><pre>RandomForestClassifier(random_state=42)</pre><b>In a Jupyter environment, please rerun this cell to show the HTML representation or trust the notebook. <br />On GitHub, the HTML representation is unable to render, please try loading this page with nbviewer.org.</b></div><div class=\"sk-container\" hidden><div class=\"sk-item\"><div class=\"sk-estimator sk-toggleable\"><input class=\"sk-toggleable__control sk-hidden--visually\" id=\"sk-estimator-id-7\" type=\"checkbox\" checked><label for=\"sk-estimator-id-7\" class=\"sk-toggleable__label sk-toggleable__label-arrow\">RandomForestClassifier</label><div class=\"sk-toggleable__content\"><pre>RandomForestClassifier(random_state=42)</pre></div></div></div></div></div>"
      ],
      "text/plain": [
       "RandomForestClassifier(random_state=42)"
      ]
     },
     "execution_count": 41,
     "metadata": {},
     "output_type": "execute_result"
    }
   ],
   "source": [
    "rf = RandomForestClassifier(n_estimators=100, random_state=42)\n",
    "rf.fit(X_train_vectorized, y_train)"
   ]
  },
  {
   "cell_type": "code",
   "execution_count": 42,
   "metadata": {},
   "outputs": [],
   "source": [
    "y_pred_3 = rf.predict(X_test_vect)"
   ]
  },
  {
   "cell_type": "code",
   "execution_count": 43,
   "metadata": {},
   "outputs": [
    {
     "name": "stdout",
     "output_type": "stream",
     "text": [
      "RandomForest Accuracy: 0.736629213483146\n",
      "RandomForest Precision: 0.6971798685940866\n",
      "RandomForest Recall: 0.736629213483146\n",
      "RandomForest F1 score: 0.6914333580856931\n"
     ]
    },
    {
     "name": "stderr",
     "output_type": "stream",
     "text": [
      "/Users/los/opt/anaconda3/lib/python3.9/site-packages/sklearn/metrics/_classification.py:1344: UndefinedMetricWarning: Precision is ill-defined and being set to 0.0 in labels with no predicted samples. Use `zero_division` parameter to control this behavior.\n"
     ]
    }
   ],
   "source": [
    "print('RandomForest Accuracy:', accuracy_score(y_test, y_pred_3))\n",
    "print('RandomForest Precision:', precision_score(y_test, y_pred_3, average='weighted'))\n",
    "print('RandomForest Recall:', recall_score(y_test, y_pred_3, average='weighted'))\n",
    "print('RandomForest F1 score:', f1_score(y_test, y_pred_3, average='weighted'))"
   ]
  },
  {
   "cell_type": "code",
   "execution_count": 44,
   "metadata": {},
   "outputs": [],
   "source": [
    "pipeline_2 = Pipeline([\n",
    "    ('vectorizer', vectorizer),\n",
    "    ('rf', RandomForestClassifier(n_estimators=100, random_state=42))\n",
    "])\n",
    "\n",
    "rf_parameters = {'rf__criterion': ['gini', 'entropy'], \n",
    "               'rf__max_depth':[30,35,40,45],\n",
    "               'rf__n_estimators':[5,10,15,20,25]\n",
    "             \n",
    "             }"
   ]
  },
  {
   "cell_type": "code",
   "execution_count": 45,
   "metadata": {},
   "outputs": [
    {
     "name": "stdout",
     "output_type": "stream",
     "text": [
      "Fitting 5 folds for each of 40 candidates, totalling 200 fits\n"
     ]
    },
    {
     "name": "stderr",
     "output_type": "stream",
     "text": [
      "/Users/los/opt/anaconda3/lib/python3.9/site-packages/sklearn/model_selection/_split.py:700: UserWarning: The least populated class in y has only 1 members, which is less than n_splits=5.\n"
     ]
    },
    {
     "data": {
      "text/html": [
       "<style>#sk-container-id-5 {color: black;background-color: white;}#sk-container-id-5 pre{padding: 0;}#sk-container-id-5 div.sk-toggleable {background-color: white;}#sk-container-id-5 label.sk-toggleable__label {cursor: pointer;display: block;width: 100%;margin-bottom: 0;padding: 0.3em;box-sizing: border-box;text-align: center;}#sk-container-id-5 label.sk-toggleable__label-arrow:before {content: \"▸\";float: left;margin-right: 0.25em;color: #696969;}#sk-container-id-5 label.sk-toggleable__label-arrow:hover:before {color: black;}#sk-container-id-5 div.sk-estimator:hover label.sk-toggleable__label-arrow:before {color: black;}#sk-container-id-5 div.sk-toggleable__content {max-height: 0;max-width: 0;overflow: hidden;text-align: left;background-color: #f0f8ff;}#sk-container-id-5 div.sk-toggleable__content pre {margin: 0.2em;color: black;border-radius: 0.25em;background-color: #f0f8ff;}#sk-container-id-5 input.sk-toggleable__control:checked~div.sk-toggleable__content {max-height: 200px;max-width: 100%;overflow: auto;}#sk-container-id-5 input.sk-toggleable__control:checked~label.sk-toggleable__label-arrow:before {content: \"▾\";}#sk-container-id-5 div.sk-estimator input.sk-toggleable__control:checked~label.sk-toggleable__label {background-color: #d4ebff;}#sk-container-id-5 div.sk-label input.sk-toggleable__control:checked~label.sk-toggleable__label {background-color: #d4ebff;}#sk-container-id-5 input.sk-hidden--visually {border: 0;clip: rect(1px 1px 1px 1px);clip: rect(1px, 1px, 1px, 1px);height: 1px;margin: -1px;overflow: hidden;padding: 0;position: absolute;width: 1px;}#sk-container-id-5 div.sk-estimator {font-family: monospace;background-color: #f0f8ff;border: 1px dotted black;border-radius: 0.25em;box-sizing: border-box;margin-bottom: 0.5em;}#sk-container-id-5 div.sk-estimator:hover {background-color: #d4ebff;}#sk-container-id-5 div.sk-parallel-item::after {content: \"\";width: 100%;border-bottom: 1px solid gray;flex-grow: 1;}#sk-container-id-5 div.sk-label:hover label.sk-toggleable__label {background-color: #d4ebff;}#sk-container-id-5 div.sk-serial::before {content: \"\";position: absolute;border-left: 1px solid gray;box-sizing: border-box;top: 0;bottom: 0;left: 50%;z-index: 0;}#sk-container-id-5 div.sk-serial {display: flex;flex-direction: column;align-items: center;background-color: white;padding-right: 0.2em;padding-left: 0.2em;position: relative;}#sk-container-id-5 div.sk-item {position: relative;z-index: 1;}#sk-container-id-5 div.sk-parallel {display: flex;align-items: stretch;justify-content: center;background-color: white;position: relative;}#sk-container-id-5 div.sk-item::before, #sk-container-id-5 div.sk-parallel-item::before {content: \"\";position: absolute;border-left: 1px solid gray;box-sizing: border-box;top: 0;bottom: 0;left: 50%;z-index: -1;}#sk-container-id-5 div.sk-parallel-item {display: flex;flex-direction: column;z-index: 1;position: relative;background-color: white;}#sk-container-id-5 div.sk-parallel-item:first-child::after {align-self: flex-end;width: 50%;}#sk-container-id-5 div.sk-parallel-item:last-child::after {align-self: flex-start;width: 50%;}#sk-container-id-5 div.sk-parallel-item:only-child::after {width: 0;}#sk-container-id-5 div.sk-dashed-wrapped {border: 1px dashed gray;margin: 0 0.4em 0.5em 0.4em;box-sizing: border-box;padding-bottom: 0.4em;background-color: white;}#sk-container-id-5 div.sk-label label {font-family: monospace;font-weight: bold;display: inline-block;line-height: 1.2em;}#sk-container-id-5 div.sk-label-container {text-align: center;}#sk-container-id-5 div.sk-container {/* jupyter's `normalize.less` sets `[hidden] { display: none; }` but bootstrap.min.css set `[hidden] { display: none !important; }` so we also need the `!important` here to be able to override the default hidden behavior on the sphinx rendered scikit-learn.org. See: https://github.com/scikit-learn/scikit-learn/issues/21755 */display: inline-block !important;position: relative;}#sk-container-id-5 div.sk-text-repr-fallback {display: none;}</style><div id=\"sk-container-id-5\" class=\"sk-top-container\"><div class=\"sk-text-repr-fallback\"><pre>GridSearchCV(cv=5,\n",
       "             estimator=Pipeline(steps=[(&#x27;vectorizer&#x27;,\n",
       "                                        TfidfVectorizer(max_features=10000)),\n",
       "                                       (&#x27;rf&#x27;,\n",
       "                                        RandomForestClassifier(random_state=42))]),\n",
       "             n_jobs=-1,\n",
       "             param_grid={&#x27;rf__criterion&#x27;: [&#x27;gini&#x27;, &#x27;entropy&#x27;],\n",
       "                         &#x27;rf__max_depth&#x27;: [30, 35, 40, 45],\n",
       "                         &#x27;rf__n_estimators&#x27;: [5, 10, 15, 20, 25]},\n",
       "             verbose=1)</pre><b>In a Jupyter environment, please rerun this cell to show the HTML representation or trust the notebook. <br />On GitHub, the HTML representation is unable to render, please try loading this page with nbviewer.org.</b></div><div class=\"sk-container\" hidden><div class=\"sk-item sk-dashed-wrapped\"><div class=\"sk-label-container\"><div class=\"sk-label sk-toggleable\"><input class=\"sk-toggleable__control sk-hidden--visually\" id=\"sk-estimator-id-8\" type=\"checkbox\" ><label for=\"sk-estimator-id-8\" class=\"sk-toggleable__label sk-toggleable__label-arrow\">GridSearchCV</label><div class=\"sk-toggleable__content\"><pre>GridSearchCV(cv=5,\n",
       "             estimator=Pipeline(steps=[(&#x27;vectorizer&#x27;,\n",
       "                                        TfidfVectorizer(max_features=10000)),\n",
       "                                       (&#x27;rf&#x27;,\n",
       "                                        RandomForestClassifier(random_state=42))]),\n",
       "             n_jobs=-1,\n",
       "             param_grid={&#x27;rf__criterion&#x27;: [&#x27;gini&#x27;, &#x27;entropy&#x27;],\n",
       "                         &#x27;rf__max_depth&#x27;: [30, 35, 40, 45],\n",
       "                         &#x27;rf__n_estimators&#x27;: [5, 10, 15, 20, 25]},\n",
       "             verbose=1)</pre></div></div></div><div class=\"sk-parallel\"><div class=\"sk-parallel-item\"><div class=\"sk-item\"><div class=\"sk-label-container\"><div class=\"sk-label sk-toggleable\"><input class=\"sk-toggleable__control sk-hidden--visually\" id=\"sk-estimator-id-9\" type=\"checkbox\" ><label for=\"sk-estimator-id-9\" class=\"sk-toggleable__label sk-toggleable__label-arrow\">estimator: Pipeline</label><div class=\"sk-toggleable__content\"><pre>Pipeline(steps=[(&#x27;vectorizer&#x27;, TfidfVectorizer(max_features=10000)),\n",
       "                (&#x27;rf&#x27;, RandomForestClassifier(random_state=42))])</pre></div></div></div><div class=\"sk-serial\"><div class=\"sk-item\"><div class=\"sk-serial\"><div class=\"sk-item\"><div class=\"sk-estimator sk-toggleable\"><input class=\"sk-toggleable__control sk-hidden--visually\" id=\"sk-estimator-id-10\" type=\"checkbox\" ><label for=\"sk-estimator-id-10\" class=\"sk-toggleable__label sk-toggleable__label-arrow\">TfidfVectorizer</label><div class=\"sk-toggleable__content\"><pre>TfidfVectorizer(max_features=10000)</pre></div></div></div><div class=\"sk-item\"><div class=\"sk-estimator sk-toggleable\"><input class=\"sk-toggleable__control sk-hidden--visually\" id=\"sk-estimator-id-11\" type=\"checkbox\" ><label for=\"sk-estimator-id-11\" class=\"sk-toggleable__label sk-toggleable__label-arrow\">RandomForestClassifier</label><div class=\"sk-toggleable__content\"><pre>RandomForestClassifier(random_state=42)</pre></div></div></div></div></div></div></div></div></div></div></div></div>"
      ],
      "text/plain": [
       "GridSearchCV(cv=5,\n",
       "             estimator=Pipeline(steps=[('vectorizer',\n",
       "                                        TfidfVectorizer(max_features=10000)),\n",
       "                                       ('rf',\n",
       "                                        RandomForestClassifier(random_state=42))]),\n",
       "             n_jobs=-1,\n",
       "             param_grid={'rf__criterion': ['gini', 'entropy'],\n",
       "                         'rf__max_depth': [30, 35, 40, 45],\n",
       "                         'rf__n_estimators': [5, 10, 15, 20, 25]},\n",
       "             verbose=1)"
      ]
     },
     "execution_count": 45,
     "metadata": {},
     "output_type": "execute_result"
    }
   ],
   "source": [
    "grid_search_2= GridSearchCV(pipeline_2, rf_parameters, cv=5, n_jobs=-1, verbose=1)\n",
    "grid_search_2.fit(X_train, y_train)"
   ]
  },
  {
   "cell_type": "code",
   "execution_count": 46,
   "metadata": {},
   "outputs": [
    {
     "name": "stdout",
     "output_type": "stream",
     "text": [
      "Best parameters:  {'rf__criterion': 'entropy', 'rf__max_depth': 45, 'rf__n_estimators': 20}\n",
      "Accuracy:  0.6505230813927784\n"
     ]
    }
   ],
   "source": [
    "print(\"Best parameters: \", grid_search_2.best_params_)\n",
    "print(\"Accuracy: \", grid_search_2.best_score_)"
   ]
  },
  {
   "cell_type": "code",
   "execution_count": 47,
   "metadata": {},
   "outputs": [],
   "source": [
    "grid_rf_best = grid_search_2.best_estimator_\n",
    "grid_rf_pred = grid_rf_best.predict(X_test)"
   ]
  },
  {
   "cell_type": "code",
   "execution_count": 48,
   "metadata": {},
   "outputs": [
    {
     "name": "stdout",
     "output_type": "stream",
     "text": [
      "GridRandomForest Accuracy: 0.6382022471910113\n",
      "GridRandomForest Precision: 0.6001096809973723\n",
      "GridRandomForest Recall: 0.6382022471910113\n",
      "GridRandomForest F1 score: 0.5747765389327142\n"
     ]
    },
    {
     "name": "stderr",
     "output_type": "stream",
     "text": [
      "/Users/los/opt/anaconda3/lib/python3.9/site-packages/sklearn/metrics/_classification.py:1344: UndefinedMetricWarning: Precision is ill-defined and being set to 0.0 in labels with no predicted samples. Use `zero_division` parameter to control this behavior.\n"
     ]
    }
   ],
   "source": [
    "print('GridRandomForest Accuracy:', accuracy_score(y_test, grid_rf_pred))\n",
    "print('GridRandomForest Precision:', precision_score(y_test, grid_rf_pred, average='weighted'))\n",
    "print('GridRandomForest Recall:', recall_score(y_test, grid_rf_pred, average='weighted'))\n",
    "print('GridRandomForest F1 score:', f1_score(y_test, grid_rf_pred, average='weighted'))"
   ]
  },
  {
   "attachments": {},
   "cell_type": "markdown",
   "metadata": {},
   "source": [
    "## Bernoulli Naive Bayes"
   ]
  },
  {
   "cell_type": "code",
   "execution_count": 56,
   "metadata": {},
   "outputs": [
    {
     "data": {
      "text/html": [
       "<style>#sk-container-id-7 {color: black;background-color: white;}#sk-container-id-7 pre{padding: 0;}#sk-container-id-7 div.sk-toggleable {background-color: white;}#sk-container-id-7 label.sk-toggleable__label {cursor: pointer;display: block;width: 100%;margin-bottom: 0;padding: 0.3em;box-sizing: border-box;text-align: center;}#sk-container-id-7 label.sk-toggleable__label-arrow:before {content: \"▸\";float: left;margin-right: 0.25em;color: #696969;}#sk-container-id-7 label.sk-toggleable__label-arrow:hover:before {color: black;}#sk-container-id-7 div.sk-estimator:hover label.sk-toggleable__label-arrow:before {color: black;}#sk-container-id-7 div.sk-toggleable__content {max-height: 0;max-width: 0;overflow: hidden;text-align: left;background-color: #f0f8ff;}#sk-container-id-7 div.sk-toggleable__content pre {margin: 0.2em;color: black;border-radius: 0.25em;background-color: #f0f8ff;}#sk-container-id-7 input.sk-toggleable__control:checked~div.sk-toggleable__content {max-height: 200px;max-width: 100%;overflow: auto;}#sk-container-id-7 input.sk-toggleable__control:checked~label.sk-toggleable__label-arrow:before {content: \"▾\";}#sk-container-id-7 div.sk-estimator input.sk-toggleable__control:checked~label.sk-toggleable__label {background-color: #d4ebff;}#sk-container-id-7 div.sk-label input.sk-toggleable__control:checked~label.sk-toggleable__label {background-color: #d4ebff;}#sk-container-id-7 input.sk-hidden--visually {border: 0;clip: rect(1px 1px 1px 1px);clip: rect(1px, 1px, 1px, 1px);height: 1px;margin: -1px;overflow: hidden;padding: 0;position: absolute;width: 1px;}#sk-container-id-7 div.sk-estimator {font-family: monospace;background-color: #f0f8ff;border: 1px dotted black;border-radius: 0.25em;box-sizing: border-box;margin-bottom: 0.5em;}#sk-container-id-7 div.sk-estimator:hover {background-color: #d4ebff;}#sk-container-id-7 div.sk-parallel-item::after {content: \"\";width: 100%;border-bottom: 1px solid gray;flex-grow: 1;}#sk-container-id-7 div.sk-label:hover label.sk-toggleable__label {background-color: #d4ebff;}#sk-container-id-7 div.sk-serial::before {content: \"\";position: absolute;border-left: 1px solid gray;box-sizing: border-box;top: 0;bottom: 0;left: 50%;z-index: 0;}#sk-container-id-7 div.sk-serial {display: flex;flex-direction: column;align-items: center;background-color: white;padding-right: 0.2em;padding-left: 0.2em;position: relative;}#sk-container-id-7 div.sk-item {position: relative;z-index: 1;}#sk-container-id-7 div.sk-parallel {display: flex;align-items: stretch;justify-content: center;background-color: white;position: relative;}#sk-container-id-7 div.sk-item::before, #sk-container-id-7 div.sk-parallel-item::before {content: \"\";position: absolute;border-left: 1px solid gray;box-sizing: border-box;top: 0;bottom: 0;left: 50%;z-index: -1;}#sk-container-id-7 div.sk-parallel-item {display: flex;flex-direction: column;z-index: 1;position: relative;background-color: white;}#sk-container-id-7 div.sk-parallel-item:first-child::after {align-self: flex-end;width: 50%;}#sk-container-id-7 div.sk-parallel-item:last-child::after {align-self: flex-start;width: 50%;}#sk-container-id-7 div.sk-parallel-item:only-child::after {width: 0;}#sk-container-id-7 div.sk-dashed-wrapped {border: 1px dashed gray;margin: 0 0.4em 0.5em 0.4em;box-sizing: border-box;padding-bottom: 0.4em;background-color: white;}#sk-container-id-7 div.sk-label label {font-family: monospace;font-weight: bold;display: inline-block;line-height: 1.2em;}#sk-container-id-7 div.sk-label-container {text-align: center;}#sk-container-id-7 div.sk-container {/* jupyter's `normalize.less` sets `[hidden] { display: none; }` but bootstrap.min.css set `[hidden] { display: none !important; }` so we also need the `!important` here to be able to override the default hidden behavior on the sphinx rendered scikit-learn.org. See: https://github.com/scikit-learn/scikit-learn/issues/21755 */display: inline-block !important;position: relative;}#sk-container-id-7 div.sk-text-repr-fallback {display: none;}</style><div id=\"sk-container-id-7\" class=\"sk-top-container\"><div class=\"sk-text-repr-fallback\"><pre>GaussianNB()</pre><b>In a Jupyter environment, please rerun this cell to show the HTML representation or trust the notebook. <br />On GitHub, the HTML representation is unable to render, please try loading this page with nbviewer.org.</b></div><div class=\"sk-container\" hidden><div class=\"sk-item\"><div class=\"sk-estimator sk-toggleable\"><input class=\"sk-toggleable__control sk-hidden--visually\" id=\"sk-estimator-id-13\" type=\"checkbox\" checked><label for=\"sk-estimator-id-13\" class=\"sk-toggleable__label sk-toggleable__label-arrow\">GaussianNB</label><div class=\"sk-toggleable__content\"><pre>GaussianNB()</pre></div></div></div></div></div>"
      ],
      "text/plain": [
       "GaussianNB()"
      ]
     },
     "execution_count": 56,
     "metadata": {},
     "output_type": "execute_result"
    }
   ],
   "source": [
    "nb = GaussianNB()\n",
    "nb.fit(X_train_vectorized.toarray(),y_train)"
   ]
  },
  {
   "cell_type": "code",
   "execution_count": 57,
   "metadata": {},
   "outputs": [],
   "source": [
    "nb_pred = nb.predict(X_test_vectorized.toarray())"
   ]
  },
  {
   "cell_type": "code",
   "execution_count": 59,
   "metadata": {},
   "outputs": [
    {
     "name": "stdout",
     "output_type": "stream",
     "text": [
      "NaiveBayes Accuracy: 0.07415730337078652\n",
      "NaiveBayes Precision: 0.23685503463517255\n",
      "NaiveBayes Recall: 0.07415730337078652\n",
      "NaiveBayes F1 score: 0.10554397020352854\n"
     ]
    },
    {
     "name": "stderr",
     "output_type": "stream",
     "text": [
      "/Users/los/opt/anaconda3/lib/python3.9/site-packages/sklearn/metrics/_classification.py:1344: UndefinedMetricWarning: Precision is ill-defined and being set to 0.0 in labels with no predicted samples. Use `zero_division` parameter to control this behavior.\n",
      "/Users/los/opt/anaconda3/lib/python3.9/site-packages/sklearn/metrics/_classification.py:1344: UndefinedMetricWarning: Recall is ill-defined and being set to 0.0 in labels with no true samples. Use `zero_division` parameter to control this behavior.\n"
     ]
    }
   ],
   "source": [
    "print('NaiveBayes Accuracy:', accuracy_score(y_test, nb_pred))\n",
    "print('NaiveBayes Precision:', precision_score(y_test, nb_pred, average='weighted'))\n",
    "print('NaiveBayes Recall:', recall_score(y_test, nb_pred, average='weighted'))\n",
    "print('NaiveBayes F1 score:', f1_score(y_test, nb_pred, average='weighted'))"
   ]
  },
  {
   "cell_type": "code",
   "execution_count": 63,
   "metadata": {},
   "outputs": [],
   "source": [
    "pipeline_nb = Pipeline([('vectorizer',vectorizer),\n",
    "                        ('nb', GaussianNB())])\n",
    "\n",
    "nb_parameters = {'nb__var_smoothing': [2.31012970e-08, 1.87381742e-08, 1.51991108e-08, 1.23284674e-08,\n",
    "       1.00000000e-08, 8.11130831e-09, 6.57933225e-09, 5.33669923e-09]}"
   ]
  }
 ],
 "metadata": {
  "kernelspec": {
   "display_name": "base",
   "language": "python",
   "name": "python3"
  },
  "language_info": {
   "codemirror_mode": {
    "name": "ipython",
    "version": 3
   },
   "file_extension": ".py",
   "mimetype": "text/x-python",
   "name": "python",
   "nbconvert_exporter": "python",
   "pygments_lexer": "ipython3",
   "version": "3.9.13"
  },
  "orig_nbformat": 4
 },
 "nbformat": 4,
 "nbformat_minor": 2
}
