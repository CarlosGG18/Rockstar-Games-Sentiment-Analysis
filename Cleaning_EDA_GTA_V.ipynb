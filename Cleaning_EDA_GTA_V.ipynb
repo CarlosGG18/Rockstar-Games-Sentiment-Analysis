{
 "cells": [
  {
   "cell_type": "code",
   "execution_count": 1,
   "metadata": {},
   "outputs": [],
   "source": [
    "import pandas as pd\n",
    "import numpy as np \n",
    "import os \n",
    "import matplotlib.pyplot as plt\n",
    "import seaborn as sns\n",
    "from wordcloud import WordCloud\n",
    "import datetime\n",
    "\n",
    "import re\n",
    "import string\n",
    "import itertools\n",
    "\n",
    "import nltk\n",
    "from nltk.corpus import stopwords\n",
    "from nltk.corpus import sentiwordnet as swn\n",
    "from nltk.stem import WordNetLemmatizer\n",
    "from nltk.stem.wordnet import WordNetLemmatizer\n",
    "from nltk import pos_tag\n",
    "from nltk.tokenize import regexp_tokenize, word_tokenize, RegexpTokenizer\n",
    "from nltk.probability import FreqDist\n",
    "import langid\n",
    "from nltk.collocations import BigramAssocMeasures, BigramCollocationFinder, TrigramAssocMeasures, TrigramCollocationFinder\n"
   ]
  },
  {
   "cell_type": "code",
   "execution_count": 2,
   "metadata": {},
   "outputs": [
    {
     "name": "stdout",
     "output_type": "stream",
     "text": [
      "<class 'pandas.core.frame.DataFrame'>\n",
      "RangeIndex: 50000 entries, 0 to 49999\n",
      "Data columns (total 16 columns):\n",
      " #   Column                       Non-Null Count  Dtype  \n",
      "---  ------                       --------------  -----  \n",
      " 0   recommendationid             50000 non-null  int64  \n",
      " 1   author                       50000 non-null  object \n",
      " 2   language                     50000 non-null  object \n",
      " 3   review                       49724 non-null  object \n",
      " 4   timestamp_created            50000 non-null  int64  \n",
      " 5   timestamp_updated            50000 non-null  int64  \n",
      " 6   voted_up                     50000 non-null  bool   \n",
      " 7   votes_up                     50000 non-null  int64  \n",
      " 8   votes_funny                  50000 non-null  int64  \n",
      " 9   weighted_vote_score          50000 non-null  float64\n",
      " 10  comment_count                50000 non-null  int64  \n",
      " 11  steam_purchase               50000 non-null  bool   \n",
      " 12  received_for_free            50000 non-null  bool   \n",
      " 13  written_during_early_access  50000 non-null  bool   \n",
      " 14  hidden_in_steam_china        50000 non-null  bool   \n",
      " 15  steam_china_location         0 non-null      float64\n",
      "dtypes: bool(5), float64(2), int64(6), object(3)\n",
      "memory usage: 4.4+ MB\n"
     ]
    }
   ],
   "source": [
    "df = pd.read_csv('GTA_V.csv')\n",
    "df.info()"
   ]
  },
  {
   "cell_type": "code",
   "execution_count": 3,
   "metadata": {},
   "outputs": [
    {
     "data": {
      "text/plain": [
       "0.000000    0.88504\n",
       "0.523810    0.03918\n",
       "0.476190    0.01320\n",
       "0.521739    0.00426\n",
       "0.478261    0.00188\n",
       "             ...   \n",
       "0.579176    0.00002\n",
       "0.609912    0.00002\n",
       "0.572380    0.00002\n",
       "0.805616    0.00002\n",
       "0.529747    0.00002\n",
       "Name: weighted_vote_score, Length: 1212, dtype: float64"
      ]
     },
     "execution_count": 3,
     "metadata": {},
     "output_type": "execute_result"
    }
   ],
   "source": [
    "df['received_for_free'].value_counts(normalize=True)"
   ]
  },
  {
   "cell_type": "code",
   "execution_count": 4,
   "metadata": {},
   "outputs": [
    {
     "data": {
      "text/plain": [
       "True     0.90082\n",
       "False    0.09918\n",
       "Name: voted_up, dtype: float64"
      ]
     },
     "execution_count": 4,
     "metadata": {},
     "output_type": "execute_result"
    }
   ],
   "source": [
    "df['voted_up'].value_counts(normalize=True)\n"
   ]
  },
  {
   "cell_type": "code",
   "execution_count": 5,
   "metadata": {},
   "outputs": [
    {
     "data": {
      "text/plain": [
       "0.000000    0.88504\n",
       "0.523810    0.03918\n",
       "0.476190    0.01320\n",
       "0.521739    0.00426\n",
       "0.478261    0.00188\n",
       "             ...   \n",
       "0.579176    0.00002\n",
       "0.609912    0.00002\n",
       "0.572380    0.00002\n",
       "0.805616    0.00002\n",
       "0.529747    0.00002\n",
       "Name: weighted_vote_score, Length: 1212, dtype: float64"
      ]
     },
     "execution_count": 5,
     "metadata": {},
     "output_type": "execute_result"
    }
   ],
   "source": [
    "df['weighted_vote_score'].value_counts(normalize=True)"
   ]
  },
  {
   "cell_type": "code",
   "execution_count": 6,
   "metadata": {},
   "outputs": [
    {
     "data": {
      "text/plain": [
       "\"{'steamid': '76561199217985175', 'num_games_owned': 16, 'num_reviews': 4, 'playtime_forever': 1809, 'playtime_last_two_weeks': 238, 'playtime_at_review': 1809, 'last_played': 1678462695}\""
      ]
     },
     "execution_count": 6,
     "metadata": {},
     "output_type": "execute_result"
    }
   ],
   "source": [
    "#Want key, values within Author column to be its own columns, so need to extract \n",
    "df['author'][0]"
   ]
  },
  {
   "cell_type": "code",
   "execution_count": 7,
   "metadata": {},
   "outputs": [],
   "source": [
    "def extract_author_data(author_string):\n",
    "    author_dict = eval(author_string)  # convert the string to a dictionary\n",
    "    return author_dict"
   ]
  },
  {
   "cell_type": "code",
   "execution_count": 8,
   "metadata": {},
   "outputs": [],
   "source": [
    "df['author_data'] = df['author'].apply(extract_author_data)\n"
   ]
  },
  {
   "cell_type": "code",
   "execution_count": 9,
   "metadata": {},
   "outputs": [],
   "source": [
    "df = pd.concat([df.drop(['author_data'], axis=1), df['author_data'].apply(pd.Series)], axis=1)\n",
    "df = df.drop(['author'], axis=1)"
   ]
  },
  {
   "cell_type": "code",
   "execution_count": 10,
   "metadata": {},
   "outputs": [
    {
     "data": {
      "text/html": [
       "<div>\n",
       "<style scoped>\n",
       "    .dataframe tbody tr th:only-of-type {\n",
       "        vertical-align: middle;\n",
       "    }\n",
       "\n",
       "    .dataframe tbody tr th {\n",
       "        vertical-align: top;\n",
       "    }\n",
       "\n",
       "    .dataframe thead th {\n",
       "        text-align: right;\n",
       "    }\n",
       "</style>\n",
       "<table border=\"1\" class=\"dataframe\">\n",
       "  <thead>\n",
       "    <tr style=\"text-align: right;\">\n",
       "      <th></th>\n",
       "      <th>recommendationid</th>\n",
       "      <th>language</th>\n",
       "      <th>review</th>\n",
       "      <th>timestamp_created</th>\n",
       "      <th>timestamp_updated</th>\n",
       "      <th>voted_up</th>\n",
       "      <th>votes_up</th>\n",
       "      <th>votes_funny</th>\n",
       "      <th>weighted_vote_score</th>\n",
       "      <th>comment_count</th>\n",
       "      <th>...</th>\n",
       "      <th>written_during_early_access</th>\n",
       "      <th>hidden_in_steam_china</th>\n",
       "      <th>steam_china_location</th>\n",
       "      <th>steamid</th>\n",
       "      <th>num_games_owned</th>\n",
       "      <th>num_reviews</th>\n",
       "      <th>playtime_forever</th>\n",
       "      <th>playtime_last_two_weeks</th>\n",
       "      <th>playtime_at_review</th>\n",
       "      <th>last_played</th>\n",
       "    </tr>\n",
       "  </thead>\n",
       "  <tbody>\n",
       "    <tr>\n",
       "      <th>0</th>\n",
       "      <td>134422026</td>\n",
       "      <td>english</td>\n",
       "      <td>N word 😎😎</td>\n",
       "      <td>1678474766</td>\n",
       "      <td>1678474766</td>\n",
       "      <td>True</td>\n",
       "      <td>0</td>\n",
       "      <td>0</td>\n",
       "      <td>0.0</td>\n",
       "      <td>0</td>\n",
       "      <td>...</td>\n",
       "      <td>False</td>\n",
       "      <td>True</td>\n",
       "      <td>NaN</td>\n",
       "      <td>76561199217985175</td>\n",
       "      <td>16</td>\n",
       "      <td>4</td>\n",
       "      <td>1809</td>\n",
       "      <td>238</td>\n",
       "      <td>1809</td>\n",
       "      <td>1678462695</td>\n",
       "    </tr>\n",
       "    <tr>\n",
       "      <th>1</th>\n",
       "      <td>134422008</td>\n",
       "      <td>english</td>\n",
       "      <td>ggggaaaaaaaaanggggg\\n\\n</td>\n",
       "      <td>1678474749</td>\n",
       "      <td>1678474749</td>\n",
       "      <td>True</td>\n",
       "      <td>0</td>\n",
       "      <td>0</td>\n",
       "      <td>0.0</td>\n",
       "      <td>0</td>\n",
       "      <td>...</td>\n",
       "      <td>False</td>\n",
       "      <td>True</td>\n",
       "      <td>NaN</td>\n",
       "      <td>76561199406373367</td>\n",
       "      <td>6</td>\n",
       "      <td>3</td>\n",
       "      <td>186</td>\n",
       "      <td>186</td>\n",
       "      <td>183</td>\n",
       "      <td>1678474907</td>\n",
       "    </tr>\n",
       "    <tr>\n",
       "      <th>2</th>\n",
       "      <td>134421845</td>\n",
       "      <td>english</td>\n",
       "      <td>fun</td>\n",
       "      <td>1678474576</td>\n",
       "      <td>1678474576</td>\n",
       "      <td>True</td>\n",
       "      <td>0</td>\n",
       "      <td>0</td>\n",
       "      <td>0.0</td>\n",
       "      <td>0</td>\n",
       "      <td>...</td>\n",
       "      <td>False</td>\n",
       "      <td>True</td>\n",
       "      <td>NaN</td>\n",
       "      <td>76561199186246169</td>\n",
       "      <td>7</td>\n",
       "      <td>2</td>\n",
       "      <td>583</td>\n",
       "      <td>22</td>\n",
       "      <td>560</td>\n",
       "      <td>1678475969</td>\n",
       "    </tr>\n",
       "    <tr>\n",
       "      <th>3</th>\n",
       "      <td>134421764</td>\n",
       "      <td>english</td>\n",
       "      <td>GOOD</td>\n",
       "      <td>1678474476</td>\n",
       "      <td>1678474476</td>\n",
       "      <td>True</td>\n",
       "      <td>0</td>\n",
       "      <td>0</td>\n",
       "      <td>0.0</td>\n",
       "      <td>0</td>\n",
       "      <td>...</td>\n",
       "      <td>False</td>\n",
       "      <td>True</td>\n",
       "      <td>NaN</td>\n",
       "      <td>76561199232914042</td>\n",
       "      <td>77</td>\n",
       "      <td>7</td>\n",
       "      <td>406</td>\n",
       "      <td>10</td>\n",
       "      <td>406</td>\n",
       "      <td>1678468636</td>\n",
       "    </tr>\n",
       "    <tr>\n",
       "      <th>4</th>\n",
       "      <td>134420856</td>\n",
       "      <td>english</td>\n",
       "      <td>:))</td>\n",
       "      <td>1678473401</td>\n",
       "      <td>1678473401</td>\n",
       "      <td>True</td>\n",
       "      <td>0</td>\n",
       "      <td>0</td>\n",
       "      <td>0.0</td>\n",
       "      <td>0</td>\n",
       "      <td>...</td>\n",
       "      <td>False</td>\n",
       "      <td>True</td>\n",
       "      <td>NaN</td>\n",
       "      <td>76561199471446519</td>\n",
       "      <td>5</td>\n",
       "      <td>2</td>\n",
       "      <td>1857</td>\n",
       "      <td>530</td>\n",
       "      <td>1857</td>\n",
       "      <td>1678473398</td>\n",
       "    </tr>\n",
       "  </tbody>\n",
       "</table>\n",
       "<p>5 rows × 22 columns</p>\n",
       "</div>"
      ],
      "text/plain": [
       "   recommendationid language                   review  timestamp_created  \\\n",
       "0         134422026  english                N word 😎😎         1678474766   \n",
       "1         134422008  english  ggggaaaaaaaaanggggg\\n\\n         1678474749   \n",
       "2         134421845  english                      fun         1678474576   \n",
       "3         134421764  english                     GOOD         1678474476   \n",
       "4         134420856  english                      :))         1678473401   \n",
       "\n",
       "   timestamp_updated  voted_up  votes_up  votes_funny  weighted_vote_score  \\\n",
       "0         1678474766      True         0            0                  0.0   \n",
       "1         1678474749      True         0            0                  0.0   \n",
       "2         1678474576      True         0            0                  0.0   \n",
       "3         1678474476      True         0            0                  0.0   \n",
       "4         1678473401      True         0            0                  0.0   \n",
       "\n",
       "   comment_count  ...  written_during_early_access  hidden_in_steam_china  \\\n",
       "0              0  ...                        False                   True   \n",
       "1              0  ...                        False                   True   \n",
       "2              0  ...                        False                   True   \n",
       "3              0  ...                        False                   True   \n",
       "4              0  ...                        False                   True   \n",
       "\n",
       "   steam_china_location            steamid  num_games_owned num_reviews  \\\n",
       "0                   NaN  76561199217985175               16           4   \n",
       "1                   NaN  76561199406373367                6           3   \n",
       "2                   NaN  76561199186246169                7           2   \n",
       "3                   NaN  76561199232914042               77           7   \n",
       "4                   NaN  76561199471446519                5           2   \n",
       "\n",
       "   playtime_forever  playtime_last_two_weeks  playtime_at_review  last_played  \n",
       "0              1809                      238                1809   1678462695  \n",
       "1               186                      186                 183   1678474907  \n",
       "2               583                       22                 560   1678475969  \n",
       "3               406                       10                 406   1678468636  \n",
       "4              1857                      530                1857   1678473398  \n",
       "\n",
       "[5 rows x 22 columns]"
      ]
     },
     "execution_count": 10,
     "metadata": {},
     "output_type": "execute_result"
    }
   ],
   "source": [
    "df.head()"
   ]
  },
  {
   "cell_type": "code",
   "execution_count": 11,
   "metadata": {},
   "outputs": [
    {
     "name": "stdout",
     "output_type": "stream",
     "text": [
      "<class 'pandas.core.frame.DataFrame'>\n",
      "Int64Index: 49724 entries, 0 to 49999\n",
      "Data columns (total 21 columns):\n",
      " #   Column                       Non-Null Count  Dtype  \n",
      "---  ------                       --------------  -----  \n",
      " 0   recommendationid             49724 non-null  int64  \n",
      " 1   language                     49724 non-null  object \n",
      " 2   review                       49724 non-null  object \n",
      " 3   timestamp_created            49724 non-null  int64  \n",
      " 4   timestamp_updated            49724 non-null  int64  \n",
      " 5   voted_up                     49724 non-null  bool   \n",
      " 6   votes_up                     49724 non-null  int64  \n",
      " 7   votes_funny                  49724 non-null  int64  \n",
      " 8   weighted_vote_score          49724 non-null  float64\n",
      " 9   comment_count                49724 non-null  int64  \n",
      " 10  steam_purchase               49724 non-null  bool   \n",
      " 11  received_for_free            49724 non-null  bool   \n",
      " 12  written_during_early_access  49724 non-null  bool   \n",
      " 13  hidden_in_steam_china        49724 non-null  bool   \n",
      " 14  steamid                      49724 non-null  object \n",
      " 15  num_games_owned              49724 non-null  int64  \n",
      " 16  num_reviews                  49724 non-null  int64  \n",
      " 17  playtime_forever             49724 non-null  int64  \n",
      " 18  playtime_last_two_weeks      49724 non-null  int64  \n",
      " 19  playtime_at_review           49724 non-null  int64  \n",
      " 20  last_played                  49724 non-null  int64  \n",
      "dtypes: bool(5), float64(1), int64(12), object(3)\n",
      "memory usage: 6.7+ MB\n"
     ]
    }
   ],
   "source": [
    "df.drop(['steam_china_location'], axis=1, inplace=True)\n",
    "df.dropna(inplace=True)\n",
    "df.info()"
   ]
  },
  {
   "cell_type": "code",
   "execution_count": 12,
   "metadata": {},
   "outputs": [
    {
     "data": {
      "text/plain": [
       "count    49724.000000\n",
       "mean        39.481176\n",
       "std        126.697189\n",
       "min          0.000000\n",
       "25%          5.000000\n",
       "50%         14.000000\n",
       "75%         37.000000\n",
       "max      16506.000000\n",
       "Name: num_games_owned, dtype: float64"
      ]
     },
     "execution_count": 12,
     "metadata": {},
     "output_type": "execute_result"
    }
   ],
   "source": [
    "df['num_games_owned'].describe()"
   ]
  },
  {
   "cell_type": "code",
   "execution_count": 14,
   "metadata": {},
   "outputs": [
    {
     "name": "stdout",
     "output_type": "stream",
     "text": [
      "[h1]Introduction[/h1]\n",
      "The embodiment of gaming's self-irony. Mocking corporate greed until you start showcasing that precise trait in real life. That is how Grand Theft Auto 5 can be summarised, at least as far as I'm concerned. \n",
      "\n",
      "Out of sheer boredom rather than explicit intention, I've decided to review a title I still hold in high regard even if it's starting to feel more and more like an excruciating, guilty pleasure with each passing year of its far prolonged \"shelf life\". \n",
      "\n",
      "[b]“You either die a hero or you live long enough to see yourself become the villain.”[/b]\n",
      "\n",
      "The catalyst for this article was reading recently that GTA V has sold over 170 million units in nine years since release. I played it since day one, on the PS3 and 2013 now seems like a far cry from current world circumstances. \n",
      "\n",
      "I would lie if I claimed that I didn't have a boatload of fun within this condensed open world, yet I must warn you that I shall only  write about the singleplayer component which I have completed several times by this point.\n",
      "\n",
      "Yes, covering just the part that's been an afterthought for Rockstar Games, since their dear cash cow is still being represented by Grand Theft Auto Online. If you're looking for hate or praise in regards to Shark Cards and the \"organised chaos\" of multiplayer GTA V, this isn't the right place.\n",
      "\n",
      " I have no desire to indulge in it, even if I may have some strong feelings for the practice itself. Suffice to say, I've been a GTA fan for almost 25 years, which means I'm one of those \"dinosaurs\" that enjoyed the series before it went 3D and left its mark upon the gaming industry. \n",
      "\n",
      "Out of respect for those countless hours of entertainment this franchise has provided me, I shall allow it the benefit of doubt in regards to its uncertain future as a singleplayer experience. I truly want Rockstar to prove me wrong.\n",
      "\n",
      "https://steamcommunity.com/sharedfiles/filedetails/?id=2660064888\n",
      "\n",
      "[h1]Story[/h1]\n",
      "From a narrative perspective, you'll either find GTA V's story to be a step forward or a side step from the gritty realism of its predecessor. My jury's still out, yet I am certain of one thing: I enjoyed the new approach encompassing multiple protagonists. \n",
      "\n",
      "That was the right move in terms of finally bringing a novelty factor towards the same rags-to-riches pattern exhibited since GTA III. Not all our current anti-heroes start poor and clueless this time around. Some are even likeable, once you role play with them a bit.\n",
      "\n",
      "While they still share law breaking proclivities, their personalities are fairly fleshed out, so they can no longer be boiled down to just \"thugs with ties to organised crime\" like in previous GTA entries. \n",
      "\n",
      "The 2013 renditions of Los Santos and Blaine County are no longer linked to San Fierro or Las Venturas like in 2004's map of San Andreas, but it would be a mistake to consider the playground smaller. It is in both larger and more condensed.\n",
      "\n",
      "Chock-full of interesting locations and walking caricatures. Without a doubt, the map is the fourth character and the one you'll interact with the most, no matter how often you switch between the three official main characters. \n",
      "\n",
      "Hiking off the beaten path and into the wilderness, should still be excercised with caution, as cougars can spawn fast and they'll one-shot kill (more like tear you to pieces) unless you spot them in time. Hunter becoming prey is a nice twist and this title is filled with occasions turning tropes upside down.\n",
      "\n",
      " [h1]Graphics[/h1] \n",
      "The Rockstar Advanced Game Engine, abbreviated as RAGE is state of the art and proprietary to its developer. No surprise given the massive popularity of Grand Theft Auto and the near limitless budgets which Rockstar titles can enjoy. \n",
      "\n",
      "While stability can't be guaranteed on launch day, it's mostly smooth sailing after a patch or two. By 2022, you can't expect any technical issues from GTA V, if you have a decent enough system adhering to the recommended specs.\n",
      "\n",
      "https://steamcommunity.com/sharedfiles/filedetails/?id=2706895346\n",
      "\n",
      "A sight to behold, if you can max it out and it's making my task very easy in terms of disabling the HUD at will and going crazy with the screenshots. Still resumed myself to a number shy of 300 images for my official showcase, but I surely archived twice as many pics by the time I had reached story progress and side activities to 100%.\n",
      "\n",
      "Never a dull moment, trust me on that. The \"vanilla\" textures and assets are still passable, but if the system can handle it, dip your toes into some visual mods. First person perspective on PC was a delight, coming from the PS3 version. \n",
      "\n",
      "[h1]Audio[/h1]\n",
      "GTA titles have been shining through their talented voice actors since 2001. With no exception, whether we're talking Hollywood actors past their prime or \"illustrious nobodies\" skyrocketing to fame (and online harassment sometimes). It sounds convincing and amusing even in situations when these games try to act all serious.\n",
      "\n",
      "No cause for complaints. And that can only be highlighted by stellar choices in terms of soundtrack. My love for '80s music started with GTA III and reached maturity by the time Vice City was all the rage. I'm forever grateful to this series for shaping my tastes in music.\n",
      "\n",
      "[h1]Gameplay[/h1]\n",
      "The true heist only takes place after you've completed all the heist missions, if you play your cards right. And you should, as gaming the stock market is highlighting a very real concern in regards to our society today. The real crooks are sharply dressed and strolling around in their \"ivory tower\" skyscrapers. \n",
      "\n",
      "Manipulating the stock markets and banking system for their own selfish interests. What you rob during the story's heist missions will be little more than peanuts in comparison to what you'll score once you \"gently push\" the markets in your favor. \n",
      "\n",
      "Save Lester's Assassination side missions until you've finished the rest of the story. You can then find guides on how to maximize your payout. By the end of it all, you'll have more cash than stuff to spend it on. \n",
      "\n",
      "Just be patient and don't go on a shopping spree prior to manipulating the stocks. It may even open your eyes on how that world and ours truly operate. Only thing missing after that is a \"career in politics\" DLC. Or any sort of additional content for GTA V in fact.\n",
      "\n",
      "https://steamcommunity.com/sharedfiles/filedetails/?id=2704147247\n",
      "\n",
      "DLC plans were obviously scrapped to make way for the lucrative Online modes. Still won't throw shade on them even if a single hour of multiplayer was enough in my case. Different strokes for different blokes. More SP heists would have been nice.\n",
      "\n",
      "You certainly don't need anyone telling you how to play a GTA entry, right? Obeying the traffic laws isn't a very high priority. Mission diversity is guaranteed and the cutscenes almost give the Metal Gear series a run for its money. If only they'd be just as lengthy.\n",
      "\n",
      "[h1]Verdict[/h1]\n",
      "Overall, I am not surprised that Grand Theft Auto V has stood \"the test of time\" for nearly a decade. The singleplayer component alone, is superior to all open world competitors focusing on contemporary urban tales. They don't call them \"GTA clones\" without a good reason, of course.\n",
      "\n",
      "I've played a lot of open world titles, since it became a favorite genre of mine. Also thanks to GTA, some two decades ago. Much has changed, even Rockstar itself. I won't be entirely pessimistic about what the future may hold and regardless of that, make sure you enjoy GTA V's story before heading to Online and never looking back.\n",
      "\n",
      "[h1]Strong Points[/h1]\n",
      "+ Steam Achievements.\n",
      "+ Replay value overload.\n",
      "+ Excellent story & characters.\n",
      "+ Gorgeous graphics and sounds.\n",
      "\n",
      "[h1]Weak Points[/h1]\n",
      "- No Steam Trading Cards.\n",
      "\n",
      "[quote]This article was submitted for [url=http://steamcommunity.com/groups/ImperialReviews]Imperial Reviews[/url]. Following my [url=https://store.steampowered.com/curator/25802515-Imperial-Reviews/]Curator Page[/url], will help me keep publishing new reviews as soon as I can. Thank you for your support![/quote]\n"
     ]
    }
   ],
   "source": [
    "games_owned_outlier = df.loc[df['num_games_owned']== 16506.000000] # despite this record being an outlier for owned the review is real and needs to be kept \n",
    "print(games_owned_outlier.loc[22565, 'review'])"
   ]
  },
  {
   "cell_type": "code",
   "execution_count": 19,
   "metadata": {},
   "outputs": [],
   "source": [
    "# #Define function to convert a Unix timestamp to a datetime object\n",
    "def unix_to_datetime(timestamp):\n",
    "    return datetime.datetime.fromtimestamp(timestamp)\n",
    "df[\"last_played\"] = df[\"last_played\"].apply(unix_to_datetime)\n",
    "\n"
   ]
  },
  {
   "cell_type": "code",
   "execution_count": 21,
   "metadata": {},
   "outputs": [
    {
     "data": {
      "text/plain": [
       "0       2023-03-10 10:38:15\n",
       "1       2023-03-10 14:01:47\n",
       "2       2023-03-10 14:19:29\n",
       "3       2023-03-10 12:17:16\n",
       "4       2023-03-10 13:36:38\n",
       "                ...        \n",
       "49995   2022-07-13 00:04:56\n",
       "49996   2023-02-28 19:20:06\n",
       "49997   2023-03-10 01:19:48\n",
       "49998   2022-12-08 21:30:12\n",
       "49999   2023-01-31 09:23:05\n",
       "Name: last_played, Length: 49724, dtype: datetime64[ns]"
      ]
     },
     "execution_count": 21,
     "metadata": {},
     "output_type": "execute_result"
    }
   ],
   "source": [
    "df['last_played']"
   ]
  },
  {
   "cell_type": "code",
   "execution_count": 22,
   "metadata": {},
   "outputs": [
    {
     "data": {
      "text/plain": [
       "0     0.986184\n",
       "1     0.009875\n",
       "2     0.001890\n",
       "3     0.000825\n",
       "4     0.000422\n",
       "5     0.000201\n",
       "7     0.000101\n",
       "6     0.000080\n",
       "8     0.000080\n",
       "10    0.000080\n",
       "15    0.000040\n",
       "24    0.000020\n",
       "31    0.000020\n",
       "25    0.000020\n",
       "11    0.000020\n",
       "34    0.000020\n",
       "13    0.000020\n",
       "26    0.000020\n",
       "28    0.000020\n",
       "43    0.000020\n",
       "36    0.000020\n",
       "40    0.000020\n",
       "Name: comment_count, dtype: float64"
      ]
     },
     "execution_count": 22,
     "metadata": {},
     "output_type": "execute_result"
    }
   ],
   "source": [
    "df['comment_count'].value_counts(normalize=True) # Wont be needing this due to huge imbalance\n"
   ]
  },
  {
   "cell_type": "code",
   "execution_count": 24,
   "metadata": {},
   "outputs": [],
   "source": [
    "df.drop('comment_count', axis= 1, inplace = True)"
   ]
  },
  {
   "cell_type": "code",
   "execution_count": 23,
   "metadata": {},
   "outputs": [
    {
     "data": {
      "text/plain": [
       "601      0.000302\n",
       "503      0.000282\n",
       "1387     0.000282\n",
       "970      0.000282\n",
       "225      0.000261\n",
       "           ...   \n",
       "50088    0.000020\n",
       "37414    0.000020\n",
       "47392    0.000020\n",
       "48505    0.000020\n",
       "49095    0.000020\n",
       "Name: playtime_forever, Length: 21748, dtype: float64"
      ]
     },
     "execution_count": 23,
     "metadata": {},
     "output_type": "execute_result"
    }
   ],
   "source": [
    "df['playtime_forever'].value_counts(normalize=True)"
   ]
  },
  {
   "cell_type": "code",
   "execution_count": 26,
   "metadata": {},
   "outputs": [
    {
     "data": {
      "image/png": "[encoded data removed]",
      "text/plain": [
       "<Figure size 640x480 with 1 Axes>"
      ]
     },
     "metadata": {},
     "output_type": "display_data"
    }
   ],
   "source": [
    "# plot a histogram with 50 bins\n",
    "plt.hist(df['playtime_forever'], bins=50)\n",
    "plt.xlabel('Playtime (hours)')\n",
    "plt.ylabel('Frequency')\n",
    "plt.show()"
   ]
  },
  {
   "cell_type": "code",
   "execution_count": 28,
   "metadata": {},
   "outputs": [
    {
     "data": {
      "text/plain": [
       "count    49724.000000\n",
       "mean         5.890194\n",
       "std         13.956404\n",
       "min          1.000000\n",
       "25%          1.000000\n",
       "50%          2.000000\n",
       "75%          6.000000\n",
       "max       1153.000000\n",
       "Name: num_reviews, dtype: float64"
      ]
     },
     "execution_count": 28,
     "metadata": {},
     "output_type": "execute_result"
    }
   ],
   "source": [
    "df['num_reviews'].describe()"
   ]
  },
  {
   "cell_type": "code",
   "execution_count": 29,
   "metadata": {},
   "outputs": [
    {
     "data": {
      "text/plain": [
       "count    49724.000000\n",
       "mean        39.481176\n",
       "std        126.697189\n",
       "min          0.000000\n",
       "25%          5.000000\n",
       "50%         14.000000\n",
       "75%         37.000000\n",
       "max      16506.000000\n",
       "Name: num_games_owned, dtype: float64"
      ]
     },
     "execution_count": 29,
     "metadata": {},
     "output_type": "execute_result"
    }
   ],
   "source": [
    "df['num_games_owned'].describe()"
   ]
  },
  {
   "cell_type": "code",
   "execution_count": 39,
   "metadata": {},
   "outputs": [
    {
     "data": {
      "image/png": "[encoded data removed]",
      "text/plain": [
       "<Figure size 640x480 with 1 Axes>"
      ]
     },
     "metadata": {},
     "output_type": "display_data"
    }
   ],
   "source": [
    "# plot a histogram with 50 bins\n",
    "plt.hist(df['num_games_owned'])\n",
    "plt.xlabel('Owned Games')\n",
    "plt.ylabel('Frequency')\n",
    "plt.show()"
   ]
  },
  {
   "cell_type": "code",
   "execution_count": 32,
   "metadata": {},
   "outputs": [
    {
     "data": {
      "text/plain": [
       "0      0.971503\n",
       "1      0.024153\n",
       "2      0.002011\n",
       "3      0.000362\n",
       "6      0.000141\n",
       "         ...   \n",
       "94     0.000020\n",
       "145    0.000020\n",
       "100    0.000020\n",
       "53     0.000020\n",
       "162    0.000020\n",
       "Name: votes_funny, Length: 62, dtype: float64"
      ]
     },
     "execution_count": 32,
     "metadata": {},
     "output_type": "execute_result"
    }
   ],
   "source": [
    "df['votes_funny'].value_counts(normalize=True)"
   ]
  },
  {
   "cell_type": "code",
   "execution_count": 33,
   "metadata": {},
   "outputs": [
    {
     "data": {
      "text/plain": [
       "count    49724.000000\n",
       "mean         0.059193\n",
       "std          0.164829\n",
       "min          0.000000\n",
       "25%          0.000000\n",
       "50%          0.000000\n",
       "75%          0.000000\n",
       "max          0.940312\n",
       "Name: weighted_vote_score, dtype: float64"
      ]
     },
     "execution_count": 33,
     "metadata": {},
     "output_type": "execute_result"
    }
   ],
   "source": [
    "df['weighted_vote_score'].describe()"
   ]
  },
  {
   "cell_type": "code",
   "execution_count": 40,
   "metadata": {},
   "outputs": [
    {
     "data": {
      "text/plain": [
       "count    49724.000000\n",
       "mean         5.890194\n",
       "std         13.956404\n",
       "min          1.000000\n",
       "25%          1.000000\n",
       "50%          2.000000\n",
       "75%          6.000000\n",
       "max       1153.000000\n",
       "Name: num_reviews, dtype: float64"
      ]
     },
     "execution_count": 40,
     "metadata": {},
     "output_type": "execute_result"
    }
   ],
   "source": [
    "df['num_reviews'].describe()"
   ]
  },
  {
   "cell_type": "code",
   "execution_count": null,
   "metadata": {},
   "outputs": [],
   "source": []
  },
  {
   "cell_type": "code",
   "execution_count": 27,
   "metadata": {},
   "outputs": [
    {
     "name": "stdout",
     "output_type": "stream",
     "text": [
      "<class 'pandas.core.frame.DataFrame'>\n",
      "Int64Index: 49724 entries, 0 to 49999\n",
      "Data columns (total 20 columns):\n",
      " #   Column                       Non-Null Count  Dtype         \n",
      "---  ------                       --------------  -----         \n",
      " 0   recommendationid             49724 non-null  int64         \n",
      " 1   language                     49724 non-null  object        \n",
      " 2   review                       49724 non-null  object        \n",
      " 3   timestamp_created            49724 non-null  int64         \n",
      " 4   timestamp_updated            49724 non-null  int64         \n",
      " 5   voted_up                     49724 non-null  bool          \n",
      " 6   votes_up                     49724 non-null  int64         \n",
      " 7   votes_funny                  49724 non-null  int64         \n",
      " 8   weighted_vote_score          49724 non-null  float64       \n",
      " 9   steam_purchase               49724 non-null  bool          \n",
      " 10  received_for_free            49724 non-null  bool          \n",
      " 11  written_during_early_access  49724 non-null  bool          \n",
      " 12  hidden_in_steam_china        49724 non-null  bool          \n",
      " 13  steamid                      49724 non-null  object        \n",
      " 14  num_games_owned              49724 non-null  int64         \n",
      " 15  num_reviews                  49724 non-null  int64         \n",
      " 16  playtime_forever             49724 non-null  int64         \n",
      " 17  playtime_last_two_weeks      49724 non-null  int64         \n",
      " 18  playtime_at_review           49724 non-null  int64         \n",
      " 19  last_played                  49724 non-null  datetime64[ns]\n",
      "dtypes: bool(5), datetime64[ns](1), float64(1), int64(10), object(3)\n",
      "memory usage: 6.3+ MB\n"
     ]
    }
   ],
   "source": [
    "df.info()"
   ]
  },
  {
   "cell_type": "code",
   "execution_count": 41,
   "metadata": {},
   "outputs": [],
   "source": [
    "df.drop(['language','votes_funny','weighted_vote_score','steam_purchase','received_for_free','written_during_early_access','hidden_in_steam_china','num_reviews','num_games_owned','playtime_last_two_weeks','playtime_at_review'], axis=1, inplace=True)"
   ]
  },
  {
   "cell_type": "code",
   "execution_count": 42,
   "metadata": {},
   "outputs": [
    {
     "name": "stdout",
     "output_type": "stream",
     "text": [
      "<class 'pandas.core.frame.DataFrame'>\n",
      "Int64Index: 49724 entries, 0 to 49999\n",
      "Data columns (total 9 columns):\n",
      " #   Column             Non-Null Count  Dtype         \n",
      "---  ------             --------------  -----         \n",
      " 0   recommendationid   49724 non-null  int64         \n",
      " 1   review             49724 non-null  object        \n",
      " 2   timestamp_created  49724 non-null  int64         \n",
      " 3   timestamp_updated  49724 non-null  int64         \n",
      " 4   voted_up           49724 non-null  bool          \n",
      " 5   votes_up           49724 non-null  int64         \n",
      " 6   steamid            49724 non-null  object        \n",
      " 7   playtime_forever   49724 non-null  int64         \n",
      " 8   last_played        49724 non-null  datetime64[ns]\n",
      "dtypes: bool(1), datetime64[ns](1), int64(5), object(2)\n",
      "memory usage: 3.5+ MB\n"
     ]
    }
   ],
   "source": [
    "df.info()"
   ]
  },
  {
   "attachments": {},
   "cell_type": "markdown",
   "metadata": {},
   "source": [
    "### Preprocessing"
   ]
  },
  {
   "cell_type": "code",
   "execution_count": null,
   "metadata": {},
   "outputs": [],
   "source": []
  },
  {
   "cell_type": "code",
   "execution_count": null,
   "metadata": {},
   "outputs": [],
   "source": [
    "num_empty = df['preprocessed_text'].apply(lambda x: len(x) == 0).sum()\n",
    "empty_rows = df[df['preprocessed_text'].apply(lambda x: len(x)) == 0].index\n",
    "\n",
    "print(f\"There are {num_empty} empty rows.\")"
   ]
  },
  {
   "cell_type": "code",
   "execution_count": null,
   "metadata": {},
   "outputs": [],
   "source": [
    "missing_tags = []\n",
    "for doc in df['preprocessed_text']:\n",
    "    for token in doc:\n",
    "        if len(token) != 2:\n",
    "            missing_tags.append(token)\n",
    "            \n",
    "if len(missing_tags) > 0:\n",
    "    print(\"The following tokens are missing a POS tag:\", missing_tags)\n",
    "else:\n",
    "    print(\"All tokens have a corresponding POS tag.\")"
   ]
  },
  {
   "cell_type": "code",
   "execution_count": null,
   "metadata": {},
   "outputs": [],
   "source": [
    "df = df.drop(empty_rows)\n",
    "df.info()\n",
    "df['preprocessed_text']"
   ]
  },
  {
   "attachments": {},
   "cell_type": "markdown",
   "metadata": {},
   "source": [
    "### Word frequency & wordcloud \n"
   ]
  },
  {
   "attachments": {},
   "cell_type": "markdown",
   "metadata": {},
   "source": [
    "freq_dist = FreqDist(df[\"preprocessed_text\"].explode())\n",
    "fdist = {k[0]:v for k, v in freq_dist.items()}\n",
    "\n",
    "# Get the top 20 most frequent words from the frequency distribution\n",
    "top_words = freq_dist.most_common(20)"
   ]
  },
  {
   "cell_type": "code",
   "execution_count": null,
   "metadata": {},
   "outputs": [],
   "source": [
    "# Extract the words and their frequencies as separate lists\n",
    "words = [word[0][0] for word in top_words]\n",
    "frequencies = [word[1] for word in top_words]"
   ]
  },
  {
   "cell_type": "code",
   "execution_count": null,
   "metadata": {},
   "outputs": [],
   "source": [
    "fig, axes = plt.subplots(nrows=1, ncols=2, figsize=(16, 8))\n",
    "ax1, ax2 = axes.flatten()\n",
    "ax1.bar(words, frequencies)\n",
    "ax1.set_title(\"Frequency Distribution of Preprocessed Steam Reviews\", fontsize=16)\n",
    "ax1.set_xlabel(\"Words\", fontsize=14)\n",
    "ax1.set_ylabel(\"Frequency\", fontsize=14)\n",
    "plt.setp(ax1.get_xticklabels(), rotation=45, ha=\"right\", fontsize=12)"
   ]
  },
  {
   "cell_type": "code",
   "execution_count": null,
   "metadata": {},
   "outputs": [],
   "source": [
    "# WordCloud\n",
    "fdist = {k[0]: v for k, v in freq_dist.items()}\n",
    "wordcloud = WordCloud(width=800, height=800, background_color='white').generate_from_frequencies(fdist)\n",
    "ax2.imshow(wordcloud)\n",
    "ax2.set_title(\"Word Cloud of Preprocessed Steam Reviews\", fontsize=16)\n",
    "ax2.axis(\"off\")\n",
    "plt.tight_layout()\n",
    "plt.show()"
   ]
  },
  {
   "cell_type": "code",
   "execution_count": null,
   "metadata": {},
   "outputs": [],
   "source": [
    "# Reviews w.Playtime mean contribution as those users played the game more than average amount\n",
    "df['playtime_forever'].describe()\n"
   ]
  },
  {
   "attachments": {},
   "cell_type": "markdown",
   "metadata": {},
   "source": [
    "Carlos you may want to use the below df for EDA... move below to before wordcloud, freqDist, eta"
   ]
  },
  {
   "cell_type": "code",
   "execution_count": null,
   "metadata": {},
   "outputs": [],
   "source": [
    "playtime_mean = df['playtime_forever'].mean()\n",
    "df_filtered = df[df['playtime_forever'] >= playtime_mean]\n",
    "df_filtered.info()"
   ]
  },
  {
   "cell_type": "code",
   "execution_count": null,
   "metadata": {},
   "outputs": [],
   "source": [
    "freq_dist_2 = FreqDist(df_filtered['preprocessed_text'].explode())\n",
    "top_words_2= freq_dist_2.most_common(20)\n",
    "words_2, freqs = zip(*top_words_2)\n",
    "words = [w[0] for w in words_2]\n",
    "plt.bar(words, freqs)\n",
    "plt.xticks(rotation=90)\n",
    "plt.show()\n"
   ]
  },
  {
   "cell_type": "code",
   "execution_count": null,
   "metadata": {},
   "outputs": [],
   "source": [
    "#### Review of users that voted down comment\n",
    "voted_down = df_filtered[df_filtered['voted_up']==False]\n",
    "voted_down_freq = FreqDist(voted_down['preprocessed_text'].explode())\n",
    "top_voted_down = voted_down_freq.most_common(20)\n",
    "words_3, freqs_2 = zip(*top_voted_down)\n",
    "words = [w[0] for w in words_3]\n",
    "plt.bar(words, freqs_2)\n",
    "plt.xticks(rotation=90)\n",
    "plt.show()\n"
   ]
  },
  {
   "cell_type": "code",
   "execution_count": null,
   "metadata": {},
   "outputs": [],
   "source": [
    "df['cleaned_text'] = df_filtered['preprocessed_text'].apply(lambda x: [word[0] for word in x])\n",
    "bigram_measures = BigramAssocMeasures()\n",
    "finder = BigramCollocationFinder.from_words(df['cleaned_text'].sum())\n",
    "finder.apply_freq_filter(5)  # filter out low-frequency bigrams\n",
    "bigrams = finder.nbest(bigram_measures.raw_freq, 50)  # get top 50 bigrams by frequency\n",
    "print(bigrams)\n"
   ]
  },
  {
   "cell_type": "code",
   "execution_count": null,
   "metadata": {},
   "outputs": [],
   "source": []
  }
 ],
 "metadata": {
  "kernelspec": {
   "display_name": "base",
   "language": "python",
   "name": "python3"
  },
  "language_info": {
   "codemirror_mode": {
    "name": "ipython",
    "version": 3
   },
   "file_extension": ".py",
   "mimetype": "text/x-python",
   "name": "python",
   "nbconvert_exporter": "python",
   "pygments_lexer": "ipython3",
   "version": "3.9.13"
  },
  "orig_nbformat": 4
 },
 "nbformat": 4,
 "nbformat_minor": 2
}
