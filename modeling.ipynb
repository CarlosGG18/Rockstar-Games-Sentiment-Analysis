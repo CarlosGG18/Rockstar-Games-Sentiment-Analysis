{
 "cells": [
  {
   "cell_type": "code",
   "execution_count": 7,
   "metadata": {},
   "outputs": [],
   "source": [
    "import pandas as pd\n",
    "import numpy as np\n",
    "import matplotlib.pyplot as plt\n",
    "\n",
    "import re\n",
    "import string\n",
    "import itertools\n",
    "\n",
    "import nltk \n",
    "from nltk.corpus import sentiwordnet as swn \n",
    "\n",
    "from afinn import Afinn\n",
    "from plotnine import ggplot, aes, geom_bar, labs, xlim\n",
    "\n",
    "import gensim\n",
    "from gensim import corpora\n",
    "from gensim.models import LdaModel\n",
    "from gensim.models import CoherenceModel\n",
    "\n",
    "from sklearn.model_selection import train_test_split\n",
    "from sklearn.feature_extraction.text import CountVectorizer\n",
    "from sklearn.linear_model import LogisticRegression\n",
    "from sklearn.metrics import accuracy_score, precision_score, recall_score, f1_score, confusion_matrix, ConfusionMatrixDisplay\n",
    "\n",
    "from keras.models import Sequential\n",
    "from keras.layers import Embedding, Conv1D, MaxPooling1D, Flatten, Dense\n",
    "from keras.optimizers import Adam\n",
    "from keras.callbacks import EarlyStopping\n"
   ]
  },
  {
   "cell_type": "code",
   "execution_count": 24,
   "metadata": {},
   "outputs": [
    {
     "data": {
      "text/html": [
       "<div>\n",
       "<style scoped>\n",
       "    .dataframe tbody tr th:only-of-type {\n",
       "        vertical-align: middle;\n",
       "    }\n",
       "\n",
       "    .dataframe tbody tr th {\n",
       "        vertical-align: top;\n",
       "    }\n",
       "\n",
       "    .dataframe thead th {\n",
       "        text-align: right;\n",
       "    }\n",
       "</style>\n",
       "<table border=\"1\" class=\"dataframe\">\n",
       "  <thead>\n",
       "    <tr style=\"text-align: right;\">\n",
       "      <th></th>\n",
       "      <th>recommendationid</th>\n",
       "      <th>review</th>\n",
       "      <th>timestamp_created</th>\n",
       "      <th>timestamp_updated</th>\n",
       "      <th>voted_up</th>\n",
       "      <th>votes_up</th>\n",
       "      <th>steamid</th>\n",
       "      <th>playtime_forever</th>\n",
       "      <th>last_played</th>\n",
       "      <th>preprocessed_text</th>\n",
       "    </tr>\n",
       "  </thead>\n",
       "  <tbody>\n",
       "    <tr>\n",
       "      <th>0</th>\n",
       "      <td>134420493</td>\n",
       "      <td>very fun game to play with your friends</td>\n",
       "      <td>1678472945</td>\n",
       "      <td>1678472945</td>\n",
       "      <td>True</td>\n",
       "      <td>0</td>\n",
       "      <td>76561198449880601</td>\n",
       "      <td>28692</td>\n",
       "      <td>2023-03-10 13:27:19</td>\n",
       "      <td>['fun', 'game', 'friend', 'play']</td>\n",
       "    </tr>\n",
       "    <tr>\n",
       "      <th>1</th>\n",
       "      <td>134420229</td>\n",
       "      <td>Drive, rob repeat</td>\n",
       "      <td>1678472640</td>\n",
       "      <td>1678472640</td>\n",
       "      <td>True</td>\n",
       "      <td>0</td>\n",
       "      <td>76561199010534593</td>\n",
       "      <td>17734</td>\n",
       "      <td>2023-03-10 11:09:46</td>\n",
       "      <td>['rob', 'repeat', 'drive']</td>\n",
       "    </tr>\n",
       "    <tr>\n",
       "      <th>2</th>\n",
       "      <td>134415676</td>\n",
       "      <td>It's fun.</td>\n",
       "      <td>1678467049</td>\n",
       "      <td>1678467049</td>\n",
       "      <td>True</td>\n",
       "      <td>0</td>\n",
       "      <td>76561199164783545</td>\n",
       "      <td>12915</td>\n",
       "      <td>2023-02-09 01:42:35</td>\n",
       "      <td>['fun']</td>\n",
       "    </tr>\n",
       "    <tr>\n",
       "      <th>3</th>\n",
       "      <td>134413916</td>\n",
       "      <td>Its GTA 5 ! \\nWhats there to say, Its awesome</td>\n",
       "      <td>1678464935</td>\n",
       "      <td>1678464935</td>\n",
       "      <td>True</td>\n",
       "      <td>0</td>\n",
       "      <td>76561198255277604</td>\n",
       "      <td>19630</td>\n",
       "      <td>2023-03-10 13:50:37</td>\n",
       "      <td>['whats', 'say', 'awesome', 'gta']</td>\n",
       "    </tr>\n",
       "    <tr>\n",
       "      <th>4</th>\n",
       "      <td>134408736</td>\n",
       "      <td>DAMN GAME\\n</td>\n",
       "      <td>1678460718</td>\n",
       "      <td>1678460718</td>\n",
       "      <td>True</td>\n",
       "      <td>0</td>\n",
       "      <td>76561199094970526</td>\n",
       "      <td>12964</td>\n",
       "      <td>2023-03-10 11:25:28</td>\n",
       "      <td>['game', 'damn']</td>\n",
       "    </tr>\n",
       "  </tbody>\n",
       "</table>\n",
       "</div>"
      ],
      "text/plain": [
       "   recommendationid                                         review  \\\n",
       "0         134420493        very fun game to play with your friends   \n",
       "1         134420229                              Drive, rob repeat   \n",
       "2         134415676                                      It's fun.   \n",
       "3         134413916  Its GTA 5 ! \\nWhats there to say, Its awesome   \n",
       "4         134408736                                    DAMN GAME\\n   \n",
       "\n",
       "   timestamp_created  timestamp_updated  voted_up  votes_up  \\\n",
       "0         1678472945         1678472945      True         0   \n",
       "1         1678472640         1678472640      True         0   \n",
       "2         1678467049         1678467049      True         0   \n",
       "3         1678464935         1678464935      True         0   \n",
       "4         1678460718         1678460718      True         0   \n",
       "\n",
       "             steamid  playtime_forever          last_played  \\\n",
       "0  76561198449880601             28692  2023-03-10 13:27:19   \n",
       "1  76561199010534593             17734  2023-03-10 11:09:46   \n",
       "2  76561199164783545             12915  2023-02-09 01:42:35   \n",
       "3  76561198255277604             19630  2023-03-10 13:50:37   \n",
       "4  76561199094970526             12964  2023-03-10 11:25:28   \n",
       "\n",
       "                    preprocessed_text  \n",
       "0   ['fun', 'game', 'friend', 'play']  \n",
       "1          ['rob', 'repeat', 'drive']  \n",
       "2                             ['fun']  \n",
       "3  ['whats', 'say', 'awesome', 'gta']  \n",
       "4                    ['game', 'damn']  "
      ]
     },
     "execution_count": 24,
     "metadata": {},
     "output_type": "execute_result"
    }
   ],
   "source": [
    "df = pd.read_csv('GTA_V_cleaned.csv')\n",
    "df.head()"
   ]
  },
  {
   "cell_type": "code",
   "execution_count": 25,
   "metadata": {},
   "outputs": [
    {
     "data": {
      "text/plain": [
       "3.0"
      ]
     },
     "execution_count": 25,
     "metadata": {},
     "output_type": "execute_result"
    }
   ],
   "source": [
    "afinn = Afinn()\n",
    "afinn.score('love')\n",
    "\n"
   ]
  },
  {
   "cell_type": "code",
   "execution_count": 26,
   "metadata": {},
   "outputs": [
    {
     "data": {
      "text/plain": [
       "'gg'"
      ]
     },
     "execution_count": 26,
     "metadata": {},
     "output_type": "execute_result"
    }
   ],
   "source": [
    "test = df['review'][10]\n",
    "test_text = ''.join(test)\n",
    "test_text"
   ]
  },
  {
   "cell_type": "code",
   "execution_count": 27,
   "metadata": {},
   "outputs": [
    {
     "name": "stdout",
     "output_type": "stream",
     "text": [
      "0.0\n"
     ]
    }
   ],
   "source": [
    "score = afinn.score(test_text)\n",
    "print(score)"
   ]
  },
  {
   "cell_type": "code",
   "execution_count": 28,
   "metadata": {},
   "outputs": [],
   "source": [
    "def calculate_sentiment_score(text):\n",
    "    return afinn.score(text)"
   ]
  },
  {
   "cell_type": "code",
   "execution_count": 29,
   "metadata": {},
   "outputs": [
    {
     "data": {
      "text/plain": [
       "count    13035.000000\n",
       "mean         1.262447\n",
       "std          3.857314\n",
       "min        -51.000000\n",
       "25%          0.000000\n",
       "50%          1.000000\n",
       "75%          3.000000\n",
       "max         47.000000\n",
       "Name: sentiment_score, dtype: float64"
      ]
     },
     "execution_count": 29,
     "metadata": {},
     "output_type": "execute_result"
    }
   ],
   "source": [
    "df['sentiment_score'] = df['preprocessed_text'].apply(calculate_sentiment_score)\n",
    "df['sentiment_score'].describe()"
   ]
  },
  {
   "cell_type": "code",
   "execution_count": 32,
   "metadata": {},
   "outputs": [
    {
     "name": "stdout",
     "output_type": "stream",
     "text": [
      "As a game programmer and level designer with over 2,050 hours on record, and having posted over 300 videos of GTA V on my YouTube channel, I can confidently say that this game is a masterpiece that deserves all the praise it gets.\n",
      "\n",
      "Graphics: 10/10\n",
      "The graphics in GTA V are top-notch, with amazing textures, lighting, and special effects that make every pixel pop. As a self-proclaimed graphics nerd, I can appreciate the amount of work that went into creating such a visually stunning game.\n",
      "\n",
      "Gameplay: 9/10\n",
      "The gameplay in GTA V is a mix of action, adventure, and sandbox goodness, with an almost infinite array of things to do and places to explore. As a game designer, I can't help but be impressed by the level of creativity and attention to detail that went into crafting such an immersive game.\n",
      "\n",
      "Storyline: 8/10\n",
      "The storyline in GTA V is a rollercoaster of drama, comedy, and epicness, with unforgettable characters and plot twists that will leave you wanting more. As a self-proclaimed story nerd, I can appreciate the amount of effort that went into creating such a well-written and memorable narrative.\n",
      "\n",
      "Soundtrack: 10/10\n",
      "The soundtrack in GTA V is an eclectic mix of genres, with some of the best licensed music ever featured in a video game. As a music nerd, I can't help but be impressed by the level of variety and quality in the game's soundtrack.\n",
      "\n",
      "One detail that common gamers often miss is the amount of detail and realism in the game's physics and AI systems. As a self-proclaimed nerd, I've spent countless hours experimenting with the game's physics and observing the behavior of NPCs, and let me tell you, the amount of complexity and accuracy in these systems is mind-blowing.\n",
      "\n",
      "In conclusion, if you're a fellow nerd like me, and you love games that offer endless possibilities for exploration and experimentation, then Grand Theft Auto V is a must-play. And if you want to see just how much fun you can have in this game.\n"
     ]
    }
   ],
   "source": [
    "upper_outl = df.loc[df['sentiment_score']==47]\n",
    "print(df.loc[509,'review'])"
   ]
  },
  {
   "cell_type": "code",
   "execution_count": 33,
   "metadata": {},
   "outputs": [
    {
     "name": "stderr",
     "output_type": "stream",
     "text": [
      "/Users/los/opt/anaconda3/lib/python3.9/site-packages/plotnine/layer.py:333: PlotnineWarning: stat_count : Removed 1343 rows containing non-finite values.\n",
      "/Users/los/opt/anaconda3/lib/python3.9/site-packages/plotnine/layer.py:411: PlotnineWarning: geom_bar : Removed 2 rows containing missing values.\n"
     ]
    },
    {
     "data": {
      "image/png": "[encoded data removed]",
      "text/plain": [
       "<Figure size 640x480 with 1 Axes>"
      ]
     },
     "metadata": {},
     "output_type": "display_data"
    },
    {
     "data": {
      "text/plain": [
       "<ggplot: (8793183288342)>"
      ]
     },
     "execution_count": 33,
     "metadata": {},
     "output_type": "execute_result"
    }
   ],
   "source": [
    "(ggplot(df, aes(x='sentiment_score')) \n",
    " + geom_bar() \n",
    " + labs(x=\"Sentiment Score\", y=\"Frequency\") \n",
    " + xlim(-5, 5)\n",
    ")"
   ]
  },
  {
   "attachments": {},
   "cell_type": "markdown",
   "metadata": {},
   "source": [
    "### Overall sentiment using AFINN shows that game rarely gets below a nuetral (0) but also has just as many users with positive sentiment as nuetral\n"
   ]
  },
  {
   "cell_type": "code",
   "execution_count": 54,
   "metadata": {},
   "outputs": [
    {
     "name": "stdout",
     "output_type": "stream",
     "text": [
      "Review: online hacking's a issue but other than that idk\n",
      "Cleaned Review: ['idk', 'hackings', 'online', 'issue']\n",
      "Sentiment score: 0.0\n",
      "\n",
      "Review: its gta 5\n",
      "Cleaned Review: ['gta']\n",
      "Sentiment score: 0.0\n",
      "\n",
      "Review: do i need to give a review XD\n",
      "Cleaned Review: ['give', 'xd', 'review', 'need']\n",
      "Sentiment score: 0.0\n",
      "\n",
      "Review: its a game\n",
      "Cleaned Review: ['game']\n",
      "Sentiment score: 0.0\n",
      "\n",
      "Review: gud\n",
      "Cleaned Review: ['gud']\n",
      "Sentiment score: 0.0\n",
      "\n",
      "Review: ggggggggggg\n",
      "Cleaned Review: ['ggggggggggg']\n",
      "Sentiment score: 0.0\n",
      "\n",
      "Review: HEY\n",
      "Cleaned Review: ['hey']\n",
      "Sentiment score: 0.0\n",
      "\n",
      "Review: L.❤.V.E\n",
      "Cleaned Review: ['lredheartve']\n",
      "Sentiment score: 0.0\n",
      "\n",
      "Review: dfgghg\n",
      "Cleaned Review: ['dfgghg']\n",
      "Sentiment score: 0.0\n",
      "\n",
      "Review: oio\n",
      "Cleaned Review: ['oio']\n",
      "Sentiment score: 0.0\n",
      "\n"
     ]
    }
   ],
   "source": [
    "nuetral_reviews = df[df['sentiment_score']==0]\n",
    "sample_nue_reviews = nuetral_reviews.sample(n=10)\n",
    "for index, row in sample_nue_reviews.iterrows():\n",
    "    print(f\"Review: {row['review']}\")\n",
    "    print(f\"Cleaned Review: {''.join(row['preprocessed_text'])}\")\n",
    "    print(f\"Sentiment score: {row['sentiment_score']}\\n\")\n"
   ]
  },
  {
   "cell_type": "code",
   "execution_count": 58,
   "metadata": {},
   "outputs": [
    {
     "name": "stdout",
     "output_type": "stream",
     "text": [
      "<class 'pandas.core.frame.DataFrame'>\n",
      "Int64Index: 4164 entries, 9 to 13033\n",
      "Data columns (total 11 columns):\n",
      " #   Column             Non-Null Count  Dtype  \n",
      "---  ------             --------------  -----  \n",
      " 0   recommendationid   4164 non-null   int64  \n",
      " 1   review             4164 non-null   object \n",
      " 2   timestamp_created  4164 non-null   int64  \n",
      " 3   timestamp_updated  4164 non-null   int64  \n",
      " 4   voted_up           4164 non-null   bool   \n",
      " 5   votes_up           4164 non-null   int64  \n",
      " 6   steamid            4164 non-null   int64  \n",
      " 7   playtime_forever   4164 non-null   int64  \n",
      " 8   last_played        4164 non-null   object \n",
      " 9   preprocessed_text  4164 non-null   object \n",
      " 10  sentiment_score    4164 non-null   float64\n",
      "dtypes: bool(1), float64(1), int64(6), object(3)\n",
      "memory usage: 361.9+ KB\n"
     ]
    }
   ],
   "source": [
    "nuetral_reviews.info()"
   ]
  },
  {
   "cell_type": "code",
   "execution_count": 55,
   "metadata": {},
   "outputs": [
    {
     "name": "stdout",
     "output_type": "stream",
     "text": [
      "Review: Online is full of hackers and cheaters, do not even bother trying lol\n",
      "Cleaned Review: ['cheater', 'trying', 'even', 'bother', 'hacker', 'lol', 'full', 'online']\n",
      "Sentiment score: -2.0\n",
      "\n",
      "Review: it makes the deppression go away or makes it worse\n",
      "Cleaned Review: ['deppression', 'away', 'make', 'go', 'worse']\n",
      "Sentiment score: -3.0\n",
      "\n",
      "Review: killing valet and not buying shark cards\n",
      "Cleaned Review: ['shark', 'valet', 'buying', 'card', 'killing']\n",
      "Sentiment score: -3.0\n",
      "\n",
      "Review: A disappointment compared to their previous works. An option to buy in game cash for real money should never exist in an mmo. The game costs sixty dollars, why give them more money for a piss poor product.\n",
      "\n",
      "Incredibly inconsistent bugs, errors, that will never be fixed. Basically I paid sixty dollars for an incomplete alpha game.\n",
      "Cleaned Review: ['incomplete', 'work', 'sixty', 'option', 'inconsistent', 'piss', 'poor', 'cost', 'give', 'previous', 'money', 'fixed', 'real', 'dollar', 'paid', 'game', 'never', 'exist', 'error', 'alpha', 'mmo', 'productincredibly', 'bug', 'disappointment', 'buy', 'compared', 'basically', 'cash']\n",
      "Sentiment score: -11.0\n",
      "\n",
      "Review: rockstar sucks\n",
      "Cleaned Review: ['suck', 'rockstar']\n",
      "Sentiment score: -3.0\n",
      "\n",
      "Review: i got railed by a flying bike and called the n word 35 times. A shark bit my dick off. and trevor smashed my balls in 100 pieces. 10/10 would play again\n",
      "Cleaned Review: ['trevor', 'dick', 'shark', 'called', 'word', 'bike', 'got', 'bit', 'time', 'smashed', 'n', 'piece', 'would', 'flying', 'railed', 'ball', 'play']\n",
      "Sentiment score: -4.0\n",
      "\n",
      "Review: cop killing simulator\n",
      "Cleaned Review: ['simulator', 'cop', 'killing']\n",
      "Sentiment score: -3.0\n",
      "\n",
      "Review: Not much to say. Rockstar's major moneymaker. They couldn't live without it. Well they probably could. All living in mansions thanks to us. WHERE'S MINE. But yes this game is fun aside from cheaters and the cost of everything, fuck me inflation is mental in this game. A soda (if your american) is like $1, which is better than the real world for those people who don't leave the house. But a fucking jacket will be like $50,000 or like $500,000 for certain guns. Makes sense if you've been playing the game awhile and have properties but if your new, GOOD LUCK. The vehicles are the bad part. so expensive. You will save like $20,000,000 for a plane that you can't even shoot from without a second player, like WTF. Ah or better yet is simply just under powered and is useless in all missions. But whatever. No WAY they'd change that. \"No more shark card purchases, fuck that!\". Anyways.\n",
      "\n",
      "P.S.\n",
      "Good luck without micro transactions BTW. Unless you want to spend weeks just trying to buy a house or a car. Gotta pay for Rockstar's private jets somehow the dodgy fucks. But yet again its fun, especially with friends. lots to do, lots to see and lots to mod if your into that, though i wish they had a steam workshop.\n",
      "Cleaned Review: ['shark', 'rockstars', 'private', 'player', 'bad', 'new', 'make', 'soda', 'good', 'micro', 'youve', 'much', 'cost', 'inflation', 'mission', 'want', 'moneymaker', 'expensive', 'wtf', 'live', 'steam', 'vehicle', 'certain', 'workshop', 'buy', 'better', 'spend', 'dont', 'wish', 'wheres', 'plane', 'yes', 'ta', 'simply', 'well', 'mine', 'shoot', 'mental', 'fuck', 'theyd', 'change', 'gun', 'way', 'like', 'btw', 'world', 'car', 'see', 'somehow', 'luck', 'sense', 'real', 'playing', 'part', 'jet', 'useless', 'house', 'couldnt', 'fun', 'dodgy', 'purchase', 'living', 'cant', 'could', 'friend', 'second', 'whatever', 'powered', 'fucking', 'mod', 'leave', 'without', 'trying', 'card', 'pay', 'property', 'u', 'fuck', 'thanks', 'cheater', 'ah', 'unless', 'got', 'though', 'save', 'even', 'yet', 'mansion', 'anywayspsgood', 'major', 'week', 'game', 'everything', 'jacket', 'people', 'awhile', 'transaction', 'say', 'lot', 'american', 'aside', 'especially', 'probably']\n",
      "Sentiment score: -7.0\n",
      "\n",
      "Review: gun\n",
      "Cleaned Review: ['gun']\n",
      "Sentiment score: -1.0\n",
      "\n",
      "Review: Boring\n",
      "Cleaned Review: ['boring']\n",
      "Sentiment score: -3.0\n",
      "\n"
     ]
    }
   ],
   "source": [
    "negative_reviews = df[df['sentiment_score'] < 0]\n",
    "sample_neg_reviews = negative_reviews.sample(n=10)\n",
    "for index, row in sample_neg_reviews.iterrows():\n",
    "    print(f\"Review: {row['review']}\")\n",
    "    print(f\"Cleaned Review: {''.join(row['preprocessed_text'])}\")\n",
    "    print(f\"Sentiment score: {row['sentiment_score']}\\n\")"
   ]
  },
  {
   "cell_type": "code",
   "execution_count": 56,
   "metadata": {},
   "outputs": [
    {
     "name": "stdout",
     "output_type": "stream",
     "text": [
      "<class 'pandas.core.frame.DataFrame'>\n",
      "Int64Index: 2051 entries, 1 to 13030\n",
      "Data columns (total 11 columns):\n",
      " #   Column             Non-Null Count  Dtype  \n",
      "---  ------             --------------  -----  \n",
      " 0   recommendationid   2051 non-null   int64  \n",
      " 1   review             2051 non-null   object \n",
      " 2   timestamp_created  2051 non-null   int64  \n",
      " 3   timestamp_updated  2051 non-null   int64  \n",
      " 4   voted_up           2051 non-null   bool   \n",
      " 5   votes_up           2051 non-null   int64  \n",
      " 6   steamid            2051 non-null   int64  \n",
      " 7   playtime_forever   2051 non-null   int64  \n",
      " 8   last_played        2051 non-null   object \n",
      " 9   preprocessed_text  2051 non-null   object \n",
      " 10  sentiment_score    2051 non-null   float64\n",
      "dtypes: bool(1), float64(1), int64(6), object(3)\n",
      "memory usage: 178.3+ KB\n"
     ]
    }
   ],
   "source": [
    "negative_reviews.info()"
   ]
  },
  {
   "cell_type": "code",
   "execution_count": 44,
   "metadata": {},
   "outputs": [
    {
     "name": "stdout",
     "output_type": "stream",
     "text": [
      "Review: yes\n",
      "Cleaned Review: ['yes']\n",
      "Sentiment score: 1.0\n",
      "\n",
      "Review: I am a 45 yo father, probably one of the oldest people playing this game. I am a single farther to my Son, who is 14 now. My son got this game for Christmas in 2021 from his uncle, so we installed it on his computer and he started playing. By the end of the week he had 24 hours on this game. This was horrible for me, as it was already hard for me to find ways to spend time with my son, as he is always out with his friends or just watching YouTube. So I decided to make a Steam account and get this game to see if I could maybe play alongside him. I loaded into the game, picked my character and started playing but I was stuck on what you where supposed to do. I asked my Son for help and he hosted a game for me to join. I loved it as it was the best time I had spent with my Son since my wife had died. This game has ever since brought me and my son closer again and now we actually spend time together outside the house together as well. This game reminded me that there's fun to be had in everything, and it has brought both me and my Son many happy memories.\n",
      "Cleaned Review: ['father', 'together', 'got', 'could', 'picked', 'well', 'started', 'alongside', 'youtube', 'friend', 'get', 'asked', 'hosted', 'one', 'ever', 'christmas', 'died', 'time', 'yo', 'horrible', 'happy', 'watching', 'spent', 'outside', 'uncle', 'see', 'find', 'there', 'oldest', 'help', 'decided', 'make', 'wife', 'join', 'many', 'loved', 'actually', 'maybe', 'game', 'single', 'character', 'best', 'closer', 'farther', 'everything', 'people', 'hour', 'hard', 'installed', 'way', 'already', 'always', 'playing', 'account', 'brought', 'fun', 'reminded', 'supposed', 'son', 'end', 'steam', 'loaded', 'memory', 'week', 'computer', 'since', 'house', 'spend', 'stuck', 'probably', 'play']\n",
      "Sentiment score: 8.0\n",
      "\n",
      "Review: F.U.N\n",
      "Cleaned Review: ['fun']\n",
      "Sentiment score: 4.0\n",
      "\n",
      "Review: i love the crashing, infinite loading screen and wonderful anticheat!!!!!!!!!!!!!!!!!!!!!!!!!!!!!!!!!!!!!!!!\n",
      "Cleaned Review: ['wonderful', 'crashing', 'anticheat', 'screen', 'loading', 'love', 'infinite']\n",
      "Sentiment score: 7.0\n",
      "\n",
      "Review: preferebly with friends\n",
      "Cleaned Review: ['friend', 'preferebly']\n",
      "Sentiment score: 1.0\n",
      "\n",
      "Review: Its just ok, better on console.\n",
      "\n",
      "Cleaned Review: ['console', 'ok', 'better']\n",
      "Sentiment score: 2.0\n",
      "\n",
      "Review: I have 1000 hours but that doesn't mean I'm good at the game. Will keep continue playing this game tho.\n",
      "Cleaned Review: ['continue', 'tho', 'doesnt', 'mean', 'good', 'game', 'keep', 'hour', 'im', 'playing']\n",
      "Sentiment score: 3.0\n",
      "\n",
      "Review: is good\n",
      "\n",
      "Cleaned Review: ['good']\n",
      "Sentiment score: 3.0\n",
      "\n",
      "Review: i love this game. this is my comfort game.\n",
      "\n",
      "*storymode that is. with mods :)\n",
      "Cleaned Review: ['game', 'comfort', 'mod', 'gamestorymode', 'love']\n",
      "Sentiment score: 5.0\n",
      "\n",
      "Review: Still a great game but would love for GTA6 to be out soon… hoping the hype of its release in 2024 is for real\n",
      "Cleaned Review: ['real', 'hoping', 'gta', 'great', 'game', 'hype', 'would', 'release', 'soon…', 'still', 'love']\n",
      "Sentiment score: 8.0\n",
      "\n"
     ]
    }
   ],
   "source": [
    "positive_reviews = df[df['sentiment_score']>0]\n",
    "sample_pos_reviews = positive_reviews.sample(n=10)\n",
    "for index, row in sample_pos_reviews.iterrows():\n",
    "    print(f\"Review: {row['review']}\")\n",
    "    print(f\"Cleaned Review: {''.join(row['preprocessed_text'])}\")\n",
    "    print(f\"Sentiment score: {row['sentiment_score']}\\n\")"
   ]
  },
  {
   "cell_type": "code",
   "execution_count": 57,
   "metadata": {},
   "outputs": [
    {
     "name": "stdout",
     "output_type": "stream",
     "text": [
      "<class 'pandas.core.frame.DataFrame'>\n",
      "Int64Index: 6820 entries, 0 to 13034\n",
      "Data columns (total 11 columns):\n",
      " #   Column             Non-Null Count  Dtype  \n",
      "---  ------             --------------  -----  \n",
      " 0   recommendationid   6820 non-null   int64  \n",
      " 1   review             6820 non-null   object \n",
      " 2   timestamp_created  6820 non-null   int64  \n",
      " 3   timestamp_updated  6820 non-null   int64  \n",
      " 4   voted_up           6820 non-null   bool   \n",
      " 5   votes_up           6820 non-null   int64  \n",
      " 6   steamid            6820 non-null   int64  \n",
      " 7   playtime_forever   6820 non-null   int64  \n",
      " 8   last_played        6820 non-null   object \n",
      " 9   preprocessed_text  6820 non-null   object \n",
      " 10  sentiment_score    6820 non-null   float64\n",
      "dtypes: bool(1), float64(1), int64(6), object(3)\n",
      "memory usage: 592.8+ KB\n"
     ]
    }
   ],
   "source": [
    "positive_reviews.info()"
   ]
  },
  {
   "attachments": {},
   "cell_type": "markdown",
   "metadata": {},
   "source": [
    "### SentiWordNet"
   ]
  },
  {
   "cell_type": "code",
   "execution_count": 37,
   "metadata": {},
   "outputs": [],
   "source": [
    "swn_words = [word[0] for row in df['preprocessed_text'] for word in row]\n",
    "synsets = swn.senti_synsets('good', 'a')  # 'a' indicates that the word is an adjective\n",
    "pos_score = neg_score = obj_score = 0"
   ]
  },
  {
   "cell_type": "code",
   "execution_count": 38,
   "metadata": {},
   "outputs": [
    {
     "name": "stdout",
     "output_type": "stream",
     "text": [
      "Positive score: 13.00, Negative score: 0.12, Objective score: 7.88\n"
     ]
    }
   ],
   "source": [
    "for syn in synsets:\n",
    "    pos_score += syn.pos_score()\n",
    "    neg_score += syn.neg_score()\n",
    "    obj_score += syn.obj_score()\n",
    "\n",
    "if len(list(synsets)) >0:\n",
    "    pos_score /= len(synsets)\n",
    "    neg_score /= len(synsets)\n",
    "    obj_score /= len(synsets)\n",
    "print(f\"Positive score: {pos_score:.2f}, Negative score: {neg_score:.2f}, Objective score: {obj_score:.2f}\") #Retirating what previously seen, overall postive from all collected"
   ]
  },
  {
   "cell_type": "code",
   "execution_count": 87,
   "metadata": {},
   "outputs": [],
   "source": [
    "preprocessed_docs = [doc.split() for doc in df['preprocessed_text']]\n",
    "dictionary = corpora.Dictionary(preprocessed_docs)\n",
    "corpus = [dictionary.doc2bow(text) for text in preprocessed_docs]\n",
    "texts = [eval(text) for text in df['preprocessed_text']]\n",
    "coherence_dict = gensim.corpora.Dictionary(texts)\n",
    "num_topics = 10"
   ]
  },
  {
   "cell_type": "code",
   "execution_count": 88,
   "metadata": {},
   "outputs": [],
   "source": [
    "lda_model = gensim.models.ldamodel.LdaModel(corpus=corpus,\n",
    "                                            id2word=dictionary,\n",
    "                                            num_topics=num_topics,\n",
    "                                            random_state=42,\n",
    "                                            passes=20,\n",
    "                                            per_word_topics=True)"
   ]
  },
  {
   "cell_type": "code",
   "execution_count": 89,
   "metadata": {},
   "outputs": [
    {
     "name": "stdout",
     "output_type": "stream",
     "text": [
      "Topic: 0\n",
      "Top Keywords: 'story']['love']['many','mode',['hi']'money']['like']['mode',['work','v']\n",
      "\n",
      "Topic: 1\n",
      "Top Keywords: ['game',['fun']'best']'love']'gud']'bad']'cool']'one','loved',['e']\n",
      "\n",
      "Topic: 2\n",
      "Top Keywords: 'played']'shit']'hate','shit','die','crime','forever',['literally','achievement',['lost',\n",
      "\n",
      "Topic: 3\n",
      "Top Keywords: 'game','rockstar','play']'get','mod',['nice']'account','dont','hacker','got',\n",
      "\n",
      "Topic: 4\n",
      "Top Keywords: 'game','online','gta','fun','time','get','play']'good','like','mode',\n",
      "\n",
      "Topic: 5\n",
      "Top Keywords: ['yes']'ever']['fun','best',['ok']['w']'played',['great']['recommend','killing']\n",
      "\n",
      "Topic: 6\n",
      "Top Keywords: ['good']'pretty']['u','fuck']['gg']'make']'cool',['gay',['guess',['amazing']\n",
      "\n",
      "Topic: 7\n",
      "Top Keywords: ['good','game']'game',['great',['nice','gta']['fun',['much',['amazing',['get',\n",
      "\n",
      "Topic: 8\n",
      "Top Keywords: 'game','good','fun','best']'play']['like','online']'gta',['gta','great',\n",
      "\n",
      "Topic: 9\n",
      "Top Keywords: ['gta']'life','rich','grind','watch','much','graphic','big','worth','forget',\n",
      "\n"
     ]
    }
   ],
   "source": [
    "for idx, topic in lda_model.print_topics(-1):\n",
    "    print(f'Topic: {idx}')\n",
    "    keywords = \"\".join(word for word, _ in lda_model.show_topic(idx, topn=10))\n",
    "    print(f'Top Keywords: {keywords}\\n')\n"
   ]
  },
  {
   "cell_type": "code",
   "execution_count": 85,
   "metadata": {},
   "outputs": [
    {
     "name": "stderr",
     "output_type": "stream",
     "text": [
      "/Users/los/opt/anaconda3/lib/python3.9/site-packages/gensim/topic_coherence/direct_confirmation_measure.py:202: RuntimeWarning: invalid value encountered in true_divide\n",
      "/Users/los/opt/anaconda3/lib/python3.9/site-packages/gensim/topic_coherence/direct_confirmation_measure.py:203: RuntimeWarning: invalid value encountered in true_divide\n",
      "/Users/los/opt/anaconda3/lib/python3.9/site-packages/gensim/topic_coherence/direct_confirmation_measure.py:198: RuntimeWarning: invalid value encountered in true_divide\n"
     ]
    },
    {
     "name": "stdout",
     "output_type": "stream",
     "text": [
      "Coherence Score: nan\n"
     ]
    }
   ],
   "source": [
    "coherence_model = CoherenceModel(\n",
    "    model=lda_model,\n",
    "    texts=df['review'].tolist(),\n",
    "    dictionary=dictionary,\n",
    "    coherence='c_v'\n",
    ")\n",
    "\n",
    "coherence_score = coherence_model.get_coherence()\n",
    "print(f\"Coherence Score: {coherence_score}\")"
   ]
  },
  {
   "cell_type": "code",
   "execution_count": 60,
   "metadata": {},
   "outputs": [
    {
     "data": {
      "text/html": [
       "<div>\n",
       "<style scoped>\n",
       "    .dataframe tbody tr th:only-of-type {\n",
       "        vertical-align: middle;\n",
       "    }\n",
       "\n",
       "    .dataframe tbody tr th {\n",
       "        vertical-align: top;\n",
       "    }\n",
       "\n",
       "    .dataframe thead th {\n",
       "        text-align: right;\n",
       "    }\n",
       "</style>\n",
       "<table border=\"1\" class=\"dataframe\">\n",
       "  <thead>\n",
       "    <tr style=\"text-align: right;\">\n",
       "      <th></th>\n",
       "      <th>recommendationid</th>\n",
       "      <th>review</th>\n",
       "      <th>timestamp_created</th>\n",
       "      <th>timestamp_updated</th>\n",
       "      <th>voted_up</th>\n",
       "      <th>votes_up</th>\n",
       "      <th>steamid</th>\n",
       "      <th>playtime_forever</th>\n",
       "      <th>last_played</th>\n",
       "      <th>preprocessed_text</th>\n",
       "      <th>sentiment_score</th>\n",
       "    </tr>\n",
       "  </thead>\n",
       "  <tbody>\n",
       "    <tr>\n",
       "      <th>0</th>\n",
       "      <td>134420493</td>\n",
       "      <td>very fun game to play with your friends</td>\n",
       "      <td>1678472945</td>\n",
       "      <td>1678472945</td>\n",
       "      <td>True</td>\n",
       "      <td>0</td>\n",
       "      <td>76561198449880601</td>\n",
       "      <td>28692</td>\n",
       "      <td>2023-03-10 13:27:19</td>\n",
       "      <td>['fun', 'game', 'friend', 'play']</td>\n",
       "      <td>5.0</td>\n",
       "    </tr>\n",
       "    <tr>\n",
       "      <th>2</th>\n",
       "      <td>134415676</td>\n",
       "      <td>It's fun.</td>\n",
       "      <td>1678467049</td>\n",
       "      <td>1678467049</td>\n",
       "      <td>True</td>\n",
       "      <td>0</td>\n",
       "      <td>76561199164783545</td>\n",
       "      <td>12915</td>\n",
       "      <td>2023-02-09 01:42:35</td>\n",
       "      <td>['fun']</td>\n",
       "      <td>4.0</td>\n",
       "    </tr>\n",
       "    <tr>\n",
       "      <th>3</th>\n",
       "      <td>134413916</td>\n",
       "      <td>Its GTA 5 ! \\nWhats there to say, Its awesome</td>\n",
       "      <td>1678464935</td>\n",
       "      <td>1678464935</td>\n",
       "      <td>True</td>\n",
       "      <td>0</td>\n",
       "      <td>76561198255277604</td>\n",
       "      <td>19630</td>\n",
       "      <td>2023-03-10 13:50:37</td>\n",
       "      <td>['whats', 'say', 'awesome', 'gta']</td>\n",
       "      <td>4.0</td>\n",
       "    </tr>\n",
       "    <tr>\n",
       "      <th>5</th>\n",
       "      <td>134403082</td>\n",
       "      <td>GOOD\\n</td>\n",
       "      <td>1678453972</td>\n",
       "      <td>1678453972</td>\n",
       "      <td>True</td>\n",
       "      <td>0</td>\n",
       "      <td>76561198124027104</td>\n",
       "      <td>28492</td>\n",
       "      <td>2023-03-10 10:06:59</td>\n",
       "      <td>['good']</td>\n",
       "      <td>3.0</td>\n",
       "    </tr>\n",
       "    <tr>\n",
       "      <th>6</th>\n",
       "      <td>134397418</td>\n",
       "      <td>love this game</td>\n",
       "      <td>1678445275</td>\n",
       "      <td>1678445275</td>\n",
       "      <td>True</td>\n",
       "      <td>0</td>\n",
       "      <td>76561198863303361</td>\n",
       "      <td>19843</td>\n",
       "      <td>2023-03-10 07:54:45</td>\n",
       "      <td>['game', 'love']</td>\n",
       "      <td>3.0</td>\n",
       "    </tr>\n",
       "    <tr>\n",
       "      <th>...</th>\n",
       "      <td>...</td>\n",
       "      <td>...</td>\n",
       "      <td>...</td>\n",
       "      <td>...</td>\n",
       "      <td>...</td>\n",
       "      <td>...</td>\n",
       "      <td>...</td>\n",
       "      <td>...</td>\n",
       "      <td>...</td>\n",
       "      <td>...</td>\n",
       "      <td>...</td>\n",
       "    </tr>\n",
       "    <tr>\n",
       "      <th>13025</th>\n",
       "      <td>117940209</td>\n",
       "      <td>Story Mode - Solid yes\\n\\nGTA Online  - 6 / 10...</td>\n",
       "      <td>1656608547</td>\n",
       "      <td>1672536237</td>\n",
       "      <td>True</td>\n",
       "      <td>0</td>\n",
       "      <td>76561198008275738</td>\n",
       "      <td>21740</td>\n",
       "      <td>2023-03-08 22:19:08</td>\n",
       "      <td>['repetitive', 'wont', 'heist', 'chinese', 'ch...</td>\n",
       "      <td>7.0</td>\n",
       "    </tr>\n",
       "    <tr>\n",
       "      <th>13027</th>\n",
       "      <td>117937397</td>\n",
       "      <td>so good\\n</td>\n",
       "      <td>1656605485</td>\n",
       "      <td>1656605485</td>\n",
       "      <td>True</td>\n",
       "      <td>0</td>\n",
       "      <td>76561199241128647</td>\n",
       "      <td>24900</td>\n",
       "      <td>2023-01-31 18:13:38</td>\n",
       "      <td>['good']</td>\n",
       "      <td>3.0</td>\n",
       "    </tr>\n",
       "    <tr>\n",
       "      <th>13029</th>\n",
       "      <td>117936660</td>\n",
       "      <td>I think i have played a bit to much but its a ...</td>\n",
       "      <td>1656604751</td>\n",
       "      <td>1656604751</td>\n",
       "      <td>True</td>\n",
       "      <td>0</td>\n",
       "      <td>76561198880002773</td>\n",
       "      <td>78022</td>\n",
       "      <td>2022-07-12 08:06:22</td>\n",
       "      <td>['much', 'great', 'game', 'bit', 'think', 'pla...</td>\n",
       "      <td>3.0</td>\n",
       "    </tr>\n",
       "    <tr>\n",
       "      <th>13032</th>\n",
       "      <td>117931745</td>\n",
       "      <td>yes</td>\n",
       "      <td>1656599722</td>\n",
       "      <td>1656599722</td>\n",
       "      <td>True</td>\n",
       "      <td>0</td>\n",
       "      <td>76561199230184990</td>\n",
       "      <td>30760</td>\n",
       "      <td>2023-02-28 19:20:06</td>\n",
       "      <td>['yes']</td>\n",
       "      <td>1.0</td>\n",
       "    </tr>\n",
       "    <tr>\n",
       "      <th>13034</th>\n",
       "      <td>117930980</td>\n",
       "      <td>Great game</td>\n",
       "      <td>1656598865</td>\n",
       "      <td>1656598865</td>\n",
       "      <td>True</td>\n",
       "      <td>0</td>\n",
       "      <td>76561198069743529</td>\n",
       "      <td>13590</td>\n",
       "      <td>2022-12-08 21:30:12</td>\n",
       "      <td>['great', 'game']</td>\n",
       "      <td>3.0</td>\n",
       "    </tr>\n",
       "  </tbody>\n",
       "</table>\n",
       "<p>6408 rows × 11 columns</p>\n",
       "</div>"
      ],
      "text/plain": [
       "       recommendationid                                             review  \\\n",
       "0             134420493            very fun game to play with your friends   \n",
       "2             134415676                                          It's fun.   \n",
       "3             134413916      Its GTA 5 ! \\nWhats there to say, Its awesome   \n",
       "5             134403082                                             GOOD\\n   \n",
       "6             134397418                                     love this game   \n",
       "...                 ...                                                ...   \n",
       "13025         117940209  Story Mode - Solid yes\\n\\nGTA Online  - 6 / 10...   \n",
       "13027         117937397                                          so good\\n   \n",
       "13029         117936660  I think i have played a bit to much but its a ...   \n",
       "13032         117931745                                                yes   \n",
       "13034         117930980                                         Great game   \n",
       "\n",
       "       timestamp_created  timestamp_updated  voted_up  votes_up  \\\n",
       "0             1678472945         1678472945      True         0   \n",
       "2             1678467049         1678467049      True         0   \n",
       "3             1678464935         1678464935      True         0   \n",
       "5             1678453972         1678453972      True         0   \n",
       "6             1678445275         1678445275      True         0   \n",
       "...                  ...                ...       ...       ...   \n",
       "13025         1656608547         1672536237      True         0   \n",
       "13027         1656605485         1656605485      True         0   \n",
       "13029         1656604751         1656604751      True         0   \n",
       "13032         1656599722         1656599722      True         0   \n",
       "13034         1656598865         1656598865      True         0   \n",
       "\n",
       "                 steamid  playtime_forever          last_played  \\\n",
       "0      76561198449880601             28692  2023-03-10 13:27:19   \n",
       "2      76561199164783545             12915  2023-02-09 01:42:35   \n",
       "3      76561198255277604             19630  2023-03-10 13:50:37   \n",
       "5      76561198124027104             28492  2023-03-10 10:06:59   \n",
       "6      76561198863303361             19843  2023-03-10 07:54:45   \n",
       "...                  ...               ...                  ...   \n",
       "13025  76561198008275738             21740  2023-03-08 22:19:08   \n",
       "13027  76561199241128647             24900  2023-01-31 18:13:38   \n",
       "13029  76561198880002773             78022  2022-07-12 08:06:22   \n",
       "13032  76561199230184990             30760  2023-02-28 19:20:06   \n",
       "13034  76561198069743529             13590  2022-12-08 21:30:12   \n",
       "\n",
       "                                       preprocessed_text  sentiment_score  \n",
       "0                      ['fun', 'game', 'friend', 'play']              5.0  \n",
       "2                                                ['fun']              4.0  \n",
       "3                     ['whats', 'say', 'awesome', 'gta']              4.0  \n",
       "5                                               ['good']              3.0  \n",
       "6                                       ['game', 'love']              3.0  \n",
       "...                                                  ...              ...  \n",
       "13025  ['repetitive', 'wont', 'heist', 'chinese', 'ch...              7.0  \n",
       "13027                                           ['good']              3.0  \n",
       "13029  ['much', 'great', 'game', 'bit', 'think', 'pla...              3.0  \n",
       "13032                                            ['yes']              1.0  \n",
       "13034                                  ['great', 'game']              3.0  \n",
       "\n",
       "[6408 rows x 11 columns]"
      ]
     },
     "execution_count": 60,
     "metadata": {},
     "output_type": "execute_result"
    }
   ],
   "source": [
    "positive_reviews.loc[positive_reviews['voted_up']==True]"
   ]
  },
  {
   "cell_type": "code",
   "execution_count": 65,
   "metadata": {},
   "outputs": [],
   "source": [
    "#Train/Test Split target being sentiment score\n",
    "X_train, X_test, y_train, y_test = train_test_split(df['preprocessed_text'], df['sentiment_score'], test_size=0.2, random_state=42)\n"
   ]
  },
  {
   "cell_type": "code",
   "execution_count": 71,
   "metadata": {},
   "outputs": [],
   "source": [
    "#Vectorize the text data using the bag-of-words representation\n",
    "vectorizer = CountVectorizer()\n",
    "X_train_vect = vectorizer.fit_transform(X_train)\n",
    "X_test_vect = vectorizer.transform(X_test)"
   ]
  },
  {
   "attachments": {},
   "cell_type": "markdown",
   "metadata": {},
   "source": [
    "### Logistic Regression"
   ]
  },
  {
   "cell_type": "code",
   "execution_count": 69,
   "metadata": {},
   "outputs": [
    {
     "name": "stderr",
     "output_type": "stream",
     "text": [
      "/Users/los/opt/anaconda3/lib/python3.9/site-packages/sklearn/linear_model/_logistic.py:458: ConvergenceWarning: lbfgs failed to converge (status=1):\n",
      "STOP: TOTAL NO. of ITERATIONS REACHED LIMIT.\n",
      "\n",
      "Increase the number of iterations (max_iter) or scale the data as shown in:\n",
      "    https://scikit-learn.org/stable/modules/preprocessing.html\n",
      "Please also refer to the documentation for alternative solver options:\n",
      "    https://scikit-learn.org/stable/modules/linear_model.html#logistic-regression\n"
     ]
    },
    {
     "data": {
      "text/html": [
       "<style>#sk-container-id-1 {color: black;background-color: white;}#sk-container-id-1 pre{padding: 0;}#sk-container-id-1 div.sk-toggleable {background-color: white;}#sk-container-id-1 label.sk-toggleable__label {cursor: pointer;display: block;width: 100%;margin-bottom: 0;padding: 0.3em;box-sizing: border-box;text-align: center;}#sk-container-id-1 label.sk-toggleable__label-arrow:before {content: \"▸\";float: left;margin-right: 0.25em;color: #696969;}#sk-container-id-1 label.sk-toggleable__label-arrow:hover:before {color: black;}#sk-container-id-1 div.sk-estimator:hover label.sk-toggleable__label-arrow:before {color: black;}#sk-container-id-1 div.sk-toggleable__content {max-height: 0;max-width: 0;overflow: hidden;text-align: left;background-color: #f0f8ff;}#sk-container-id-1 div.sk-toggleable__content pre {margin: 0.2em;color: black;border-radius: 0.25em;background-color: #f0f8ff;}#sk-container-id-1 input.sk-toggleable__control:checked~div.sk-toggleable__content {max-height: 200px;max-width: 100%;overflow: auto;}#sk-container-id-1 input.sk-toggleable__control:checked~label.sk-toggleable__label-arrow:before {content: \"▾\";}#sk-container-id-1 div.sk-estimator input.sk-toggleable__control:checked~label.sk-toggleable__label {background-color: #d4ebff;}#sk-container-id-1 div.sk-label input.sk-toggleable__control:checked~label.sk-toggleable__label {background-color: #d4ebff;}#sk-container-id-1 input.sk-hidden--visually {border: 0;clip: rect(1px 1px 1px 1px);clip: rect(1px, 1px, 1px, 1px);height: 1px;margin: -1px;overflow: hidden;padding: 0;position: absolute;width: 1px;}#sk-container-id-1 div.sk-estimator {font-family: monospace;background-color: #f0f8ff;border: 1px dotted black;border-radius: 0.25em;box-sizing: border-box;margin-bottom: 0.5em;}#sk-container-id-1 div.sk-estimator:hover {background-color: #d4ebff;}#sk-container-id-1 div.sk-parallel-item::after {content: \"\";width: 100%;border-bottom: 1px solid gray;flex-grow: 1;}#sk-container-id-1 div.sk-label:hover label.sk-toggleable__label {background-color: #d4ebff;}#sk-container-id-1 div.sk-serial::before {content: \"\";position: absolute;border-left: 1px solid gray;box-sizing: border-box;top: 0;bottom: 0;left: 50%;z-index: 0;}#sk-container-id-1 div.sk-serial {display: flex;flex-direction: column;align-items: center;background-color: white;padding-right: 0.2em;padding-left: 0.2em;position: relative;}#sk-container-id-1 div.sk-item {position: relative;z-index: 1;}#sk-container-id-1 div.sk-parallel {display: flex;align-items: stretch;justify-content: center;background-color: white;position: relative;}#sk-container-id-1 div.sk-item::before, #sk-container-id-1 div.sk-parallel-item::before {content: \"\";position: absolute;border-left: 1px solid gray;box-sizing: border-box;top: 0;bottom: 0;left: 50%;z-index: -1;}#sk-container-id-1 div.sk-parallel-item {display: flex;flex-direction: column;z-index: 1;position: relative;background-color: white;}#sk-container-id-1 div.sk-parallel-item:first-child::after {align-self: flex-end;width: 50%;}#sk-container-id-1 div.sk-parallel-item:last-child::after {align-self: flex-start;width: 50%;}#sk-container-id-1 div.sk-parallel-item:only-child::after {width: 0;}#sk-container-id-1 div.sk-dashed-wrapped {border: 1px dashed gray;margin: 0 0.4em 0.5em 0.4em;box-sizing: border-box;padding-bottom: 0.4em;background-color: white;}#sk-container-id-1 div.sk-label label {font-family: monospace;font-weight: bold;display: inline-block;line-height: 1.2em;}#sk-container-id-1 div.sk-label-container {text-align: center;}#sk-container-id-1 div.sk-container {/* jupyter's `normalize.less` sets `[hidden] { display: none; }` but bootstrap.min.css set `[hidden] { display: none !important; }` so we also need the `!important` here to be able to override the default hidden behavior on the sphinx rendered scikit-learn.org. See: https://github.com/scikit-learn/scikit-learn/issues/21755 */display: inline-block !important;position: relative;}#sk-container-id-1 div.sk-text-repr-fallback {display: none;}</style><div id=\"sk-container-id-1\" class=\"sk-top-container\"><div class=\"sk-text-repr-fallback\"><pre>LogisticRegression()</pre><b>In a Jupyter environment, please rerun this cell to show the HTML representation or trust the notebook. <br />On GitHub, the HTML representation is unable to render, please try loading this page with nbviewer.org.</b></div><div class=\"sk-container\" hidden><div class=\"sk-item\"><div class=\"sk-estimator sk-toggleable\"><input class=\"sk-toggleable__control sk-hidden--visually\" id=\"sk-estimator-id-1\" type=\"checkbox\" checked><label for=\"sk-estimator-id-1\" class=\"sk-toggleable__label sk-toggleable__label-arrow\">LogisticRegression</label><div class=\"sk-toggleable__content\"><pre>LogisticRegression()</pre></div></div></div></div></div>"
      ],
      "text/plain": [
       "LogisticRegression()"
      ]
     },
     "execution_count": 69,
     "metadata": {},
     "output_type": "execute_result"
    }
   ],
   "source": [
    "model = LogisticRegression()\n",
    "model.fit(X_train_vect, y_train)"
   ]
  },
  {
   "cell_type": "code",
   "execution_count": 72,
   "metadata": {},
   "outputs": [
    {
     "name": "stdout",
     "output_type": "stream",
     "text": [
      "Accuracy: 0.6743383199079401\n",
      "Precision: 0.6135102736319294\n",
      "Recall: 0.6743383199079401\n",
      "F1 score: 0.6383641001708866\n"
     ]
    },
    {
     "name": "stderr",
     "output_type": "stream",
     "text": [
      "/Users/los/opt/anaconda3/lib/python3.9/site-packages/sklearn/metrics/_classification.py:1344: UndefinedMetricWarning: Precision is ill-defined and being set to 0.0 in labels with no predicted samples. Use `zero_division` parameter to control this behavior.\n"
     ]
    }
   ],
   "source": [
    "from sklearn.metrics import accuracy_score, precision_score, recall_score, f1_score\n",
    "\n",
    "y_pred = model.predict(X_test_vect)\n",
    "print('Accuracy:', accuracy_score(y_test, y_pred))\n",
    "print('Precision:', precision_score(y_test, y_pred, average='weighted'))\n",
    "print('Recall:', recall_score(y_test, y_pred, average='weighted'))\n",
    "print('F1 score:', f1_score(y_test, y_pred, average='weighted'))\n"
   ]
  },
  {
   "attachments": {},
   "cell_type": "markdown",
   "metadata": {},
   "source": [
    "### CNN Model "
   ]
  },
  {
   "cell_type": "code",
   "execution_count": 1,
   "metadata": {},
   "outputs": [
    {
     "ename": "NameError",
     "evalue": "name 'Sequential' is not defined",
     "output_type": "error",
     "traceback": [
      "\u001b[0;31m---------------------------------------------------------------------------\u001b[0m",
      "\u001b[0;31mNameError\u001b[0m                                 Traceback (most recent call last)",
      "\u001b[0;32m/var/folders/18/920vt1r90t39q35zb6glj_6h0000gn/T/ipykernel_26966/1528894576.py\u001b[0m in \u001b[0;36m<module>\u001b[0;34m\u001b[0m\n\u001b[0;32m----> 1\u001b[0;31m \u001b[0mmodel\u001b[0m \u001b[0;34m=\u001b[0m \u001b[0mSequential\u001b[0m\u001b[0;34m(\u001b[0m\u001b[0;34m)\u001b[0m\u001b[0;34m\u001b[0m\u001b[0;34m\u001b[0m\u001b[0m\n\u001b[0m\u001b[1;32m      2\u001b[0m \u001b[0mmodel\u001b[0m\u001b[0;34m.\u001b[0m\u001b[0madd\u001b[0m\u001b[0;34m(\u001b[0m\u001b[0mEmbedding\u001b[0m\u001b[0;34m(\u001b[0m\u001b[0minput_dim\u001b[0m\u001b[0;34m=\u001b[0m\u001b[0mnum_words\u001b[0m\u001b[0;34m,\u001b[0m \u001b[0moutput_dim\u001b[0m\u001b[0;34m=\u001b[0m\u001b[0membedding_dim\u001b[0m\u001b[0;34m,\u001b[0m \u001b[0minput_length\u001b[0m\u001b[0;34m=\u001b[0m\u001b[0mmax_seq_len\u001b[0m\u001b[0;34m)\u001b[0m\u001b[0;34m)\u001b[0m\u001b[0;34m\u001b[0m\u001b[0;34m\u001b[0m\u001b[0m\n\u001b[1;32m      3\u001b[0m \u001b[0mmodel\u001b[0m\u001b[0;34m.\u001b[0m\u001b[0madd\u001b[0m\u001b[0;34m(\u001b[0m\u001b[0mConv1D\u001b[0m\u001b[0;34m(\u001b[0m\u001b[0mfilters\u001b[0m\u001b[0;34m=\u001b[0m\u001b[0;36m32\u001b[0m\u001b[0;34m,\u001b[0m \u001b[0mkernel_size\u001b[0m\u001b[0;34m=\u001b[0m\u001b[0;36m3\u001b[0m\u001b[0;34m,\u001b[0m \u001b[0mactivation\u001b[0m\u001b[0;34m=\u001b[0m\u001b[0;34m'relu'\u001b[0m\u001b[0;34m)\u001b[0m\u001b[0;34m)\u001b[0m\u001b[0;34m\u001b[0m\u001b[0;34m\u001b[0m\u001b[0m\n\u001b[1;32m      4\u001b[0m \u001b[0mmodel\u001b[0m\u001b[0;34m.\u001b[0m\u001b[0madd\u001b[0m\u001b[0;34m(\u001b[0m\u001b[0mMaxPooling1D\u001b[0m\u001b[0;34m(\u001b[0m\u001b[0mpool_size\u001b[0m\u001b[0;34m=\u001b[0m\u001b[0;36m2\u001b[0m\u001b[0;34m)\u001b[0m\u001b[0;34m)\u001b[0m\u001b[0;34m\u001b[0m\u001b[0;34m\u001b[0m\u001b[0m\n\u001b[1;32m      5\u001b[0m \u001b[0mmodel\u001b[0m\u001b[0;34m.\u001b[0m\u001b[0madd\u001b[0m\u001b[0;34m(\u001b[0m\u001b[0mFlatten\u001b[0m\u001b[0;34m(\u001b[0m\u001b[0;34m)\u001b[0m\u001b[0;34m)\u001b[0m\u001b[0;34m\u001b[0m\u001b[0;34m\u001b[0m\u001b[0m\n",
      "\u001b[0;31mNameError\u001b[0m: name 'Sequential' is not defined"
     ]
    }
   ],
   "source": [
    "num_classes = 3\n",
    "model = Sequential()\n",
    "model.add(Embedding(input_dim=num_words, output_dim=embedding_dim, input_length=max_seq_len))\n",
    "model.add(Conv1D(filters=32, kernel_size=3, activation='relu'))\n",
    "model.add(MaxPooling1D(pool_size=2))\n",
    "model.add(Flatten())\n",
    "model.add(Dense(units=64, activation='relu'))\n",
    "model.add(Dense(units=num_classes, activation='softmax'))\n",
    "\n",
    "model.compile(optimizer=Adam(lr=0.001), loss='categorical_crossentropy', metrics=['accuracy'])\n",
    "\n",
    "# Train model\n",
    "callbacks = [EarlyStopping(monitor='val_loss', patience=3)]\n",
    "model.fit(X_train, y_train, validation_data=(X_val, y_val), epochs=10, batch_size=64, callbacks=callbacks)\n",
    "\n",
    "# Evaluate model on test set\n",
    "score = model.evaluate(X_test, y_test, verbose=0)\n",
    "print('Test loss:', score[0])\n",
    "print('Test accuracy:', score[1])"
   ]
  },
  {
   "cell_type": "markdown",
   "metadata": {},
   "source": []
  }
 ],
 "metadata": {
  "kernelspec": {
   "display_name": "base",
   "language": "python",
   "name": "python3"
  },
  "language_info": {
   "codemirror_mode": {
    "name": "ipython",
    "version": 3
   },
   "file_extension": ".py",
   "mimetype": "text/x-python",
   "name": "python",
   "nbconvert_exporter": "python",
   "pygments_lexer": "ipython3",
   "version": "3.9.13"
  },
  "orig_nbformat": 4
 },
 "nbformat": 4,
 "nbformat_minor": 2
}
