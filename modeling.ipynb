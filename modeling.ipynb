{
 "cells": [
  {
   "cell_type": "code",
   "execution_count": 2,
   "metadata": {},
   "outputs": [
    {
     "ename": "ModuleNotFoundError",
     "evalue": "No module named 'plotnine'",
     "output_type": "error",
     "traceback": [
      "\u001b[0;31m---------------------------------------------------------------------------\u001b[0m",
      "\u001b[0;31mModuleNotFoundError\u001b[0m                       Traceback (most recent call last)",
      "\u001b[0;32m/var/folders/18/920vt1r90t39q35zb6glj_6h0000gn/T/ipykernel_20532/2164865019.py\u001b[0m in \u001b[0;36m<module>\u001b[0;34m\u001b[0m\n\u001b[1;32m     11\u001b[0m \u001b[0;34m\u001b[0m\u001b[0m\n\u001b[1;32m     12\u001b[0m \u001b[0;32mfrom\u001b[0m \u001b[0mafinn\u001b[0m \u001b[0;32mimport\u001b[0m \u001b[0mAfinn\u001b[0m\u001b[0;34m\u001b[0m\u001b[0;34m\u001b[0m\u001b[0m\n\u001b[0;32m---> 13\u001b[0;31m \u001b[0;32mfrom\u001b[0m \u001b[0mplotnine\u001b[0m \u001b[0;32mimport\u001b[0m \u001b[0mggplot\u001b[0m\u001b[0;34m,\u001b[0m \u001b[0maes\u001b[0m\u001b[0;34m,\u001b[0m \u001b[0mgeom_bar\u001b[0m\u001b[0;34m,\u001b[0m \u001b[0mlabs\u001b[0m\u001b[0;34m,\u001b[0m \u001b[0mxlim\u001b[0m\u001b[0;34m\u001b[0m\u001b[0;34m\u001b[0m\u001b[0m\n\u001b[0m\u001b[1;32m     14\u001b[0m \u001b[0;34m\u001b[0m\u001b[0m\n\u001b[1;32m     15\u001b[0m \u001b[0;32mimport\u001b[0m \u001b[0mgensim\u001b[0m\u001b[0;34m\u001b[0m\u001b[0;34m\u001b[0m\u001b[0m\n",
      "\u001b[0;31mModuleNotFoundError\u001b[0m: No module named 'plotnine'"
     ]
    }
   ],
   "source": [
    "import pandas as pd\n",
    "import numpy as np\n",
    "import matplotlib.pyplot as plt\n",
    "\n",
    "import re\n",
    "import string\n",
    "import itertools\n",
    "\n",
    "import nltk \n",
    "from nltk.corpus import sentiwordnet as swn \n",
    "\n",
    "from afinn import Afinn\n",
    "from plotnine import ggplot, aes, geom_bar, labs, xlim\n",
    "\n",
    "import gensim\n",
    "from gensim import corpora\n",
    "from gensim.models import LdaModel\n",
    "from gensim.models import CoherenceModel\n"
   ]
  },
  {
   "cell_type": "code",
   "execution_count": null,
   "metadata": {},
   "outputs": [
    {
     "ename": "NameError",
     "evalue": "name 'pd' is not defined",
     "output_type": "error",
     "traceback": [
      "\u001b[0;31m---------------------------------------------------------------------------\u001b[0m",
      "\u001b[0;31mNameError\u001b[0m                                 Traceback (most recent call last)",
      "\u001b[0;32m/var/folders/18/920vt1r90t39q35zb6glj_6h0000gn/T/ipykernel_20532/3953756688.py\u001b[0m in \u001b[0;36m<module>\u001b[0;34m\u001b[0m\n\u001b[0;32m----> 1\u001b[0;31m \u001b[0mdf\u001b[0m \u001b[0;34m=\u001b[0m \u001b[0mpd\u001b[0m\u001b[0;34m.\u001b[0m\u001b[0mread_csv\u001b[0m\u001b[0;34m(\u001b[0m\u001b[0;34m'GTA_V_cleaned.csv'\u001b[0m\u001b[0;34m)\u001b[0m\u001b[0;34m\u001b[0m\u001b[0;34m\u001b[0m\u001b[0m\n\u001b[0m\u001b[1;32m      2\u001b[0m \u001b[0mdf\u001b[0m\u001b[0;34m.\u001b[0m\u001b[0mhead\u001b[0m\u001b[0;34m(\u001b[0m\u001b[0;34m)\u001b[0m\u001b[0;34m\u001b[0m\u001b[0;34m\u001b[0m\u001b[0m\n",
      "\u001b[0;31mNameError\u001b[0m: name 'pd' is not defined"
     ]
    }
   ],
   "source": [
    "df = pd.read_csv('GTA_V_cleaned.csv')\n",
    "df.head()\n"
   ]
  },
  {
   "cell_type": "code",
   "execution_count": 4,
   "metadata": {},
   "outputs": [
    {
     "data": {
      "text/plain": [
       "-3.0"
      ]
     },
     "execution_count": 4,
     "metadata": {},
     "output_type": "execute_result"
    }
   ],
   "source": [
    "afinn = Afinn()\n",
    "afinn.score('love')\n",
    "\n"
   ]
  },
  {
   "cell_type": "code",
   "execution_count": 11,
   "metadata": {},
   "outputs": [
    {
     "data": {
      "text/plain": [
       "'g o o d'"
      ]
     },
     "execution_count": 11,
     "metadata": {},
     "output_type": "execute_result"
    }
   ],
   "source": [
    "test = df['review'][10]\n",
    "test_text = ' '.join(test)\n",
    "test_text"
   ]
  },
  {
   "cell_type": "code",
   "execution_count": 12,
   "metadata": {},
   "outputs": [
    {
     "name": "stdout",
     "output_type": "stream",
     "text": [
      "0.0\n"
     ]
    }
   ],
   "source": [
    "score = afinn.score(test_text)\n",
    "print(score)"
   ]
  },
  {
   "cell_type": "code",
   "execution_count": 14,
   "metadata": {},
   "outputs": [
    {
     "data": {
      "text/plain": [
       "count    18596.000000\n",
       "mean         1.519413\n",
       "std          5.105954\n",
       "min       -270.000000\n",
       "25%          0.000000\n",
       "50%          1.000000\n",
       "75%          3.000000\n",
       "max        594.000000\n",
       "Name: sentiment_score, dtype: float64"
      ]
     },
     "execution_count": 14,
     "metadata": {},
     "output_type": "execute_result"
    }
   ],
   "source": [
    "def calculate_sentiment_score(text):\n",
    "    return afinn.score(text)\n",
    "df['sentiment_score'] = df['cleaned_text'].apply(calculate_sentiment_score)\n",
    "df['sentiment_score'].describe()"
   ]
  },
  {
   "cell_type": "code",
   "execution_count": 16,
   "metadata": {},
   "outputs": [
    {
     "name": "stdout",
     "output_type": "stream",
     "text": [
      "15103    I HATE CAYO SETUPS I HATE CAYO SETUPS I HATE C...\n",
      "Name: review, dtype: object\n"
     ]
    }
   ],
   "source": [
    "lower_outl = df.loc[df['sentiment_score']==-270]\n",
    "print(lower_outl['review'])"
   ]
  },
  {
   "cell_type": "code",
   "execution_count": 17,
   "metadata": {},
   "outputs": [
    {
     "name": "stderr",
     "output_type": "stream",
     "text": [
      "c:\\Users\\thech\\anaconda3\\lib\\site-packages\\plotnine\\layer.py:333: PlotnineWarning: stat_count : Removed 168 rows containing non-finite values.\n",
      "c:\\Users\\thech\\anaconda3\\lib\\site-packages\\plotnine\\layer.py:411: PlotnineWarning: geom_bar : Removed 2 rows containing missing values.\n"
     ]
    },
    {
     "data": {
      "image/png": "[encoded data removed]",
      "text/plain": [
       "<Figure size 640x480 with 1 Axes>"
      ]
     },
     "metadata": {},
     "output_type": "display_data"
    },
    {
     "data": {
      "text/plain": [
       "<ggplot: (176221977067)>"
      ]
     },
     "execution_count": 17,
     "metadata": {},
     "output_type": "execute_result"
    }
   ],
   "source": [
    "(ggplot(df, aes(x='sentiment_score')) \n",
    " + geom_bar() \n",
    " + labs(x=\"Sentiment Score\", y=\"Frequency\") \n",
    " + xlim(-5, 5)\n",
    ")"
   ]
  },
  {
   "attachments": {},
   "cell_type": "markdown",
   "metadata": {},
   "source": [
    "### Overall sentiment using AFINN shows that game rarely gets below a nuetral (0) but also has just as many users with positive sentiment as nuetral\n"
   ]
  },
  {
   "cell_type": "code",
   "execution_count": 18,
   "metadata": {},
   "outputs": [
    {
     "data": {
      "text/html": [
       "<div>\n",
       "<style scoped>\n",
       "    .dataframe tbody tr th:only-of-type {\n",
       "        vertical-align: middle;\n",
       "    }\n",
       "\n",
       "    .dataframe tbody tr th {\n",
       "        vertical-align: top;\n",
       "    }\n",
       "\n",
       "    .dataframe thead th {\n",
       "        text-align: right;\n",
       "    }\n",
       "</style>\n",
       "<table border=\"1\" class=\"dataframe\">\n",
       "  <thead>\n",
       "    <tr style=\"text-align: right;\">\n",
       "      <th></th>\n",
       "      <th>recommendationid</th>\n",
       "      <th>language</th>\n",
       "      <th>review</th>\n",
       "      <th>timestamp_created</th>\n",
       "      <th>timestamp_updated</th>\n",
       "      <th>voted_up</th>\n",
       "      <th>votes_up</th>\n",
       "      <th>votes_funny</th>\n",
       "      <th>weighted_vote_score</th>\n",
       "      <th>comment_count</th>\n",
       "      <th>...</th>\n",
       "      <th>steamid</th>\n",
       "      <th>num_games_owned</th>\n",
       "      <th>num_reviews</th>\n",
       "      <th>playtime_forever</th>\n",
       "      <th>playtime_last_two_weeks</th>\n",
       "      <th>playtime_at_review</th>\n",
       "      <th>last_played</th>\n",
       "      <th>preprocessed_text</th>\n",
       "      <th>cleaned_text</th>\n",
       "      <th>sentiment_score</th>\n",
       "    </tr>\n",
       "  </thead>\n",
       "  <tbody>\n",
       "    <tr>\n",
       "      <th>9519</th>\n",
       "      <td>124418522</td>\n",
       "      <td>english</td>\n",
       "      <td>HARD WORK :)</td>\n",
       "      <td>1666792862</td>\n",
       "      <td>1666792862</td>\n",
       "      <td>True</td>\n",
       "      <td>0</td>\n",
       "      <td>0</td>\n",
       "      <td>0.000000</td>\n",
       "      <td>0</td>\n",
       "      <td>...</td>\n",
       "      <td>76561199278310073</td>\n",
       "      <td>2</td>\n",
       "      <td>4</td>\n",
       "      <td>13117</td>\n",
       "      <td>0</td>\n",
       "      <td>1189</td>\n",
       "      <td>2023-02-12 05:58:08</td>\n",
       "      <td>[('hard', 'JJ'), ('work', 'NN')]</td>\n",
       "      <td>['hard', 'work']</td>\n",
       "      <td>-1.0</td>\n",
       "    </tr>\n",
       "    <tr>\n",
       "      <th>2172</th>\n",
       "      <td>132100657</td>\n",
       "      <td>english</td>\n",
       "      <td>games fucking stupid</td>\n",
       "      <td>1675393502</td>\n",
       "      <td>1675393502</td>\n",
       "      <td>False</td>\n",
       "      <td>0</td>\n",
       "      <td>0</td>\n",
       "      <td>0.000000</td>\n",
       "      <td>0</td>\n",
       "      <td>...</td>\n",
       "      <td>76561198280852245</td>\n",
       "      <td>67</td>\n",
       "      <td>8</td>\n",
       "      <td>3456</td>\n",
       "      <td>13</td>\n",
       "      <td>2013</td>\n",
       "      <td>2023-03-02 22:18:43</td>\n",
       "      <td>[('game', 'NN'), ('fucking', 'VBG'), ('stupid'...</td>\n",
       "      <td>['game', 'fucking', 'stupid']</td>\n",
       "      <td>-6.0</td>\n",
       "    </tr>\n",
       "    <tr>\n",
       "      <th>14652</th>\n",
       "      <td>120450528</td>\n",
       "      <td>english</td>\n",
       "      <td>good shit</td>\n",
       "      <td>1660235011</td>\n",
       "      <td>1660235011</td>\n",
       "      <td>True</td>\n",
       "      <td>1</td>\n",
       "      <td>0</td>\n",
       "      <td>0.522059</td>\n",
       "      <td>0</td>\n",
       "      <td>...</td>\n",
       "      <td>76561198973435170</td>\n",
       "      <td>49</td>\n",
       "      <td>1</td>\n",
       "      <td>2887</td>\n",
       "      <td>0</td>\n",
       "      <td>1884</td>\n",
       "      <td>2022-09-16 10:05:42</td>\n",
       "      <td>[('good', 'JJ'), ('shit', 'NN')]</td>\n",
       "      <td>['good', 'shit']</td>\n",
       "      <td>-1.0</td>\n",
       "    </tr>\n",
       "    <tr>\n",
       "      <th>8005</th>\n",
       "      <td>126191167</td>\n",
       "      <td>english</td>\n",
       "      <td>fire</td>\n",
       "      <td>1669179815</td>\n",
       "      <td>1669179815</td>\n",
       "      <td>True</td>\n",
       "      <td>0</td>\n",
       "      <td>0</td>\n",
       "      <td>0.000000</td>\n",
       "      <td>0</td>\n",
       "      <td>...</td>\n",
       "      <td>76561199277186573</td>\n",
       "      <td>2</td>\n",
       "      <td>1</td>\n",
       "      <td>3349</td>\n",
       "      <td>1</td>\n",
       "      <td>841</td>\n",
       "      <td>2023-02-24 20:08:34</td>\n",
       "      <td>[('fire', 'NN')]</td>\n",
       "      <td>['fire']</td>\n",
       "      <td>-2.0</td>\n",
       "    </tr>\n",
       "    <tr>\n",
       "      <th>10378</th>\n",
       "      <td>123680561</td>\n",
       "      <td>english</td>\n",
       "      <td>Its fucking GTA</td>\n",
       "      <td>1665495462</td>\n",
       "      <td>1665495462</td>\n",
       "      <td>True</td>\n",
       "      <td>0</td>\n",
       "      <td>1</td>\n",
       "      <td>0.000000</td>\n",
       "      <td>0</td>\n",
       "      <td>...</td>\n",
       "      <td>76561199066110491</td>\n",
       "      <td>37</td>\n",
       "      <td>8</td>\n",
       "      <td>6076</td>\n",
       "      <td>0</td>\n",
       "      <td>1457</td>\n",
       "      <td>2022-12-21 21:46:41</td>\n",
       "      <td>[('fucking', 'VBG'), ('gta', 'NN')]</td>\n",
       "      <td>['fucking', 'gta']</td>\n",
       "      <td>-4.0</td>\n",
       "    </tr>\n",
       "    <tr>\n",
       "      <th>18512</th>\n",
       "      <td>117981808</td>\n",
       "      <td>english</td>\n",
       "      <td>FIRE ASS GAME</td>\n",
       "      <td>1656665462</td>\n",
       "      <td>1656665462</td>\n",
       "      <td>True</td>\n",
       "      <td>0</td>\n",
       "      <td>0</td>\n",
       "      <td>0.000000</td>\n",
       "      <td>0</td>\n",
       "      <td>...</td>\n",
       "      <td>76561199051836276</td>\n",
       "      <td>18</td>\n",
       "      <td>7</td>\n",
       "      <td>17272</td>\n",
       "      <td>0</td>\n",
       "      <td>196</td>\n",
       "      <td>2023-02-11 19:23:07</td>\n",
       "      <td>[('fire', 'NN'), ('as', 'IN'), ('game', 'NN')]</td>\n",
       "      <td>['fire', 'as', 'game']</td>\n",
       "      <td>-2.0</td>\n",
       "    </tr>\n",
       "    <tr>\n",
       "      <th>1584</th>\n",
       "      <td>132636006</td>\n",
       "      <td>english</td>\n",
       "      <td>I LIKE THE NIGGA IN MY SLAVE</td>\n",
       "      <td>1676134358</td>\n",
       "      <td>1676134358</td>\n",
       "      <td>True</td>\n",
       "      <td>0</td>\n",
       "      <td>0</td>\n",
       "      <td>0.000000</td>\n",
       "      <td>0</td>\n",
       "      <td>...</td>\n",
       "      <td>76561199228670232</td>\n",
       "      <td>10</td>\n",
       "      <td>5</td>\n",
       "      <td>7273</td>\n",
       "      <td>3010</td>\n",
       "      <td>2317</td>\n",
       "      <td>2023-03-09 16:38:55</td>\n",
       "      <td>[('like', 'IN'), ('nigga', 'NNS'), ('slave', '...</td>\n",
       "      <td>['like', 'nigga', 'slave']</td>\n",
       "      <td>-1.0</td>\n",
       "    </tr>\n",
       "    <tr>\n",
       "      <th>1865</th>\n",
       "      <td>132346809</td>\n",
       "      <td>english</td>\n",
       "      <td>GOOFY</td>\n",
       "      <td>1675732434</td>\n",
       "      <td>1675732434</td>\n",
       "      <td>True</td>\n",
       "      <td>1</td>\n",
       "      <td>0</td>\n",
       "      <td>0.523810</td>\n",
       "      <td>0</td>\n",
       "      <td>...</td>\n",
       "      <td>76561199123484492</td>\n",
       "      <td>24</td>\n",
       "      <td>4</td>\n",
       "      <td>379</td>\n",
       "      <td>0</td>\n",
       "      <td>257</td>\n",
       "      <td>2023-02-08 17:06:54</td>\n",
       "      <td>[('goofy', 'NN')]</td>\n",
       "      <td>['goofy']</td>\n",
       "      <td>-2.0</td>\n",
       "    </tr>\n",
       "    <tr>\n",
       "      <th>4364</th>\n",
       "      <td>130334790</td>\n",
       "      <td>english</td>\n",
       "      <td>fire</td>\n",
       "      <td>1673083195</td>\n",
       "      <td>1673083195</td>\n",
       "      <td>True</td>\n",
       "      <td>0</td>\n",
       "      <td>0</td>\n",
       "      <td>0.000000</td>\n",
       "      <td>0</td>\n",
       "      <td>...</td>\n",
       "      <td>76561199188714027</td>\n",
       "      <td>6</td>\n",
       "      <td>1</td>\n",
       "      <td>14115</td>\n",
       "      <td>0</td>\n",
       "      <td>9109</td>\n",
       "      <td>2023-01-16 21:09:06</td>\n",
       "      <td>[('fire', 'NN')]</td>\n",
       "      <td>['fire']</td>\n",
       "      <td>-2.0</td>\n",
       "    </tr>\n",
       "    <tr>\n",
       "      <th>1560</th>\n",
       "      <td>132648592</td>\n",
       "      <td>english</td>\n",
       "      <td>bad game</td>\n",
       "      <td>1676144152</td>\n",
       "      <td>1676144152</td>\n",
       "      <td>False</td>\n",
       "      <td>0</td>\n",
       "      <td>0</td>\n",
       "      <td>0.000000</td>\n",
       "      <td>0</td>\n",
       "      <td>...</td>\n",
       "      <td>76561199162477857</td>\n",
       "      <td>23</td>\n",
       "      <td>1</td>\n",
       "      <td>30713</td>\n",
       "      <td>0</td>\n",
       "      <td>30242</td>\n",
       "      <td>2023-02-21 17:37:55</td>\n",
       "      <td>[('bad', 'JJ'), ('game', 'NN')]</td>\n",
       "      <td>['bad', 'game']</td>\n",
       "      <td>-3.0</td>\n",
       "    </tr>\n",
       "  </tbody>\n",
       "</table>\n",
       "<p>10 rows × 24 columns</p>\n",
       "</div>"
      ],
      "text/plain": [
       "       recommendationid language                        review  \\\n",
       "9519          124418522  english                  HARD WORK :)   \n",
       "2172          132100657  english          games fucking stupid   \n",
       "14652         120450528  english                     good shit   \n",
       "8005          126191167  english                          fire   \n",
       "10378         123680561  english               Its fucking GTA   \n",
       "18512         117981808  english                 FIRE ASS GAME   \n",
       "1584          132636006  english  I LIKE THE NIGGA IN MY SLAVE   \n",
       "1865          132346809  english                         GOOFY   \n",
       "4364          130334790  english                          fire   \n",
       "1560          132648592  english                      bad game   \n",
       "\n",
       "       timestamp_created  timestamp_updated  voted_up  votes_up  votes_funny  \\\n",
       "9519          1666792862         1666792862      True         0            0   \n",
       "2172          1675393502         1675393502     False         0            0   \n",
       "14652         1660235011         1660235011      True         1            0   \n",
       "8005          1669179815         1669179815      True         0            0   \n",
       "10378         1665495462         1665495462      True         0            1   \n",
       "18512         1656665462         1656665462      True         0            0   \n",
       "1584          1676134358         1676134358      True         0            0   \n",
       "1865          1675732434         1675732434      True         1            0   \n",
       "4364          1673083195         1673083195      True         0            0   \n",
       "1560          1676144152         1676144152     False         0            0   \n",
       "\n",
       "       weighted_vote_score  comment_count  ...            steamid  \\\n",
       "9519              0.000000              0  ...  76561199278310073   \n",
       "2172              0.000000              0  ...  76561198280852245   \n",
       "14652             0.522059              0  ...  76561198973435170   \n",
       "8005              0.000000              0  ...  76561199277186573   \n",
       "10378             0.000000              0  ...  76561199066110491   \n",
       "18512             0.000000              0  ...  76561199051836276   \n",
       "1584              0.000000              0  ...  76561199228670232   \n",
       "1865              0.523810              0  ...  76561199123484492   \n",
       "4364              0.000000              0  ...  76561199188714027   \n",
       "1560              0.000000              0  ...  76561199162477857   \n",
       "\n",
       "       num_games_owned  num_reviews  playtime_forever  \\\n",
       "9519                 2            4             13117   \n",
       "2172                67            8              3456   \n",
       "14652               49            1              2887   \n",
       "8005                 2            1              3349   \n",
       "10378               37            8              6076   \n",
       "18512               18            7             17272   \n",
       "1584                10            5              7273   \n",
       "1865                24            4               379   \n",
       "4364                 6            1             14115   \n",
       "1560                23            1             30713   \n",
       "\n",
       "       playtime_last_two_weeks  playtime_at_review          last_played  \\\n",
       "9519                         0                1189  2023-02-12 05:58:08   \n",
       "2172                        13                2013  2023-03-02 22:18:43   \n",
       "14652                        0                1884  2022-09-16 10:05:42   \n",
       "8005                         1                 841  2023-02-24 20:08:34   \n",
       "10378                        0                1457  2022-12-21 21:46:41   \n",
       "18512                        0                 196  2023-02-11 19:23:07   \n",
       "1584                      3010                2317  2023-03-09 16:38:55   \n",
       "1865                         0                 257  2023-02-08 17:06:54   \n",
       "4364                         0                9109  2023-01-16 21:09:06   \n",
       "1560                         0               30242  2023-02-21 17:37:55   \n",
       "\n",
       "                                       preprocessed_text  \\\n",
       "9519                    [('hard', 'JJ'), ('work', 'NN')]   \n",
       "2172   [('game', 'NN'), ('fucking', 'VBG'), ('stupid'...   \n",
       "14652                   [('good', 'JJ'), ('shit', 'NN')]   \n",
       "8005                                    [('fire', 'NN')]   \n",
       "10378                [('fucking', 'VBG'), ('gta', 'NN')]   \n",
       "18512     [('fire', 'NN'), ('as', 'IN'), ('game', 'NN')]   \n",
       "1584   [('like', 'IN'), ('nigga', 'NNS'), ('slave', '...   \n",
       "1865                                   [('goofy', 'NN')]   \n",
       "4364                                    [('fire', 'NN')]   \n",
       "1560                     [('bad', 'JJ'), ('game', 'NN')]   \n",
       "\n",
       "                        cleaned_text  sentiment_score  \n",
       "9519                ['hard', 'work']             -1.0  \n",
       "2172   ['game', 'fucking', 'stupid']             -6.0  \n",
       "14652               ['good', 'shit']             -1.0  \n",
       "8005                        ['fire']             -2.0  \n",
       "10378             ['fucking', 'gta']             -4.0  \n",
       "18512         ['fire', 'as', 'game']             -2.0  \n",
       "1584      ['like', 'nigga', 'slave']             -1.0  \n",
       "1865                       ['goofy']             -2.0  \n",
       "4364                        ['fire']             -2.0  \n",
       "1560                 ['bad', 'game']             -3.0  \n",
       "\n",
       "[10 rows x 24 columns]"
      ]
     },
     "execution_count": 18,
     "metadata": {},
     "output_type": "execute_result"
    }
   ],
   "source": [
    "negative_reviews = df[df['sentiment_score'] < 0]\n",
    "sample_neg_reviews = negative_reviews.sample(n=10, random_state=42)\n",
    "sample_neg_reviews"
   ]
  },
  {
   "cell_type": "code",
   "execution_count": 20,
   "metadata": {},
   "outputs": [
    {
     "name": "stdout",
     "output_type": "stream",
     "text": [
      "Review: ['hard', 'work']\n",
      "Sentiment score: -1.0\n",
      "\n",
      "Review: ['game', 'fucking', 'stupid']\n",
      "Sentiment score: -6.0\n",
      "\n",
      "Review: ['good', 'shit']\n",
      "Sentiment score: -1.0\n",
      "\n",
      "Review: ['fire']\n",
      "Sentiment score: -2.0\n",
      "\n",
      "Review: ['fucking', 'gta']\n",
      "Sentiment score: -4.0\n",
      "\n",
      "Review: ['fire', 'as', 'game']\n",
      "Sentiment score: -2.0\n",
      "\n",
      "Review: ['like', 'nigga', 'slave']\n",
      "Sentiment score: -1.0\n",
      "\n",
      "Review: ['goofy']\n",
      "Sentiment score: -2.0\n",
      "\n",
      "Review: ['fire']\n",
      "Sentiment score: -2.0\n",
      "\n",
      "Review: ['bad', 'game']\n",
      "Sentiment score: -3.0\n",
      "\n"
     ]
    }
   ],
   "source": [
    "for index, row in sample_neg_reviews.iterrows():\n",
    "    print(f\"Review: {''.join(row['cleaned_text'])}\")\n",
    "    print(f\"Sentiment score: {row['sentiment_score']}\\n\")"
   ]
  },
  {
   "cell_type": "code",
   "execution_count": 21,
   "metadata": {},
   "outputs": [
    {
     "name": "stdout",
     "output_type": "stream",
     "text": [
      "Review: ['yummy']\n",
      "Sentiment score: 3.0\n",
      "\n",
      "Review: ['nice']\n",
      "Sentiment score: 3.0\n",
      "\n",
      "Review: ['good', 'game']\n",
      "Sentiment score: 3.0\n",
      "\n",
      "Review: ['good', 'game']\n",
      "Sentiment score: 3.0\n",
      "\n",
      "Review: ['good']\n",
      "Sentiment score: 3.0\n",
      "\n",
      "Review: ['good']\n",
      "Sentiment score: 3.0\n",
      "\n",
      "Review: ['fun']\n",
      "Sentiment score: 4.0\n",
      "\n",
      "Review: ['good']\n",
      "Sentiment score: 3.0\n",
      "\n",
      "Review: ['nice', 'game']\n",
      "Sentiment score: 3.0\n",
      "\n",
      "Review: ['like']\n",
      "Sentiment score: 2.0\n",
      "\n"
     ]
    }
   ],
   "source": [
    "positive_reviews = df[df['sentiment_score']>0]\n",
    "sample_pos_reviews = positive_reviews.sample(n=10, random_state=42)\n",
    "for index, row in sample_pos_reviews.iterrows():\n",
    "    print(f\"Review: {''.join(row['cleaned_text'])}\")\n",
    "    print(f\"Sentiment score: {row['sentiment_score']}\\n\")"
   ]
  },
  {
   "attachments": {},
   "cell_type": "markdown",
   "metadata": {},
   "source": [
    "### SentiWordNet"
   ]
  },
  {
   "cell_type": "code",
   "execution_count": 22,
   "metadata": {},
   "outputs": [],
   "source": [
    "swn_words = [word[0] for row in df['preprocessed_text'] for word in row]\n",
    "synsets = swn.senti_synsets('good', 'a')  # 'a' indicates that the word is an adjective\n",
    "pos_score = neg_score = obj_score = 0"
   ]
  },
  {
   "cell_type": "code",
   "execution_count": 23,
   "metadata": {},
   "outputs": [
    {
     "name": "stdout",
     "output_type": "stream",
     "text": [
      "Positive score: 13.00, Negative score: 0.12, Objective score: 7.88\n"
     ]
    }
   ],
   "source": [
    "for syn in synsets:\n",
    "    pos_score += syn.pos_score()\n",
    "    neg_score += syn.neg_score()\n",
    "    obj_score += syn.obj_score()\n",
    "\n",
    "if len(list(synsets)) >0:\n",
    "    pos_score /= len(synsets)\n",
    "    neg_score /= len(synsets)\n",
    "    obj_score /= len(synsets)\n",
    "print(f\"Positive score: {pos_score:.2f}, Negative score: {neg_score:.2f}, Objective score: {obj_score:.2f}\") #Retirating what previously seen, overall postive from all collected"
   ]
  },
  {
   "cell_type": "code",
   "execution_count": 24,
   "metadata": {},
   "outputs": [],
   "source": [
    "preprocessed_docs = [doc.split() for doc in df['cleaned_text']]\n",
    "dictionary = corpora.Dictionary(preprocessed_docs)\n",
    "corpus = [dictionary.doc2bow(text) for text in preprocessed_docs]\n",
    "texts = [eval(text) for text in df['cleaned_text']]\n",
    "coherence_dict = gensim.corpora.Dictionary(texts)\n",
    "num_topics = 8"
   ]
  },
  {
   "cell_type": "code",
   "execution_count": 25,
   "metadata": {},
   "outputs": [],
   "source": [
    "lda_model = gensim.models.ldamodel.LdaModel(corpus=corpus,\n",
    "                                            id2word=dictionary,\n",
    "                                            num_topics=num_topics,\n",
    "                                            random_state=42,\n",
    "                                            passes=10,\n",
    "                                            per_word_topics=True)"
   ]
  },
  {
   "cell_type": "code",
   "execution_count": 31,
   "metadata": {},
   "outputs": [
    {
     "name": "stdout",
     "output_type": "stream",
     "text": [
      "Topic: 0\n",
      "Top Keywords: 'game'] ['good', 'nice', ['like'] ['cool', 'good', ['game'] ['j'] ['yea'] ['perfect']\n",
      "\n",
      "Topic: 1\n",
      "Top Keywords: ['good'] ['love', ['k'] 'gta', ['pp'] ['w', ['gta', 'v'] 'online'] ['fucking',\n",
      "\n",
      "Topic: 2\n",
      "Top Keywords: ['nice'] ['gud'] 'fun'] ['epic'] ['yes', ['yeah'] ['classic'] 'fun', ['asd'] ['fun',\n",
      "\n",
      "Topic: 3\n",
      "Top Keywords: ['yes'] ['hi'] ['h'] ['like', ['bad'] ['mid'] ['wow'] ['funny', ['amazing'] 'car']\n",
      "\n",
      "Topic: 4\n",
      "Top Keywords: ['w'] ['great'] ['ok'] 'trevor', ['g'] ['ball'] ['l'] 'grec', ['play'] ['goated']\n",
      "\n",
      "Topic: 5\n",
      "Top Keywords: 'game', ['best', 'game'] ['e'] 'ever'] ['shit', ['f'] 'play'] 'play', ['sus']\n",
      "\n",
      "Topic: 6\n",
      "Top Keywords: ['fun'] ['gta'] ['love'] 'hate', 'cayo', 'setup', ['best'] ['noice'] ['ye'] ['lol']\n",
      "\n",
      "Topic: 7\n",
      "Top Keywords: 'game'] ['great', ['nice', ['cool'] ['gg'] 'good'] ['game', 'gta'] ['op'] ['n']\n",
      "\n"
     ]
    }
   ],
   "source": [
    "for idx, topic in lda_model.print_topics(-1):\n",
    "    print(f'Topic: {idx}')\n",
    "    keywords = \" \".join(word for word, _ in lda_model.show_topic(idx, topn=10))\n",
    "    print(f'Top Keywords: {keywords}\\n')\n"
   ]
  },
  {
   "cell_type": "code",
   "execution_count": 33,
   "metadata": {},
   "outputs": [
    {
     "name": "stdout",
     "output_type": "stream",
     "text": [
      "Coherence Score: nan\n"
     ]
    },
    {
     "name": "stderr",
     "output_type": "stream",
     "text": [
      "c:\\Users\\thech\\anaconda3\\lib\\site-packages\\gensim\\topic_coherence\\direct_confirmation_measure.py:202: RuntimeWarning: invalid value encountered in true_divide\n",
      "c:\\Users\\thech\\anaconda3\\lib\\site-packages\\gensim\\topic_coherence\\direct_confirmation_measure.py:203: RuntimeWarning: invalid value encountered in true_divide\n",
      "c:\\Users\\thech\\anaconda3\\lib\\site-packages\\gensim\\topic_coherence\\direct_confirmation_measure.py:198: RuntimeWarning: invalid value encountered in true_divide\n"
     ]
    }
   ],
   "source": [
    "coherence_model = CoherenceModel(\n",
    "    model=lda_model,\n",
    "    texts=texts,\n",
    "    dictionary=dictionary,\n",
    "    coherence='c_v'\n",
    ")\n",
    "\n",
    "coherence_score = coherence_model.get_coherence()\n",
    "print(f\"Coherence Score: {coherence_score}\")"
   ]
  },
  {
   "cell_type": "code",
   "execution_count": null,
   "metadata": {},
   "outputs": [],
   "source": []
  }
 ],
 "metadata": {
  "kernelspec": {
   "display_name": "base",
   "language": "python",
   "name": "python3"
  },
  "language_info": {
   "codemirror_mode": {
    "name": "ipython",
    "version": 3
   },
   "file_extension": ".py",
   "mimetype": "text/x-python",
   "name": "python",
   "nbconvert_exporter": "python",
   "pygments_lexer": "ipython3",
   "version": "3.9.13"
  },
  "orig_nbformat": 4
 },
 "nbformat": 4,
 "nbformat_minor": 2
}
